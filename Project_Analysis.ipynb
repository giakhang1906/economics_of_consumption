{
 "cells": [
  {
   "cell_type": "code",
   "execution_count": 35,
   "metadata": {},
   "outputs": [],
   "source": [
    "#Imports\n",
    "import os\n",
    "import pandas as pd\n",
    "import matplotlib.pyplot as plt\n",
    "import statsmodels.formula.api as sm\n",
    "import numpy as np"
   ]
  },
  {
   "cell_type": "code",
   "execution_count": 36,
   "metadata": {},
   "outputs": [
    {
     "name": "stdout",
     "output_type": "stream",
     "text": [
      "      Province  District  Commune  Household_ID  timeid  Access_Internet  \\\n",
      "0          105         1       17             1    2010              3.0   \n",
      "3260       217        19       25            16    2010              5.0   \n",
      "3264       217        19       25            17    2010              5.0   \n",
      "3268       217        19       25            18    2010              1.0   \n",
      "7516       801         5       17             3    2010              1.0   \n",
      "\n",
      "      Access_Service  Annual_Income  COCC  Disaster  Family_Size  \\\n",
      "0                2.0         245800     2         2            6   \n",
      "3260             1.0         119442     2         2            6   \n",
      "3264             2.0          68780     2         2            5   \n",
      "3268             2.0          66210     2         2            6   \n",
      "7516             1.0         175260     2         2            5   \n",
      "\n",
      "      Food_Consumption  Have_Insurance  Interest_Purchasing  Loan_Rejected  \\\n",
      "0            7001923.0               1                 98.0            0.0   \n",
      "3260         4001704.0               1                 98.0            0.0   \n",
      "3264        11000269.0               1                 98.0            0.0   \n",
      "3268         8000702.0               1                 50.0            0.0   \n",
      "7516         5002325.0               1                 98.0            0.0   \n",
      "\n",
      "      Plot_Investment_Dummy  Transfer_Received  \n",
      "0                       NaN             189000  \n",
      "3260                    NaN              40912  \n",
      "3264                    NaN               1650  \n",
      "3268                    NaN                550  \n",
      "7516                    NaN               3100  \n"
     ]
    }
   ],
   "source": [
    "#Working directory\n",
    "os.chdir('/Users/khangphamgia/Downloads/2008-16Clean')\n",
    "#Load data\n",
    "df = pd.read_excel('/Users/khangphamgia/Downloads/2008-16Clean/pivot_df.xlsx')\n",
    "df = df.sort_values(['timeid'], ascending=True)\n",
    "print(df.head())"
   ]
  },
  {
   "cell_type": "code",
   "execution_count": 37,
   "metadata": {},
   "outputs": [
    {
     "name": "stdout",
     "output_type": "stream",
     "text": [
      "Plot_Investment_Dummy\n",
      "2.0    837\n",
      "1.0    357\n",
      "Name: count, dtype: int64\n"
     ]
    }
   ],
   "source": [
    "print(df['Plot_Investment_Dummy'].value_counts())"
   ]
  },
  {
   "cell_type": "code",
   "execution_count": 38,
   "metadata": {},
   "outputs": [],
   "source": [
    "#Transform variables\n",
    "#Divide annual income by 12\n",
    "df['Annual_Income'] = df['Annual_Income'] / 12\n",
    "#In the 'Disaster' column, relace the value 2 with 0\n",
    "df['Disaster'] = df['Disaster'].replace(2, 0)\n",
    "#In the 'Have_Insurance' column, relace the value 2 with 0\n",
    "df['Have_Insurance'] = df['Have_Insurance'].replace(2, 0)\n",
    "#In the 'Access_Service' column, relace the value 2 with 0\n",
    "df['Access_Service'] = df['Access_Service'].replace(2, 0)\n",
    "#In the 'COCC' column, relace the value 2 with 0\n",
    "df['COCC'] = df['COCC'].replace(2, 0)\n",
    "#In the 'Plot_Investment_Dummy' column, relace the value 2 and NaN with 0 \n",
    "df['Plot_Investment_Dummy'] = df['Plot_Investment_Dummy'].replace([2, np.nan], 0)"
   ]
  },
  {
   "cell_type": "code",
   "execution_count": 39,
   "metadata": {},
   "outputs": [
    {
     "name": "stdout",
     "output_type": "stream",
     "text": [
      "       Annual_Income     Disaster  Have_Insurance  Loan_Rejected  \\\n",
      "count    8336.000000  8336.000000     8336.000000    8183.000000   \n",
      "mean     8100.619202     0.464012        0.904031       0.221435   \n",
      "std     10726.714876     0.498733        0.294567       4.341744   \n",
      "min    -31750.000000     0.000000        0.000000       0.000000   \n",
      "25%      3083.020833     0.000000        1.000000       0.000000   \n",
      "50%      5535.416667     0.000000        1.000000       0.000000   \n",
      "75%      9683.458333     1.000000        1.000000       0.000000   \n",
      "max    225930.000000     1.000000        1.000000      98.000000   \n",
      "\n",
      "       Food_Consumption  \n",
      "count      8.305000e+03  \n",
      "mean       3.510295e+06  \n",
      "std        3.963874e+06  \n",
      "min        2.000000e+01  \n",
      "25%        8.300000e+02  \n",
      "50%        3.420000e+03  \n",
      "75%        7.001033e+06  \n",
      "max        1.399999e+07  \n"
     ]
    }
   ],
   "source": [
    "#Summary statistics of several variables \n",
    "print(df[[\"Annual_Income\", \"Disaster\", \"Have_Insurance\", \"Loan_Rejected\", \"Food_Consumption\"]].describe())\n"
   ]
  },
  {
   "cell_type": "markdown",
   "metadata": {},
   "source": [
    "**Distribution of having insurance**"
   ]
  },
  {
   "cell_type": "code",
   "execution_count": 40,
   "metadata": {},
   "outputs": [
    {
     "name": "stdout",
     "output_type": "stream",
     "text": [
      "Have_Insurance\n",
      "1    7536\n",
      "0     800\n",
      "Name: count, dtype: int64\n"
     ]
    }
   ],
   "source": [
    "#Check for distribution of have insurance\n",
    "print(df['Have_Insurance'].value_counts())"
   ]
  },
  {
   "cell_type": "markdown",
   "metadata": {},
   "source": [
    "**Check for liquidity Constraint**"
   ]
  },
  {
   "cell_type": "code",
   "execution_count": 41,
   "metadata": {},
   "outputs": [
    {
     "name": "stdout",
     "output_type": "stream",
     "text": [
      "timeid  Loan_Rejected\n",
      "2010    0.0              0.983301\n",
      "        1.0              0.006385\n",
      "        2.0              0.004912\n",
      "        3.0              0.002456\n",
      "        4.0              0.000982\n",
      "        10.0             0.000982\n",
      "        5.0              0.000982\n",
      "2012    0.0              0.987355\n",
      "        2.0              0.006576\n",
      "        1.0              0.004047\n",
      "        3.0              0.001012\n",
      "        5.0              0.000506\n",
      "        4.0              0.000506\n",
      "2014    0.0              0.988406\n",
      "        1.0              0.003382\n",
      "        3.0              0.002415\n",
      "        5.0              0.002415\n",
      "        7.0              0.000966\n",
      "        2.0              0.000966\n",
      "        4.0              0.000966\n",
      "        10.0             0.000483\n",
      "2016    0.0              0.993282\n",
      "        1.0              0.002879\n",
      "        2.0              0.002399\n",
      "        3.0              0.000960\n",
      "        4.0              0.000480\n",
      "Name: proportion, dtype: float64\n"
     ]
    }
   ],
   "source": [
    "#Value counts and frequency of the column Loan_Rejected by each year\n",
    "df = df[df['Loan_Rejected'] != 98]\n",
    "print(df.groupby('timeid')['Loan_Rejected'].value_counts(normalize=True))"
   ]
  },
  {
   "cell_type": "code",
   "execution_count": 42,
   "metadata": {},
   "outputs": [
    {
     "data": {
      "image/png": "[encoded data removed]",
      "text/plain": [
       "<Figure size 640x480 with 4 Axes>"
      ]
     },
     "metadata": {},
     "output_type": "display_data"
    }
   ],
   "source": [
    "df.hist(column='Loan_Rejected', by='timeid', bins=30)\n",
    "for ax in plt.gcf().axes:\n",
    "    ax.set_xticks(np.arange(0, 10, step=2))\n",
    "    ax.set_xticklabels(np.arange(0, 10, step=2), rotation=0)\n",
    "#Add title and labels for x and y axis to every subplot\n",
    "plt.suptitle('Loan Rejection Rate by Year')\n",
    "for ax in plt.gcf().axes:\n",
    "    ax.set_xlabel('Loan Rejected Frequency')\n",
    "    ax.set_ylabel('Number of households')\n",
    "\n"
   ]
  },
  {
   "cell_type": "markdown",
   "metadata": {},
   "source": [
    "**Test for Perfect Risk Sharing**"
   ]
  },
  {
   "cell_type": "code",
   "execution_count": 43,
   "metadata": {},
   "outputs": [
    {
     "name": "stderr",
     "output_type": "stream",
     "text": [
      "/Users/khangphamgia/Library/Python/3.9/lib/python/site-packages/pandas/core/arraylike.py:396: RuntimeWarning: divide by zero encountered in log\n",
      "  result = getattr(ufunc, method)(*inputs, **kwargs)\n",
      "/Users/khangphamgia/Library/Python/3.9/lib/python/site-packages/pandas/core/arraylike.py:396: RuntimeWarning: invalid value encountered in log\n",
      "  result = getattr(ufunc, method)(*inputs, **kwargs)\n"
     ]
    }
   ],
   "source": [
    "#Log consumption and log aggregate consumption\n",
    "df['logc'] = np.log(df['Food_Consumption'])\n",
    "df['cbar'] = df.groupby(['Province','timeid'])['Food_Consumption'].transform('mean') #Average food consumption across provinces in each year\n",
    "df['logcbar'] = np.log(df['cbar'])\n",
    "\n",
    "#Consumption growth \n",
    "df['dlogc'] = df['logc'].diff()\n",
    "df['dlogcbar'] = df['logcbar'].diff()\n",
    "\n",
    "#Log income and income growth \n",
    "df['logy'] = np.log(df['Annual_Income'])\n",
    "df['dlogy'] = df['logy'].diff()\n",
    "\n",
    "#D(logc - logcbar)\n",
    "df['logc-logcbar'] = df['logc'] - df['logcbar']\n",
    "df['D(logc-logcbar)'] = df['logc-logcbar'].diff()"
   ]
  },
  {
   "cell_type": "code",
   "execution_count": 44,
   "metadata": {},
   "outputs": [
    {
     "data": {
      "text/html": [
       "<div>\n",
       "<style scoped>\n",
       "    .dataframe tbody tr th:only-of-type {\n",
       "        vertical-align: middle;\n",
       "    }\n",
       "\n",
       "    .dataframe tbody tr th {\n",
       "        vertical-align: top;\n",
       "    }\n",
       "\n",
       "    .dataframe thead th {\n",
       "        text-align: right;\n",
       "    }\n",
       "</style>\n",
       "<table border=\"1\" class=\"dataframe\">\n",
       "  <thead>\n",
       "    <tr style=\"text-align: right;\">\n",
       "      <th></th>\n",
       "      <th>dlogc</th>\n",
       "      <th>dlogcbar</th>\n",
       "      <th>dlogy</th>\n",
       "    </tr>\n",
       "  </thead>\n",
       "  <tbody>\n",
       "    <tr>\n",
       "      <th>count</th>\n",
       "      <td>8258.000000</td>\n",
       "      <td>8319.000000</td>\n",
       "      <td>8285.000000</td>\n",
       "    </tr>\n",
       "    <tr>\n",
       "      <th>mean</th>\n",
       "      <td>-0.000812</td>\n",
       "      <td>-0.001090</td>\n",
       "      <td>NaN</td>\n",
       "    </tr>\n",
       "    <tr>\n",
       "      <th>std</th>\n",
       "      <td>1.022866</td>\n",
       "      <td>0.175622</td>\n",
       "      <td>NaN</td>\n",
       "    </tr>\n",
       "    <tr>\n",
       "      <th>min</th>\n",
       "      <td>-8.848385</td>\n",
       "      <td>-8.770224</td>\n",
       "      <td>-inf</td>\n",
       "    </tr>\n",
       "    <tr>\n",
       "      <th>25%</th>\n",
       "      <td>-0.433610</td>\n",
       "      <td>-0.012596</td>\n",
       "      <td>-0.788465</td>\n",
       "    </tr>\n",
       "    <tr>\n",
       "      <th>50%</th>\n",
       "      <td>0.000007</td>\n",
       "      <td>0.000000</td>\n",
       "      <td>-0.008191</td>\n",
       "    </tr>\n",
       "    <tr>\n",
       "      <th>75%</th>\n",
       "      <td>0.434141</td>\n",
       "      <td>0.012596</td>\n",
       "      <td>0.776634</td>\n",
       "    </tr>\n",
       "    <tr>\n",
       "      <th>max</th>\n",
       "      <td>9.100134</td>\n",
       "      <td>0.567786</td>\n",
       "      <td>inf</td>\n",
       "    </tr>\n",
       "  </tbody>\n",
       "</table>\n",
       "</div>"
      ],
      "text/plain": [
       "             dlogc     dlogcbar        dlogy\n",
       "count  8258.000000  8319.000000  8285.000000\n",
       "mean     -0.000812    -0.001090          NaN\n",
       "std       1.022866     0.175622          NaN\n",
       "min      -8.848385    -8.770224         -inf\n",
       "25%      -0.433610    -0.012596    -0.788465\n",
       "50%       0.000007     0.000000    -0.008191\n",
       "75%       0.434141     0.012596     0.776634\n",
       "max       9.100134     0.567786          inf"
      ]
     },
     "execution_count": 44,
     "metadata": {},
     "output_type": "execute_result"
    }
   ],
   "source": [
    "df[['dlogc', 'dlogcbar', 'dlogy']].describe()"
   ]
  },
  {
   "cell_type": "markdown",
   "metadata": {},
   "source": [
    "**Base Model**"
   ]
  },
  {
   "cell_type": "markdown",
   "metadata": {},
   "source": [
    "$$\n",
    "\\Delta \\ln c_{it} = \\beta \\Delta \\ln c_t + \\delta \\Delta \\ln y_{it} + u_{it}\n",
    "$$\n"
   ]
  },
  {
   "cell_type": "code",
   "execution_count": 45,
   "metadata": {},
   "outputs": [
    {
     "name": "stdout",
     "output_type": "stream",
     "text": [
      "                                 OLS Regression Results                                \n",
      "=======================================================================================\n",
      "Dep. Variable:                  dlogc   R-squared (uncentered):                   0.040\n",
      "Model:                            OLS   Adj. R-squared (uncentered):              0.040\n",
      "Method:                 Least Squares   F-statistic:                              173.1\n",
      "Date:                Sat, 08 Feb 2025   Prob (F-statistic):                    2.32e-74\n",
      "Time:                        21:23:57   Log-Likelihood:                         -11684.\n",
      "No. Observations:                8220   AIC:                                  2.337e+04\n",
      "Df Residuals:                    8218   BIC:                                  2.339e+04\n",
      "Df Model:                           2                                                  \n",
      "Covariance Type:            nonrobust                                                  \n",
      "==============================================================================\n",
      "                 coef    std err          t      P>|t|      [0.025      0.975]\n",
      "------------------------------------------------------------------------------\n",
      "dlogcbar       1.0931      0.063     17.345      0.000       0.970       1.217\n",
      "dlogy          0.0575      0.009      6.334      0.000       0.040       0.075\n",
      "==============================================================================\n",
      "Omnibus:                     2262.106   Durbin-Watson:                   2.983\n",
      "Prob(Omnibus):                  0.000   Jarque-Bera (JB):           250570.349\n",
      "Skew:                           0.043   Prob(JB):                         0.00\n",
      "Kurtosis:                      30.048   Cond. No.                         6.95\n",
      "==============================================================================\n",
      "\n",
      "Notes:\n",
      "[1] R² is computed without centering (uncentered) since the model does not contain a constant.\n",
      "[2] Standard Errors assume that the covariance matrix of the errors is correctly specified.\n"
     ]
    }
   ],
   "source": [
    "# Specify the independent and dependent variables\n",
    "# Drop NA values of the variables\n",
    "df = df.dropna(subset=['dlogc', 'dlogcbar', 'dlogy'])\n",
    "# Replace infinite values with NaN, then drop those rows\n",
    "df = df.replace([np.inf, -np.inf], np.nan).dropna(subset=['dlogc', 'dlogcbar', 'dlogy'])\n",
    "result_1 = sm.ols(formula=\"dlogc ~ dlogcbar + dlogy - 1\",\n",
    "                   data=df).fit()\n",
    "\n",
    "print(result_1.summary())"
   ]
  },
  {
   "cell_type": "markdown",
   "metadata": {},
   "source": [
    "**Add Insurance and Disaster, Dummy Variables for Time and Province**"
   ]
  },
  {
   "cell_type": "code",
   "execution_count": 46,
   "metadata": {},
   "outputs": [],
   "source": [
    "#Calculate overall average value for each variable\n",
    "df['Disaster_bar'] = df['Disaster'].mean()\n",
    "df['Demean_Disaster'] = df['Disaster'] - df['Disaster_bar']\n",
    "df['Have_Insurance_bar'] = df['Have_Insurance'].mean()\n",
    "df['Demean_Insurance'] = df['Have_Insurance'] - df['Have_Insurance_bar']\n",
    "df[\"dlogy_bar\"] = df['dlogy'].mean()\n",
    "df[\"Demean_Income\"] = df['dlogy'] - df['dlogy_bar']\n",
    "df[\"dlogcbar_bar\"] = df['dlogcbar'].mean()\n",
    "df[\"Demean_Agg_Con\"] = df['dlogcbar'] - df['dlogcbar_bar']\n",
    "#Add interaction terms\n",
    "df['Disaster*Insurance'] = df['Disaster_bar'] * df['Demean_Insurance']\n",
    "df['Income*Insurance'] =  df['Demean_Income'] * df['Demean_Insurance']\n",
    "df['Agg_Con*Insurance'] = df['Demean_Agg_Con'] * df['Demean_Insurance']\n",
    "df['Insurance*dlogy'] = df['Demean_Insurance'] * df['Demean_Income']\n",
    "df['Insurance*dlogcbar'] = df['Demean_Insurance'] * df['Demean_Agg_Con']"
   ]
  },
  {
   "cell_type": "code",
   "execution_count": 47,
   "metadata": {},
   "outputs": [
    {
     "data": {
      "text/plain": [
       "Province\n",
       "105    1807\n",
       "217    1164\n",
       "503    1079\n",
       "801     985\n",
       "403     733\n",
       "605     496\n",
       "301     384\n",
       "606     372\n",
       "302     360\n",
       "205     324\n",
       "511     280\n",
       "607     236\n",
       "Name: count, dtype: int64"
      ]
     },
     "execution_count": 47,
     "metadata": {},
     "output_type": "execute_result"
    }
   ],
   "source": [
    "df['Province'].value_counts()"
   ]
  },
  {
   "cell_type": "code",
   "execution_count": 48,
   "metadata": {},
   "outputs": [
    {
     "name": "stdout",
     "output_type": "stream",
     "text": [
      "      Province  District  Commune  Household_ID  timeid  Access_Internet  \\\n",
      "3260       217        19       25            16    2010              5.0   \n",
      "3264       217        19       25            17    2010              5.0   \n",
      "3268       217        19       25            18    2010              1.0   \n",
      "7516       801         5       17             3    2010              1.0   \n",
      "3272       217        19       25            19    2010              1.0   \n",
      "...        ...       ...      ...           ...     ...              ...   \n",
      "4463       403        23       59             1    2016              5.0   \n",
      "4467       403        23       59             2    2016              1.0   \n",
      "4471       403        23       59             3    2016              5.0   \n",
      "4999       503         7       32             5    2016              5.0   \n",
      "8335       801        27       29             2    2016              3.0   \n",
      "\n",
      "      Access_Service  Annual_Income  COCC  Disaster  ...  Demean_Insurance  \\\n",
      "3260             1.0    9953.500000     0         0  ...          0.096837   \n",
      "3264             0.0    5731.666667     0         0  ...          0.096837   \n",
      "3268             0.0    5517.500000     0         0  ...          0.096837   \n",
      "7516             1.0   14605.000000     0         0  ...          0.096837   \n",
      "3272             0.0   11935.833333     0         1  ...          0.096837   \n",
      "...              ...            ...   ...       ...  ...               ...   \n",
      "4463             1.0    1890.000000     0         1  ...          0.096837   \n",
      "4467             0.0    7340.833333     0         1  ...          0.096837   \n",
      "4471             0.0    4114.166667     1         1  ...          0.096837   \n",
      "4999             0.0   18606.666667     0         1  ...          0.096837   \n",
      "8335             1.0   23358.750000     0         1  ...          0.096837   \n",
      "\n",
      "      dlogy_bar  Demean_Income  dlogcbar_bar  Demean_Agg_Con  \\\n",
      "3260  -0.000749      -0.720938     -0.000727        0.023662   \n",
      "3264  -0.000749      -0.551169     -0.000727        0.000727   \n",
      "3268  -0.000749      -0.037332     -0.000727        0.000727   \n",
      "7516  -0.000749       0.974188     -0.000727       -0.113356   \n",
      "3272  -0.000749      -0.201070     -0.000727        0.114810   \n",
      "...         ...            ...           ...             ...   \n",
      "4463  -0.000749      -0.336132     -0.000727        0.000727   \n",
      "4467  -0.000749       1.357625     -0.000727        0.000727   \n",
      "4471  -0.000749      -0.578267     -0.000727        0.000727   \n",
      "4999  -0.000749       1.509833     -0.000727        0.511247   \n",
      "8335  -0.000749       0.228201     -0.000727       -0.408424   \n",
      "\n",
      "      Disaster*Insurance  Income*Insurance  Agg_Con*Insurance  \\\n",
      "3260            0.044861         -0.069813           0.002291   \n",
      "3264            0.044861         -0.053373           0.000070   \n",
      "3268            0.044861         -0.003615           0.000070   \n",
      "7516            0.044861          0.094337          -0.010977   \n",
      "3272            0.044861         -0.019471           0.011118   \n",
      "...                  ...               ...                ...   \n",
      "4463            0.044861         -0.032550           0.000070   \n",
      "4467            0.044861          0.131468           0.000070   \n",
      "4471            0.044861         -0.055998           0.000070   \n",
      "4999            0.044861          0.146208           0.049508   \n",
      "8335            0.044861          0.022098          -0.039551   \n",
      "\n",
      "      Insurance*dlogy  Insurance*dlogcbar  \n",
      "3260        -0.069813            0.002291  \n",
      "3264        -0.053373            0.000070  \n",
      "3268        -0.003615            0.000070  \n",
      "7516         0.094337           -0.010977  \n",
      "3272        -0.019471            0.011118  \n",
      "...               ...                 ...  \n",
      "4463        -0.032550            0.000070  \n",
      "4467         0.131468            0.000070  \n",
      "4471        -0.055998            0.000070  \n",
      "4999         0.146208            0.049508  \n",
      "8335         0.022098           -0.039551  \n",
      "\n",
      "[8220 rows x 39 columns]\n"
     ]
    }
   ],
   "source": [
    "print(df)"
   ]
  },
  {
   "cell_type": "code",
   "execution_count": 49,
   "metadata": {},
   "outputs": [
    {
     "name": "stdout",
     "output_type": "stream",
     "text": [
      "3260    2010\n",
      "3264    2010\n",
      "3268    2010\n",
      "7516    2010\n",
      "3272    2010\n",
      "        ... \n",
      "4463    2016\n",
      "4467    2016\n",
      "4471    2016\n",
      "4999    2016\n",
      "8335    2016\n",
      "Name: timeid, Length: 8220, dtype: int64\n"
     ]
    }
   ],
   "source": [
    "print(df['timeid'])"
   ]
  },
  {
   "cell_type": "code",
   "execution_count": 50,
   "metadata": {},
   "outputs": [
    {
     "data": {
      "text/plain": [
       "timeid\n",
       "2012    2068\n",
       "2010    2057\n",
       "2016    2049\n",
       "2014    2046\n",
       "Name: count, dtype: int64"
      ]
     },
     "execution_count": 50,
     "metadata": {},
     "output_type": "execute_result"
    }
   ],
   "source": [
    "df['timeid'].value_counts()"
   ]
  },
  {
   "cell_type": "code",
   "execution_count": 51,
   "metadata": {},
   "outputs": [
    {
     "name": "stdout",
     "output_type": "stream",
     "text": [
      "      District  Commune  Household_ID  Access_Internet  Access_Service  \\\n",
      "3260        19       25            16              5.0             1.0   \n",
      "3264        19       25            17              5.0             0.0   \n",
      "3268        19       25            18              1.0             0.0   \n",
      "7516         5       17             3              1.0             1.0   \n",
      "3272        19       25            19              1.0             0.0   \n",
      "\n",
      "      Annual_Income  COCC  Disaster  Family_Size  Food_Consumption  ...  \\\n",
      "3260    9953.500000     0         0            6         4001704.0  ...   \n",
      "3264    5731.666667     0         0            5        11000269.0  ...   \n",
      "3268    5517.500000     0         0            6         8000702.0  ...   \n",
      "7516   14605.000000     0         0            5         5002325.0  ...   \n",
      "3272   11935.833333     0         1            2         5001305.0  ...   \n",
      "\n",
      "      Province_503  Province_511  Province_605  Province_606  Province_607  \\\n",
      "3260         False         False         False         False         False   \n",
      "3264         False         False         False         False         False   \n",
      "3268         False         False         False         False         False   \n",
      "7516         False         False         False         False         False   \n",
      "3272         False         False         False         False         False   \n",
      "\n",
      "      Province_801  timeid_2010  timeid_2012  timeid_2014  timeid_2016  \n",
      "3260         False         True        False        False        False  \n",
      "3264         False         True        False        False        False  \n",
      "3268         False         True        False        False        False  \n",
      "7516          True         True        False        False        False  \n",
      "3272         False         True        False        False        False  \n",
      "\n",
      "[5 rows x 53 columns]\n"
     ]
    }
   ],
   "source": [
    "# Use pandas dummy function to create a set of dummies based on the categories we have in Province, and timeid\n",
    "df_dummy = pd.get_dummies(df, columns=['Province', 'timeid'])\n",
    "print(df_dummy.head())"
   ]
  },
  {
   "cell_type": "markdown",
   "metadata": {},
   "source": [
    "$$\n",
    "\\Delta (\\ln c_{it} - \\ln c_t) = \\delta \\Delta \\ln y_{it} + \\beta_2 \\text{Insurance}_t + \\beta_3 \\text{Disaster}_t \n",
    "+ \\beta_4 \\widetilde{\\text{Insurance}}_t \\times \\widetilde{\\text{Disaster}}_t \n",
    "+ \\beta_5 \\widetilde{\\text{Insurance}}_t \\times \\widetilde{\\Delta \\ln y_{it}} \n",
    "+ \\beta_6 \\widetilde{\\text{Insurance}}_t \\times \\widetilde{\\Delta \\ln c_t} \n",
    "+ \\beta_i \\text{Province}_i + \\beta_t \\text{Time}_t + u_{it}\n",
    "$$\n"
   ]
  },
  {
   "cell_type": "code",
   "execution_count": 52,
   "metadata": {},
   "outputs": [],
   "source": [
    "import statsmodels.api as sm\n",
    "X = df_dummy[['dlogy', \n",
    "              'Disaster', 'Have_Insurance',\n",
    "              #'Insurance*dlogy', \n",
    "              #'Insurance*dlogcbar',\n",
    "              #'Income*Insurance',\n",
    "              'Disaster*Insurance', 'Income*Insurance', 'Agg_Con*Insurance',\n",
    "              'Province_217', 'Province_503', 'Province_801', 'Province_403',\n",
    "              'Province_605', 'Province_301', 'Province_606', 'Province_302',\n",
    "              'Province_205', 'Province_511', 'Province_607',\n",
    "              'timeid_2010', 'timeid_2012', 'timeid_2014']]\n",
    "Y = df_dummy['D(logc-logcbar)']"
   ]
  },
  {
   "cell_type": "code",
   "execution_count": 53,
   "metadata": {},
   "outputs": [
    {
     "name": "stderr",
     "output_type": "stream",
     "text": [
      "/var/folders/7r/8c1w5fhs5xb1m8c809vwl4n80000gn/T/ipykernel_61305/635440727.py:2: SettingWithCopyWarning: \n",
      "A value is trying to be set on a copy of a slice from a DataFrame.\n",
      "Try using .loc[row_indexer,col_indexer] = value instead\n",
      "\n",
      "See the caveats in the documentation: https://pandas.pydata.org/pandas-docs/stable/user_guide/indexing.html#returning-a-view-versus-a-copy\n",
      "  X[bool_columns] = X[bool_columns].astype(int)\n"
     ]
    }
   ],
   "source": [
    "bool_columns = X.select_dtypes(include=['bool']).columns\n",
    "X[bool_columns] = X[bool_columns].astype(int)\n"
   ]
  },
  {
   "cell_type": "code",
   "execution_count": 54,
   "metadata": {},
   "outputs": [
    {
     "name": "stdout",
     "output_type": "stream",
     "text": [
      "                            OLS Regression Results                            \n",
      "==============================================================================\n",
      "Dep. Variable:        D(logc-logcbar)   R-squared:                       0.006\n",
      "Model:                            OLS   Adj. R-squared:                  0.004\n",
      "Method:                 Least Squares   F-statistic:                       nan\n",
      "Date:                Sat, 08 Feb 2025   Prob (F-statistic):                nan\n",
      "Time:                        21:23:58   Log-Likelihood:                -11680.\n",
      "No. Observations:                8220   AIC:                         2.340e+04\n",
      "Df Residuals:                    8200   BIC:                         2.354e+04\n",
      "Df Model:                          19                                         \n",
      "Covariance Type:                  HC3                                         \n",
      "======================================================================================\n",
      "                         coef    std err          t      P>|t|      [0.025      0.975]\n",
      "--------------------------------------------------------------------------------------\n",
      "dlogy                  0.0610      0.013      4.718      0.000       0.036       0.086\n",
      "Disaster              -0.0365      0.029     -1.258      0.208      -0.093       0.020\n",
      "Have_Insurance         0.0367      0.042      0.878      0.380      -0.045       0.119\n",
      "Disaster*Insurance    -0.0977      0.107     -0.909      0.363      -0.308       0.113\n",
      "Income*Insurance       0.0110      0.033      0.334      0.738      -0.054       0.076\n",
      "Agg_Con*Insurance      0.2174      0.250      0.870      0.385      -0.273       0.707\n",
      "Province_217           0.0182      0.034      0.530      0.596      -0.049       0.085\n",
      "Province_503           0.0201      0.046      0.441      0.659      -0.069       0.110\n",
      "Province_801          -0.0527      0.042     -1.254      0.210      -0.135       0.030\n",
      "Province_403           0.0401      0.037      1.076      0.282      -0.033       0.113\n",
      "Province_605          -0.0698      0.049     -1.417      0.157      -0.166       0.027\n",
      "Province_301           0.0375      0.039      0.956      0.339      -0.039       0.114\n",
      "Province_606          -0.0187      0.068     -0.275      0.783      -0.152       0.115\n",
      "Province_302           0.0099      0.054      0.183      0.855      -0.096       0.116\n",
      "Province_205           0.0613      0.054      1.137      0.256      -0.044       0.167\n",
      "Province_511           0.0082      0.071      0.116      0.908      -0.131       0.147\n",
      "Province_607          -0.0378      0.053     -0.707      0.480      -0.143       0.067\n",
      "timeid_2010           -0.0209      0.034     -0.605      0.545      -0.088       0.047\n",
      "timeid_2012           -0.0243      0.037     -0.659      0.510      -0.096       0.048\n",
      "timeid_2014           -0.0265      0.035     -0.767      0.443      -0.094       0.041\n",
      "==============================================================================\n",
      "Omnibus:                     2264.634   Durbin-Watson:                   2.981\n",
      "Prob(Omnibus):                  0.000   Jarque-Bera (JB):           251775.531\n",
      "Skew:                           0.048   Prob(JB):                         0.00\n",
      "Kurtosis:                      30.113   Cond. No.                         33.2\n",
      "==============================================================================\n",
      "\n",
      "Notes:\n",
      "[1] Standard Errors are heteroscedasticity robust (HC3)\n"
     ]
    }
   ],
   "source": [
    "result_5 = sm.OLS(endog = Y, exog = X).fit()\n",
    "robust_result_5 = result_5.get_robustcov_results(cov_type='HC3')  # Use HC3 for robust errors\n",
    "print(robust_result_5.summary())"
   ]
  },
  {
   "cell_type": "markdown",
   "metadata": {},
   "source": [
    "$$\n",
    "\\Delta \\ln c_{it} = \\beta_1 \\Delta \\ln c_t + \\delta \\Delta \\ln y_{it} + \\beta_2 \\text{Disaster}_t + \\beta_i \\text{Province}_i + \\beta_t \\text{Time}_t + u_{it}\n",
    "$$\n"
   ]
  },
  {
   "cell_type": "code",
   "execution_count": 55,
   "metadata": {},
   "outputs": [
    {
     "name": "stderr",
     "output_type": "stream",
     "text": [
      "/var/folders/7r/8c1w5fhs5xb1m8c809vwl4n80000gn/T/ipykernel_61305/2230807333.py:11: SettingWithCopyWarning: \n",
      "A value is trying to be set on a copy of a slice from a DataFrame.\n",
      "Try using .loc[row_indexer,col_indexer] = value instead\n",
      "\n",
      "See the caveats in the documentation: https://pandas.pydata.org/pandas-docs/stable/user_guide/indexing.html#returning-a-view-versus-a-copy\n",
      "  X2[bool_columns] = X2[bool_columns].astype(int)\n"
     ]
    }
   ],
   "source": [
    "X2 = df_dummy[['dlogy', 'dlogcbar',\n",
    "              'Disaster', \n",
    "              #'Insurance*dlogy', \n",
    "              #'Insurance*dlogcbar',\n",
    "              'Province_217', 'Province_503', 'Province_801', 'Province_403',\n",
    "              'Province_605', 'Province_301', 'Province_606', 'Province_302',\n",
    "              'Province_205', 'Province_511', 'Province_607',\n",
    "              'timeid_2010', 'timeid_2012', 'timeid_2014']]\n",
    "Y2 = df_dummy['dlogc']\n",
    "bool_columns = X2.select_dtypes(include=['bool']).columns\n",
    "X2[bool_columns] = X2[bool_columns].astype(int)"
   ]
  },
  {
   "cell_type": "code",
   "execution_count": 56,
   "metadata": {},
   "outputs": [
    {
     "name": "stdout",
     "output_type": "stream",
     "text": [
      "                                 OLS Regression Results                                \n",
      "=======================================================================================\n",
      "Dep. Variable:                  dlogc   R-squared (uncentered):                   0.041\n",
      "Model:                            OLS   Adj. R-squared (uncentered):              0.040\n",
      "Method:                 Least Squares   F-statistic:                              14.28\n",
      "Date:                Sat, 08 Feb 2025   Prob (F-statistic):                    2.92e-41\n",
      "Time:                        21:23:59   Log-Likelihood:                         -11680.\n",
      "No. Observations:                8220   AIC:                                  2.339e+04\n",
      "Df Residuals:                    8203   BIC:                                  2.351e+04\n",
      "Df Model:                          17                                                  \n",
      "Covariance Type:                  HC3                                                  \n",
      "================================================================================\n",
      "                   coef    std err          t      P>|t|      [0.025      0.975]\n",
      "--------------------------------------------------------------------------------\n",
      "dlogy            0.0608      0.013      4.723      0.000       0.036       0.086\n",
      "dlogcbar         1.0885      0.081     13.439      0.000       0.930       1.247\n",
      "Disaster        -0.0213      0.020     -1.043      0.297      -0.061       0.019\n",
      "Province_217     0.0330      0.033      1.002      0.316      -0.032       0.097\n",
      "Province_503     0.0302      0.044      0.679      0.497      -0.057       0.117\n",
      "Province_801    -0.0322      0.040     -0.803      0.422      -0.111       0.046\n",
      "Province_403     0.0546      0.037      1.461      0.144      -0.019       0.128\n",
      "Province_605    -0.0584      0.049     -1.192      0.233      -0.154       0.038\n",
      "Province_301     0.0433      0.038      1.142      0.253      -0.031       0.118\n",
      "Province_606    -0.0154      0.067     -0.228      0.820      -0.148       0.117\n",
      "Province_302     0.0182      0.053      0.342      0.732      -0.086       0.122\n",
      "Province_205     0.0665      0.053      1.261      0.207      -0.037       0.170\n",
      "Province_511     0.0271      0.069      0.394      0.694      -0.108       0.162\n",
      "Province_607    -0.0246      0.053     -0.464      0.643      -0.129       0.079\n",
      "timeid_2010     -0.0027      0.026     -0.104      0.917      -0.054       0.049\n",
      "timeid_2012     -0.0044      0.029     -0.154      0.877      -0.061       0.052\n",
      "timeid_2014     -0.0072      0.024     -0.304      0.761      -0.053       0.039\n",
      "==============================================================================\n",
      "Omnibus:                     2263.250   Durbin-Watson:                   2.982\n",
      "Prob(Omnibus):                  0.000   Jarque-Bera (JB):           251108.951\n",
      "Skew:                           0.046   Prob(JB):                         0.00\n",
      "Kurtosis:                      30.077   Cond. No.                         9.84\n",
      "==============================================================================\n",
      "\n",
      "Notes:\n",
      "[1] R² is computed without centering (uncentered) since the model does not contain a constant.\n",
      "[2] Standard Errors are heteroscedasticity robust (HC3)\n"
     ]
    }
   ],
   "source": [
    "result_2 = sm.OLS(endog = Y2, exog = X2).fit()\n",
    "robust_result_2 = result_2.get_robustcov_results(cov_type='HC3')  # Use HC3 for robust errors\n",
    "print(robust_result_2.summary())"
   ]
  },
  {
   "cell_type": "markdown",
   "metadata": {},
   "source": [
    "$$\n",
    "\\Delta \\ln c_{it} = \\beta_1 \\Delta \\ln c_t + \\delta \\Delta \\ln y_{it} + \\beta_2 \\text{Insurance}_t + \\beta_i \\text{Province}_i + \\beta_t \\text{Time}_t + u_{it}\n",
    "$$\n"
   ]
  },
  {
   "cell_type": "code",
   "execution_count": 57,
   "metadata": {},
   "outputs": [
    {
     "name": "stderr",
     "output_type": "stream",
     "text": [
      "/var/folders/7r/8c1w5fhs5xb1m8c809vwl4n80000gn/T/ipykernel_61305/587725986.py:11: SettingWithCopyWarning: \n",
      "A value is trying to be set on a copy of a slice from a DataFrame.\n",
      "Try using .loc[row_indexer,col_indexer] = value instead\n",
      "\n",
      "See the caveats in the documentation: https://pandas.pydata.org/pandas-docs/stable/user_guide/indexing.html#returning-a-view-versus-a-copy\n",
      "  X3[bool_columns] = X3[bool_columns].astype(int)\n"
     ]
    }
   ],
   "source": [
    "X3 = df_dummy[['dlogy', 'dlogcbar',\n",
    "              'Have_Insurance', \n",
    "              'Insurance*dlogy', \n",
    "              'Insurance*dlogcbar',\n",
    "              'Province_217', 'Province_503', 'Province_801', 'Province_403',\n",
    "              'Province_605', 'Province_301', 'Province_606', 'Province_302',\n",
    "              'Province_205', 'Province_511', 'Province_607',\n",
    "              'timeid_2010', 'timeid_2012', 'timeid_2014']]\n",
    "Y3 = df_dummy['dlogc']\n",
    "bool_columns = X3.select_dtypes(include=['bool']).columns\n",
    "X3[bool_columns] = X3[bool_columns].astype(int)"
   ]
  },
  {
   "cell_type": "code",
   "execution_count": 58,
   "metadata": {},
   "outputs": [
    {
     "name": "stdout",
     "output_type": "stream",
     "text": [
      "                                 OLS Regression Results                                \n",
      "=======================================================================================\n",
      "Dep. Variable:                  dlogc   R-squared (uncentered):                   0.041\n",
      "Model:                            OLS   Adj. R-squared (uncentered):              0.039\n",
      "Method:                 Least Squares   F-statistic:                              12.38\n",
      "Date:                Sat, 08 Feb 2025   Prob (F-statistic):                    1.24e-38\n",
      "Time:                        21:23:59   Log-Likelihood:                         -11680.\n",
      "No. Observations:                8220   AIC:                                  2.340e+04\n",
      "Df Residuals:                    8201   BIC:                                  2.353e+04\n",
      "Df Model:                          19                                                  \n",
      "Covariance Type:                  HC3                                                  \n",
      "======================================================================================\n",
      "                         coef    std err          t      P>|t|      [0.025      0.975]\n",
      "--------------------------------------------------------------------------------------\n",
      "dlogy                  0.0608      0.013      4.698      0.000       0.035       0.086\n",
      "dlogcbar               1.0793      0.082     13.161      0.000       0.919       1.240\n",
      "Have_Insurance        -0.0068      0.022     -0.313      0.754      -0.049       0.036\n",
      "Insurance*dlogy        0.0106      0.033      0.321      0.748      -0.054       0.076\n",
      "Insurance*dlogcbar     0.1210      0.265      0.456      0.648      -0.399       0.641\n",
      "Province_217           0.0240      0.034      0.711      0.477      -0.042       0.090\n",
      "Province_503           0.0201      0.043      0.465      0.642      -0.065       0.105\n",
      "Province_801          -0.0396      0.040     -0.984      0.325      -0.119       0.039\n",
      "Province_403           0.0426      0.036      1.184      0.237      -0.028       0.113\n",
      "Province_605          -0.0700      0.048     -1.462      0.144      -0.164       0.024\n",
      "Province_301           0.0331      0.039      0.852      0.394      -0.043       0.109\n",
      "Province_606          -0.0270      0.068     -0.395      0.693      -0.161       0.107\n",
      "Province_302           0.0103      0.054      0.191      0.849      -0.096       0.116\n",
      "Province_205           0.0560      0.053      1.057      0.290      -0.048       0.160\n",
      "Province_511           0.0187      0.069      0.270      0.787      -0.117       0.154\n",
      "Province_607          -0.0355      0.053     -0.669      0.503      -0.139       0.068\n",
      "timeid_2010            0.0023      0.027      0.085      0.932      -0.051       0.055\n",
      "timeid_2012            0.0035      0.030      0.117      0.907      -0.056       0.063\n",
      "timeid_2014            0.0025      0.025      0.100      0.920      -0.046       0.051\n",
      "==============================================================================\n",
      "Omnibus:                     2264.240   Durbin-Watson:                   2.982\n",
      "Prob(Omnibus):                  0.000   Jarque-Bera (JB):           251202.520\n",
      "Skew:                           0.052   Prob(JB):                         0.00\n",
      "Kurtosis:                      30.082   Cond. No.                         34.3\n",
      "==============================================================================\n",
      "\n",
      "Notes:\n",
      "[1] R² is computed without centering (uncentered) since the model does not contain a constant.\n",
      "[2] Standard Errors are heteroscedasticity robust (HC3)\n"
     ]
    }
   ],
   "source": [
    "result_3 = sm.OLS(endog = Y3, exog = X3).fit()\n",
    "robust_result_3 = result_3.get_robustcov_results(cov_type='HC3')  # Use HC3 for robust errors\n",
    "print(robust_result_3.summary())"
   ]
  },
  {
   "cell_type": "markdown",
   "metadata": {},
   "source": [
    "$$\n",
    "\\Delta \\ln c_{it} = \\beta_1 \\Delta \\ln c_t + \\delta \\Delta \\ln y_{it} + \\beta_2 \\text{Insurance}_t + \\beta_3 \\text{Disaster}_t + \\beta_4 \\widetilde{\\text{Insurance}}_t \\times \\widetilde{\\text{Disaster}}_t \n",
    "+ \\beta_5 \\widetilde{\\text{Insurance}}_t \\times \\widetilde{\\Delta \\ln y_{it}} \n",
    "+ \\beta_6 \\widetilde{\\text{Insurance}}_t \\times \\widetilde{\\Delta \\ln c_t} \n",
    "+ \\beta_i \\text{Province}_i + \\beta_t \\text{Time}_t + u_{it}\n",
    "$$\n"
   ]
  },
  {
   "cell_type": "code",
   "execution_count": 59,
   "metadata": {},
   "outputs": [
    {
     "name": "stderr",
     "output_type": "stream",
     "text": [
      "/var/folders/7r/8c1w5fhs5xb1m8c809vwl4n80000gn/T/ipykernel_61305/1002398340.py:12: SettingWithCopyWarning: \n",
      "A value is trying to be set on a copy of a slice from a DataFrame.\n",
      "Try using .loc[row_indexer,col_indexer] = value instead\n",
      "\n",
      "See the caveats in the documentation: https://pandas.pydata.org/pandas-docs/stable/user_guide/indexing.html#returning-a-view-versus-a-copy\n",
      "  X4[bool_columns] = X4[bool_columns].astype(int)\n"
     ]
    }
   ],
   "source": [
    "X4 = df_dummy[['dlogy', 'dlogcbar',\n",
    "              'Disaster', 'Have_Insurance',\n",
    "              #'Insurance*dlogy', \n",
    "              #'Insurance*dlogcbar',\n",
    "              'Disaster*Insurance', 'Income*Insurance', 'Agg_Con*Insurance',\n",
    "              'Province_217', 'Province_503', 'Province_801', 'Province_403',\n",
    "              'Province_605', 'Province_301', 'Province_606', 'Province_302',\n",
    "              'Province_205', 'Province_511', 'Province_607',\n",
    "              'timeid_2010', 'timeid_2012', 'timeid_2014']]\n",
    "Y4 = df_dummy['dlogc']\n",
    "bool_columns = X4.select_dtypes(include=['bool']).columns\n",
    "X4[bool_columns] = X4[bool_columns].astype(int)"
   ]
  },
  {
   "cell_type": "code",
   "execution_count": 60,
   "metadata": {},
   "outputs": [
    {
     "name": "stdout",
     "output_type": "stream",
     "text": [
      "                            OLS Regression Results                            \n",
      "==============================================================================\n",
      "Dep. Variable:                  dlogc   R-squared:                       0.042\n",
      "Model:                            OLS   Adj. R-squared:                  0.039\n",
      "Method:                 Least Squares   F-statistic:                       nan\n",
      "Date:                Sat, 08 Feb 2025   Prob (F-statistic):                nan\n",
      "Time:                        21:24:01   Log-Likelihood:                -11679.\n",
      "No. Observations:                8220   AIC:                         2.340e+04\n",
      "Df Residuals:                    8199   BIC:                         2.355e+04\n",
      "Df Model:                          20                                         \n",
      "Covariance Type:                  HC3                                         \n",
      "======================================================================================\n",
      "                         coef    std err          t      P>|t|      [0.025      0.975]\n",
      "--------------------------------------------------------------------------------------\n",
      "dlogy                  0.0608      0.013      4.696      0.000       0.035       0.086\n",
      "dlogcbar               1.0775      0.082     13.171      0.000       0.917       1.238\n",
      "Disaster              -0.0359      0.029     -1.239      0.215      -0.093       0.021\n",
      "Have_Insurance         0.0328      0.042      0.783      0.434      -0.049       0.115\n",
      "Disaster*Insurance    -0.0870      0.107     -0.809      0.418      -0.298       0.124\n",
      "Income*Insurance       0.0107      0.033      0.324      0.746      -0.054       0.075\n",
      "Agg_Con*Insurance      0.1294      0.265      0.488      0.625      -0.390       0.649\n",
      "Province_217           0.0229      0.035      0.660      0.509      -0.045       0.091\n",
      "Province_503           0.0224      0.046      0.491      0.623      -0.067       0.112\n",
      "Province_801          -0.0443      0.042     -1.051      0.293      -0.127       0.038\n",
      "Province_403           0.0476      0.038      1.249      0.212      -0.027       0.122\n",
      "Province_605          -0.0655      0.049     -1.326      0.185      -0.162       0.031\n",
      "Province_301           0.0369      0.039      0.940      0.347      -0.040       0.114\n",
      "Province_606          -0.0224      0.068     -0.326      0.744      -0.157       0.112\n",
      "Province_302           0.0096      0.054      0.177      0.860      -0.097       0.116\n",
      "Province_205           0.0593      0.054      1.104      0.270      -0.046       0.165\n",
      "Province_511           0.0153      0.071      0.215      0.830      -0.125       0.155\n",
      "Province_607          -0.0327      0.054     -0.607      0.544      -0.138       0.073\n",
      "timeid_2010           -0.0204      0.034     -0.592      0.554      -0.088       0.047\n",
      "timeid_2012           -0.0238      0.037     -0.647      0.518      -0.096       0.048\n",
      "timeid_2014           -0.0262      0.035     -0.758      0.449      -0.094       0.042\n",
      "==============================================================================\n",
      "Omnibus:                     2263.943   Durbin-Watson:                   2.981\n",
      "Prob(Omnibus):                  0.000   Jarque-Bera (JB):           251320.588\n",
      "Skew:                           0.048   Prob(JB):                         0.00\n",
      "Kurtosis:                      30.088   Cond. No.                         34.3\n",
      "==============================================================================\n",
      "\n",
      "Notes:\n",
      "[1] Standard Errors are heteroscedasticity robust (HC3)\n"
     ]
    }
   ],
   "source": [
    "result_4 = sm.OLS(endog = Y4, exog = X4).fit()\n",
    "robust_result_4 = result_4.get_robustcov_results(cov_type='HC3')  # Use HC3 for robust errors\n",
    "print(robust_result_4.summary())"
   ]
  },
  {
   "cell_type": "code",
   "execution_count": 61,
   "metadata": {},
   "outputs": [
    {
     "name": "stdout",
     "output_type": "stream",
     "text": [
      "\n",
      "==========================================================\n",
      "                    Model 1   Model 2   Model 3   Model 4 \n",
      "----------------------------------------------------------\n",
      "dlogcbar           1.0931*** 1.0885*** 1.0793*** 1.0775***\n",
      "dlogy              0.0575*** 0.0608*** 0.0608*** 0.0608***\n",
      "Disaster                     -0.0213             -0.0359  \n",
      "Have_Insurance                         -0.0068   0.0328   \n",
      "Disaster*Insurance                               -0.0870  \n",
      "Agg_Con*Insurance                                0.1294   \n",
      "Income*Insurance                                 0.0107   \n",
      "Agg_Con*Insurance                                0.1294   \n",
      "                                                 (0.3106) \n",
      "Disaster*Insurance                               -0.0870  \n",
      "Income*Insurance                                 0.0107   \n",
      "Insurance*dlogcbar                     0.1210             \n",
      "Insurance*dlogy                        0.0106             \n",
      "Province_205                 0.0665    0.0560    0.0593   \n",
      "Province_217                 0.0330    0.0240    0.0229   \n",
      "Province_301                 0.0433    0.0331    0.0369   \n",
      "Province_302                 0.0182    0.0103    0.0096   \n",
      "Province_403                 0.0546    0.0426    0.0476   \n",
      "Province_503                 0.0302    0.0201    0.0224   \n",
      "Province_511                 0.0271    0.0187    0.0153   \n",
      "Province_605                 -0.0584   -0.0700   -0.0655  \n",
      "Province_606                 -0.0154   -0.0270   -0.0224  \n",
      "Province_607                 -0.0246   -0.0355   -0.0327  \n",
      "Province_801                 -0.0322   -0.0396   -0.0443  \n",
      "R-squared          0.0404    0.0415    0.0414    0.0416   \n",
      "R-squared Adj.     0.0402    0.0395    0.0392    0.0393   \n",
      "timeid_2010                  -0.0027   0.0023    -0.0204  \n",
      "timeid_2012                  -0.0044   0.0035    -0.0238  \n",
      "timeid_2014                  -0.0072   0.0025    -0.0262  \n",
      "No. observations   8220      8220      8220      8220     \n",
      "==========================================================\n",
      "Standard errors in parentheses.\n",
      "* p<.1, ** p<.05, ***p<.01\n"
     ]
    }
   ],
   "source": [
    "from statsmodels.iolib.summary2 import summary_col\n",
    "\n",
    "results_table = summary_col(\n",
    "    [result_1, result_2, result_3, result_4],\n",
    "    stars=True,  # Add significance stars\n",
    "    model_names=[\"Model 1\", \"Model 2\", \"Model 3\", \"Model 4\"],\n",
    "    info_dict={\"R-squared\": lambda x: f\"{x.rsquared:.2f}\", \n",
    "               \"No. observations\": lambda x: f\"{int(x.nobs)}\"}\n",
    ")\n",
    "\n",
    "# Drop duplicate labels before reindexing\n",
    "results_table.tables[0] = results_table.tables[0][~results_table.tables[0].index.duplicated(keep='first')]\n",
    "\n",
    "# Reorder the rows to display dlogcbar, dlogy, Disaster, and Have_Insurance upfront\n",
    "custom_order = ['dlogcbar', 'dlogy', 'Disaster', 'Have_Insurance', 'Disaster*Insurance', 'Agg_Con*Insurance', 'Income*Insurance'] + \\\n",
    "               [item for item in results_table.tables[0].index if item not in ['dlogcbar', 'dlogy', 'Disaster', 'Have_Insurance']]\n",
    "\n",
    "results_table.tables[0] = results_table.tables[0].reindex(custom_order)\n",
    "\n",
    "print(results_table)\n",
    "#save the table to a latex file\n",
    "with open('results_table.tex', 'w') as file:\n",
    "    file.write(results_table.as_latex())"
   ]
  },
  {
   "cell_type": "code",
   "execution_count": 62,
   "metadata": {},
   "outputs": [
    {
     "name": "stdout",
     "output_type": "stream",
     "text": [
      "\n",
      "============================\n",
      "                    Model 5 \n",
      "----------------------------\n",
      "dlogy              0.0610***\n",
      "                   (0.0092) \n",
      "Disaster           -0.0365  \n",
      "                   (0.0292) \n",
      "Have_Insurance     0.0367   \n",
      "                   (0.0458) \n",
      "Disaster*Insurance -0.0977  \n",
      "                   (0.1245) \n",
      "Income*Insurance   0.0110   \n",
      "                   (0.0306) \n",
      "Agg_Con*Insurance  0.2174   \n",
      "                   (0.3010) \n",
      "Province_217       0.0182   \n",
      "                   (0.0378) \n",
      "Province_503       0.0201   \n",
      "                   (0.0390) \n",
      "Province_801       -0.0527  \n",
      "                   (0.0399) \n",
      "Province_403       0.0401   \n",
      "                   (0.0444) \n",
      "Province_605       -0.0698  \n",
      "                   (0.0511) \n",
      "Province_301       0.0375   \n",
      "                   (0.0568) \n",
      "Province_606       -0.0187  \n",
      "                   (0.0574) \n",
      "Province_302       0.0099   \n",
      "                   (0.0582) \n",
      "Province_205       0.0613   \n",
      "                   (0.0608) \n",
      "Province_511       0.0082   \n",
      "                   (0.0645) \n",
      "Province_607       -0.0378  \n",
      "                   (0.0695) \n",
      "timeid_2010        -0.0209  \n",
      "                   (0.0360) \n",
      "timeid_2012        -0.0243  \n",
      "                   (0.0380) \n",
      "timeid_2014        -0.0265  \n",
      "                   (0.0388) \n",
      "R-squared          0.0062   \n",
      "R-squared Adj.     0.0039   \n",
      "R-squared          0.01     \n",
      "No. observations   8220     \n",
      "============================\n",
      "Standard errors in\n",
      "parentheses.\n",
      "* p<.1, ** p<.05, ***p<.01\n"
     ]
    }
   ],
   "source": [
    "results_table_2 = summary_col(\n",
    "    [result_5],\n",
    "    stars=True,  # Add significance stars\n",
    "    model_names=[\"Model 5\"],\n",
    "    info_dict={\"R-squared\": lambda x: f\"{x.rsquared:.2f}\", \n",
    "               \"No. observations\": lambda x: f\"{int(x.nobs)}\"}\n",
    ")\n",
    "print(results_table_2)\n",
    "#save the table to a latex file\n",
    "with open('results_table.tex', 'w') as file:\n",
    "    file.write(results_table.as_latex())"
   ]
  }
 ],
 "metadata": {
  "kernelspec": {
   "display_name": "Python 3",
   "language": "python",
   "name": "python3"
  },
  "language_info": {
   "codemirror_mode": {
    "name": "ipython",
    "version": 3
   },
   "file_extension": ".py",
   "mimetype": "text/x-python",
   "name": "python",
   "nbconvert_exporter": "python",
   "pygments_lexer": "ipython3",
   "version": "3.9.6"
  }
 },
 "nbformat": 4,
 "nbformat_minor": 2
}
