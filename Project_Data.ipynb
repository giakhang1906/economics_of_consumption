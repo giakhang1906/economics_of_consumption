{
 "cells": [
  {
   "cell_type": "code",
   "execution_count": 1,
   "metadata": {},
   "outputs": [],
   "source": [
    "import pandas as pd\n",
    "import os"
   ]
  },
  {
   "cell_type": "markdown",
   "metadata": {},
   "source": [
    "**Preparing Data for 2014**"
   ]
  },
  {
   "cell_type": "code",
   "execution_count": 5,
   "metadata": {},
   "outputs": [],
   "source": [
    "#Working directory\n",
    "os.chdir('/Users/khangphamgia/Downloads/2008-16Clean')\n",
    "# Loop through the folder to export dta file to excel and save\n",
    "for file in os.listdir():\n",
    "    if file.endswith('.dta'):\n",
    "        # Read the .dta file\n",
    "        df = pd.read_stata(file)\n",
    "        # Create a new filename with .xlsx extension\n",
    "        new_filename = file.replace('.dta', '.xlsx')\n",
    "        # Save the DataFrame to an Excel file\n",
    "        df.to_excel(new_filename, index=False)\n",
    "\n"
   ]
  },
  {
   "cell_type": "code",
   "execution_count": null,
   "metadata": {},
   "outputs": [
    {
     "ename": "FileNotFoundError",
     "evalue": "[Errno 2] No such file or directory: '/Users/khangphamgia/Downloads/2008-16Clean/2014_new_excel/Phieu_New_14.xlsx'",
     "output_type": "error",
     "traceback": [
      "\u001b[0;31m---------------------------------------------------------------------------\u001b[0m",
      "\u001b[0;31mFileNotFoundError\u001b[0m                         Traceback (most recent call last)",
      "Cell \u001b[0;32mIn[2], line 4\u001b[0m\n\u001b[1;32m      2\u001b[0m os\u001b[38;5;241m.\u001b[39mchdir(\u001b[38;5;124m'\u001b[39m\u001b[38;5;124m/Users/khangphamgia/Downloads/2008-16Clean\u001b[39m\u001b[38;5;124m'\u001b[39m)\n\u001b[1;32m      3\u001b[0m \u001b[38;5;66;03m#Load data sets\u001b[39;00m\n\u001b[0;32m----> 4\u001b[0m Phieu_New_14 \u001b[38;5;241m=\u001b[39m \u001b[43mpd\u001b[49m\u001b[38;5;241;43m.\u001b[39;49m\u001b[43mread_excel\u001b[49m\u001b[43m(\u001b[49m\u001b[38;5;124;43m\"\u001b[39;49m\u001b[38;5;124;43m/Users/khangphamgia/Downloads/2008-16Clean/2014_new_excel/Phieu_New_14.xlsx\u001b[39;49m\u001b[38;5;124;43m\"\u001b[39;49m\u001b[43m)\u001b[49m\n\u001b[1;32m      5\u001b[0m Q9A_New_14 \u001b[38;5;241m=\u001b[39m pd\u001b[38;5;241m.\u001b[39mread_excel(\u001b[38;5;124m\"\u001b[39m\u001b[38;5;124m/Users/khangphamgia/Downloads/2008-16Clean/2014_new_excel/Q9A_New_14.xlsx\u001b[39m\u001b[38;5;124m\"\u001b[39m)\n\u001b[1;32m      6\u001b[0m Q1_New_14 \u001b[38;5;241m=\u001b[39m pd\u001b[38;5;241m.\u001b[39mread_excel(\u001b[38;5;124m\"\u001b[39m\u001b[38;5;124m/Users/khangphamgia/Downloads/2008-16Clean/2014_new_excel/Q1_New_14.xlsx\u001b[39m\u001b[38;5;124m\"\u001b[39m)\n",
      "File \u001b[0;32m~/Library/Python/3.9/lib/python/site-packages/pandas/io/excel/_base.py:478\u001b[0m, in \u001b[0;36mread_excel\u001b[0;34m(io, sheet_name, header, names, index_col, usecols, dtype, engine, converters, true_values, false_values, skiprows, nrows, na_values, keep_default_na, na_filter, verbose, parse_dates, date_parser, date_format, thousands, decimal, comment, skipfooter, storage_options, dtype_backend)\u001b[0m\n\u001b[1;32m    476\u001b[0m \u001b[38;5;28;01mif\u001b[39;00m \u001b[38;5;129;01mnot\u001b[39;00m \u001b[38;5;28misinstance\u001b[39m(io, ExcelFile):\n\u001b[1;32m    477\u001b[0m     should_close \u001b[38;5;241m=\u001b[39m \u001b[38;5;28;01mTrue\u001b[39;00m\n\u001b[0;32m--> 478\u001b[0m     io \u001b[38;5;241m=\u001b[39m \u001b[43mExcelFile\u001b[49m\u001b[43m(\u001b[49m\u001b[43mio\u001b[49m\u001b[43m,\u001b[49m\u001b[43m \u001b[49m\u001b[43mstorage_options\u001b[49m\u001b[38;5;241;43m=\u001b[39;49m\u001b[43mstorage_options\u001b[49m\u001b[43m,\u001b[49m\u001b[43m \u001b[49m\u001b[43mengine\u001b[49m\u001b[38;5;241;43m=\u001b[39;49m\u001b[43mengine\u001b[49m\u001b[43m)\u001b[49m\n\u001b[1;32m    479\u001b[0m \u001b[38;5;28;01melif\u001b[39;00m engine \u001b[38;5;129;01mand\u001b[39;00m engine \u001b[38;5;241m!=\u001b[39m io\u001b[38;5;241m.\u001b[39mengine:\n\u001b[1;32m    480\u001b[0m     \u001b[38;5;28;01mraise\u001b[39;00m \u001b[38;5;167;01mValueError\u001b[39;00m(\n\u001b[1;32m    481\u001b[0m         \u001b[38;5;124m\"\u001b[39m\u001b[38;5;124mEngine should not be specified when passing \u001b[39m\u001b[38;5;124m\"\u001b[39m\n\u001b[1;32m    482\u001b[0m         \u001b[38;5;124m\"\u001b[39m\u001b[38;5;124man ExcelFile - ExcelFile already has the engine set\u001b[39m\u001b[38;5;124m\"\u001b[39m\n\u001b[1;32m    483\u001b[0m     )\n",
      "File \u001b[0;32m~/Library/Python/3.9/lib/python/site-packages/pandas/io/excel/_base.py:1496\u001b[0m, in \u001b[0;36mExcelFile.__init__\u001b[0;34m(self, path_or_buffer, engine, storage_options)\u001b[0m\n\u001b[1;32m   1494\u001b[0m     ext \u001b[38;5;241m=\u001b[39m \u001b[38;5;124m\"\u001b[39m\u001b[38;5;124mxls\u001b[39m\u001b[38;5;124m\"\u001b[39m\n\u001b[1;32m   1495\u001b[0m \u001b[38;5;28;01melse\u001b[39;00m:\n\u001b[0;32m-> 1496\u001b[0m     ext \u001b[38;5;241m=\u001b[39m \u001b[43minspect_excel_format\u001b[49m\u001b[43m(\u001b[49m\n\u001b[1;32m   1497\u001b[0m \u001b[43m        \u001b[49m\u001b[43mcontent_or_path\u001b[49m\u001b[38;5;241;43m=\u001b[39;49m\u001b[43mpath_or_buffer\u001b[49m\u001b[43m,\u001b[49m\u001b[43m \u001b[49m\u001b[43mstorage_options\u001b[49m\u001b[38;5;241;43m=\u001b[39;49m\u001b[43mstorage_options\u001b[49m\n\u001b[1;32m   1498\u001b[0m \u001b[43m    \u001b[49m\u001b[43m)\u001b[49m\n\u001b[1;32m   1499\u001b[0m     \u001b[38;5;28;01mif\u001b[39;00m ext \u001b[38;5;129;01mis\u001b[39;00m \u001b[38;5;28;01mNone\u001b[39;00m:\n\u001b[1;32m   1500\u001b[0m         \u001b[38;5;28;01mraise\u001b[39;00m \u001b[38;5;167;01mValueError\u001b[39;00m(\n\u001b[1;32m   1501\u001b[0m             \u001b[38;5;124m\"\u001b[39m\u001b[38;5;124mExcel file format cannot be determined, you must specify \u001b[39m\u001b[38;5;124m\"\u001b[39m\n\u001b[1;32m   1502\u001b[0m             \u001b[38;5;124m\"\u001b[39m\u001b[38;5;124man engine manually.\u001b[39m\u001b[38;5;124m\"\u001b[39m\n\u001b[1;32m   1503\u001b[0m         )\n",
      "File \u001b[0;32m~/Library/Python/3.9/lib/python/site-packages/pandas/io/excel/_base.py:1371\u001b[0m, in \u001b[0;36minspect_excel_format\u001b[0;34m(content_or_path, storage_options)\u001b[0m\n\u001b[1;32m   1368\u001b[0m \u001b[38;5;28;01mif\u001b[39;00m \u001b[38;5;28misinstance\u001b[39m(content_or_path, \u001b[38;5;28mbytes\u001b[39m):\n\u001b[1;32m   1369\u001b[0m     content_or_path \u001b[38;5;241m=\u001b[39m BytesIO(content_or_path)\n\u001b[0;32m-> 1371\u001b[0m \u001b[38;5;28;01mwith\u001b[39;00m \u001b[43mget_handle\u001b[49m\u001b[43m(\u001b[49m\n\u001b[1;32m   1372\u001b[0m \u001b[43m    \u001b[49m\u001b[43mcontent_or_path\u001b[49m\u001b[43m,\u001b[49m\u001b[43m \u001b[49m\u001b[38;5;124;43m\"\u001b[39;49m\u001b[38;5;124;43mrb\u001b[39;49m\u001b[38;5;124;43m\"\u001b[39;49m\u001b[43m,\u001b[49m\u001b[43m \u001b[49m\u001b[43mstorage_options\u001b[49m\u001b[38;5;241;43m=\u001b[39;49m\u001b[43mstorage_options\u001b[49m\u001b[43m,\u001b[49m\u001b[43m \u001b[49m\u001b[43mis_text\u001b[49m\u001b[38;5;241;43m=\u001b[39;49m\u001b[38;5;28;43;01mFalse\u001b[39;49;00m\n\u001b[1;32m   1373\u001b[0m \u001b[43m\u001b[49m\u001b[43m)\u001b[49m \u001b[38;5;28;01mas\u001b[39;00m handle:\n\u001b[1;32m   1374\u001b[0m     stream \u001b[38;5;241m=\u001b[39m handle\u001b[38;5;241m.\u001b[39mhandle\n\u001b[1;32m   1375\u001b[0m     stream\u001b[38;5;241m.\u001b[39mseek(\u001b[38;5;241m0\u001b[39m)\n",
      "File \u001b[0;32m~/Library/Python/3.9/lib/python/site-packages/pandas/io/common.py:868\u001b[0m, in \u001b[0;36mget_handle\u001b[0;34m(path_or_buf, mode, encoding, compression, memory_map, is_text, errors, storage_options)\u001b[0m\n\u001b[1;32m    859\u001b[0m         handle \u001b[38;5;241m=\u001b[39m \u001b[38;5;28mopen\u001b[39m(\n\u001b[1;32m    860\u001b[0m             handle,\n\u001b[1;32m    861\u001b[0m             ioargs\u001b[38;5;241m.\u001b[39mmode,\n\u001b[0;32m   (...)\u001b[0m\n\u001b[1;32m    864\u001b[0m             newline\u001b[38;5;241m=\u001b[39m\u001b[38;5;124m\"\u001b[39m\u001b[38;5;124m\"\u001b[39m,\n\u001b[1;32m    865\u001b[0m         )\n\u001b[1;32m    866\u001b[0m     \u001b[38;5;28;01melse\u001b[39;00m:\n\u001b[1;32m    867\u001b[0m         \u001b[38;5;66;03m# Binary mode\u001b[39;00m\n\u001b[0;32m--> 868\u001b[0m         handle \u001b[38;5;241m=\u001b[39m \u001b[38;5;28;43mopen\u001b[39;49m\u001b[43m(\u001b[49m\u001b[43mhandle\u001b[49m\u001b[43m,\u001b[49m\u001b[43m \u001b[49m\u001b[43mioargs\u001b[49m\u001b[38;5;241;43m.\u001b[39;49m\u001b[43mmode\u001b[49m\u001b[43m)\u001b[49m\n\u001b[1;32m    869\u001b[0m     handles\u001b[38;5;241m.\u001b[39mappend(handle)\n\u001b[1;32m    871\u001b[0m \u001b[38;5;66;03m# Convert BytesIO or file objects passed with an encoding\u001b[39;00m\n",
      "\u001b[0;31mFileNotFoundError\u001b[0m: [Errno 2] No such file or directory: '/Users/khangphamgia/Downloads/2008-16Clean/2014_new_excel/Phieu_New_14.xlsx'"
     ]
    }
   ],
   "source": [
    "\n",
    "#Load data sets\n",
    "Phieu_New_14 = pd.read_excel(\"/Users/khangphamgia/Downloads/2008-16Clean/2014_new_excel/Phieu_New_14.xlsx\")\n",
    "Q9A_New_14 = pd.read_excel(\"/Users/khangphamgia/Downloads/2008-16Clean/2014_new_excel/Q9A_New_14.xlsx\")\n",
    "Q1_New_14 = pd.read_excel(\"/Users/khangphamgia/Downloads/2008-16Clean/2014_new_excel/Q1_New_14.xlsx\")\n",
    "Q2E_New_14 = pd.read_excel(\"/Users/khangphamgia/Downloads/2008-16Clean/2014_new_excel/Q2E_New_14.xlsx\")\n",
    "Q5F_New_14 = pd.read_excel(\"/Users/khangphamgia/Downloads/2008-16Clean/2014_new_excel/Q5F_New_14.xlsx\")\n",
    "Q7A_New_14 = pd.read_excel(\"/Users/khangphamgia/Downloads/2008-16Clean/2014_new_excel/Q7A_New_14.xlsx\")\n"
   ]
  },
  {
   "cell_type": "code",
   "execution_count": null,
   "metadata": {},
   "outputs": [
    {
     "name": "stdout",
     "output_type": "stream",
     "text": [
      "   tinh_2014  quan_2014  xa_2014  ma_h0_2014  p34ma_  p34q1_  p34q2_  p34q3a_  \\\n",
      "0        105          1       17           1       1       2      98       98   \n",
      "1        105          1       17           1       2       1   36000        7   \n",
      "2        105          1       17           2       2       2      98       98   \n",
      "3        105          1       17           2       1       2      98       98   \n",
      "4        105          1       17           3       2       2      98       98   \n",
      "\n",
      "   p34q3b_  p34q3c_  p34q4a_  p34q4b_  p34q4c_  panel0816  \n",
      "0     98.0     98.0       98     98.0     98.0        1.0  \n",
      "1      NaN      NaN        5      NaN      NaN        1.0  \n",
      "2     98.0     98.0       98     98.0     98.0        1.0  \n",
      "3     98.0     98.0       98     98.0     98.0        1.0  \n",
      "4     98.0     98.0       98     98.0     98.0        1.0  \n"
     ]
    }
   ],
   "source": [
    "print(Q5F_New_14.head())"
   ]
  },
  {
   "cell_type": "markdown",
   "metadata": {},
   "source": [
    "**\"Phieu_New_14\" collect the general information of the households, from that based on their answers, they will be directed to different sections => The total number of households in the data is 2,725**"
   ]
  },
  {
   "cell_type": "code",
   "execution_count": null,
   "metadata": {},
   "outputs": [
    {
     "name": "stdout",
     "output_type": "stream",
     "text": [
      "      tinh_2014  quan_2014  xa_2014  ma_h0_2014  tinh_2012  quan_2012  \\\n",
      "0           105          1       17           1      105.0        1.0   \n",
      "1           105          1       17           2      105.0        1.0   \n",
      "2           105          1       17           3      105.0        1.0   \n",
      "3           105          1       17          91      105.0        1.0   \n",
      "4           105          1       23           1      105.0        1.0   \n",
      "...         ...        ...      ...         ...        ...        ...   \n",
      "2720        801         27       23           1      801.0       27.0   \n",
      "2721        801         27       23           2      801.0       27.0   \n",
      "2722        801         27       23           3      801.0       27.0   \n",
      "2723        801         27       29           1      801.0       27.0   \n",
      "2724        801         27       29           2      801.0       27.0   \n",
      "\n",
      "      xa_2012  ma_h0_2012  thay_cho_o  thay_doi_chu_ho  ...  p58q7b_02  \\\n",
      "0        17.0         1.0           2                2  ...          2   \n",
      "1        17.0         2.0           2                2  ...          2   \n",
      "2        17.0         3.0           2                2  ...          2   \n",
      "3        17.0        91.0           2                2  ...          2   \n",
      "4        23.0         1.0           2                2  ...          1   \n",
      "...       ...         ...         ...              ...  ...        ...   \n",
      "2720     23.0         1.0           2                2  ...          1   \n",
      "2721     23.0         2.0           2                2  ...          1   \n",
      "2722     23.0         3.0           2                2  ...          2   \n",
      "2723     29.0         1.0           2                2  ...          2   \n",
      "2724     29.0         2.0           2                2  ...          1   \n",
      "\n",
      "      p58q7b_03  p58q7b_04  p58q7b_05  p58q7b_06  p58q7b_07  p58q7b_08  \\\n",
      "0             2          2          2          1          2          2   \n",
      "1             2          1          2          2          1          2   \n",
      "2             2          1          1          2          1          2   \n",
      "3             2          2          2          2          2          2   \n",
      "4             2          2          2          2          2          2   \n",
      "...         ...        ...        ...        ...        ...        ...   \n",
      "2720          2          2          2          1          2          1   \n",
      "2721          2          2          2          2          2          2   \n",
      "2722          2          2          2          2          2          2   \n",
      "2723          2          2          2          1          2          1   \n",
      "2724          2          2          2          2          2          2   \n",
      "\n",
      "      p58q7b_09  p58q7b_10  panel0816  \n",
      "0             1          2        1.0  \n",
      "1             2          2        1.0  \n",
      "2             2          1        1.0  \n",
      "3             2          2        NaN  \n",
      "4             2          2        1.0  \n",
      "...         ...        ...        ...  \n",
      "2720          1          2        1.0  \n",
      "2721          2          2        1.0  \n",
      "2722          2          2        1.0  \n",
      "2723          1          1        1.0  \n",
      "2724          2          2        1.0  \n",
      "\n",
      "[2725 rows x 307 columns]\n"
     ]
    }
   ],
   "source": [
    "#summary dataset\n",
    "print(Phieu_New_14) "
   ]
  },
  {
   "cell_type": "markdown",
   "metadata": {},
   "source": [
    "**\"Q9A_New_14\" is the section 9: SHOCKS AND RISK COPING, record answer of those who answer \"Yes\" to the question of \"Does your household have any type of insurance\" in \"Phieu_New_14\" => The total number in the data is 2678**"
   ]
  },
  {
   "cell_type": "code",
   "execution_count": null,
   "metadata": {},
   "outputs": [
    {
     "name": "stdout",
     "output_type": "stream",
     "text": [
      "      tinh_2014  quan_2014  xa_2014  ma_h0_2014  p43q2_  p43q3_  p43q4a_  \\\n",
      "0           105          1       17           1       6       1       99   \n",
      "1           105          1       17           1       9       1       98   \n",
      "2           105          1       17           2       9       1       98   \n",
      "3           105          1       17           3       9       1       98   \n",
      "4           105          1       17          91       5       1      500   \n",
      "...         ...        ...      ...         ...     ...     ...      ...   \n",
      "2672        801         27       17           3       5       1     1480   \n",
      "2673        801         27       17           3       6       1      277   \n",
      "2674        801         27       17           3       7       1      180   \n",
      "2675        801         27       23           2       6       1       98   \n",
      "2676        801         27       29           2       5       1      624   \n",
      "\n",
      "      p43q4b_  p43q5_  panel0816  \n",
      "0          98   12000        1.0  \n",
      "1          98       0        1.0  \n",
      "2          98       0        1.0  \n",
      "3          98       0        1.0  \n",
      "4           1       0        NaN  \n",
      "...       ...     ...        ...  \n",
      "2672        1       0        1.0  \n",
      "2673        1       0        1.0  \n",
      "2674        1       0        1.0  \n",
      "2675       98       0        1.0  \n",
      "2676        3       0        1.0  \n",
      "\n",
      "[2677 rows x 10 columns]\n"
     ]
    }
   ],
   "source": [
    "print(Q9A_New_14)"
   ]
  },
  {
   "cell_type": "markdown",
   "metadata": {},
   "source": [
    "**\"Q7A_New_14\" is the section 7: EXPENDITURES, SAVINGS, AND ASSETS. Section 7A records Food Expenditures (in the last 4 weeks). The households were asked whether they consume any of the 14 food items, each row represents 1 food item -> their quantity, price value -> total monetary value of that food item. Not applicable = 98**"
   ]
  },
  {
   "cell_type": "code",
   "execution_count": null,
   "metadata": {},
   "outputs": [
    {
     "name": "stdout",
     "output_type": "stream",
     "text": [
      "      tinh_2014  quan_2014  xa_2014  ma_h0_2014  p37q4_\n",
      "0           105          1       17           1   945.0\n",
      "1           105          1       17           2   820.0\n",
      "2           105          1       17           3  1230.0\n",
      "3           105          1       23           1   485.0\n",
      "4           105          1       23           2  1960.0\n",
      "...         ...        ...      ...         ...     ...\n",
      "2122        801         27       23           1  3420.0\n",
      "2123        801         27       23           2   490.0\n",
      "2124        801         27       23           3  2100.0\n",
      "2125        801         27       29           1   150.0\n",
      "2126        801         27       29           2   420.0\n",
      "\n",
      "[2127 rows x 5 columns]\n"
     ]
    }
   ],
   "source": [
    "#Clear any rows with values in the column p37q2_, p37q3_ that has the value 98 \n",
    "Q7A_New_14 = Q7A_New_14[Q7A_New_14.p37q2_ != 98]\n",
    "#Drop rows with missing values\n",
    "Q7A_New_14 = Q7A_New_14.dropna()\n",
    "#Sum up the values of p37q2_ \n",
    "Q7A_New_14_grouped = Q7A_New_14.groupby(['tinh_2014', 'quan_2014', 'xa_2014', 'ma_h0_2014'])['p37q4_'].sum().reset_index()\n",
    "print(Q7A_New_14_grouped)\n"
   ]
  },
  {
   "cell_type": "code",
   "execution_count": null,
   "metadata": {},
   "outputs": [
    {
     "name": "stdout",
     "output_type": "stream",
     "text": [
      "      tinh_2014  quan_2014  xa_2014  ma_h0_2014  p35q10  p43q1  p43q6  \\\n",
      "0           105          1       17           1  124500      1     98   \n",
      "1           105          1       17           2  120500      1     98   \n",
      "2           105          1       17           3   46000      1     98   \n",
      "3           105          1       17          91  100640      1     98   \n",
      "4           105          1       23           1   72000      1     98   \n",
      "...         ...        ...      ...         ...     ...    ...    ...   \n",
      "2720        801         27       23           1  279040      2     98   \n",
      "2721        801         27       23           2  100320      1     98   \n",
      "2722        801         27       23           3  159000      2     98   \n",
      "2723        801         27       29           1   16560      2     98   \n",
      "2724        801         27       29           2   85350      1    724   \n",
      "\n",
      "      thien_tai  p42q21  p54q1  p55q2  p36q1  \n",
      "0             2       0      2      1    2.0  \n",
      "1             2       0      2      4    2.0  \n",
      "2             2       0      2      2    2.0  \n",
      "3             2       0      1      1    2.0  \n",
      "4             2       0      2      1    2.0  \n",
      "...         ...     ...    ...    ...    ...  \n",
      "2720          2       0      2      2    2.0  \n",
      "2721          2       0      2      1    1.0  \n",
      "2722          2       0      2      1    2.0  \n",
      "2723          2       0      2      1    2.0  \n",
      "2724          2       0      2      1    1.0  \n",
      "\n",
      "[2725 rows x 12 columns]\n"
     ]
    }
   ],
   "source": [
    "#Keep only the following columns \n",
    "Phieu_New_14_clean = Phieu_New_14[['tinh_2014', 'quan_2014', 'xa_2014', 'ma_h0_2014', 'p35q10', 'p43q1', 'p43q6', 'thien_tai', 'p42q21', 'p54q1', 'p55q2', 'p36q1']]\n",
    "print(Phieu_New_14_clean)\n"
   ]
  },
  {
   "cell_type": "code",
   "execution_count": null,
   "metadata": {},
   "outputs": [
    {
     "name": "stdout",
     "output_type": "stream",
     "text": [
      "      tinh_2014  quan_2014  xa_2014  ma_h0_2014  p35q10  p43q1  p43q6  \\\n",
      "0           105          1       17           1  124500      1     98   \n",
      "1           105          1       17           2  120500      1     98   \n",
      "2           105          1       17           3   46000      1     98   \n",
      "3           105          1       17          91  100640      1     98   \n",
      "4           105          1       23           1   72000      1     98   \n",
      "...         ...        ...      ...         ...     ...    ...    ...   \n",
      "2720        801         27       23           1  279040      2     98   \n",
      "2721        801         27       23           2  100320      1     98   \n",
      "2722        801         27       23           3  159000      2     98   \n",
      "2723        801         27       29           1   16560      2     98   \n",
      "2724        801         27       29           2   85350      1    724   \n",
      "\n",
      "      thien_tai  p42q21  p54q1  p55q2  p36q1  p37q4_  \n",
      "0             2       0      2      1    2.0   945.0  \n",
      "1             2       0      2      4    2.0   820.0  \n",
      "2             2       0      2      2    2.0  1230.0  \n",
      "3             2       0      1      1    2.0     NaN  \n",
      "4             2       0      2      1    2.0   485.0  \n",
      "...         ...     ...    ...    ...    ...     ...  \n",
      "2720          2       0      2      2    2.0  3420.0  \n",
      "2721          2       0      2      1    1.0   490.0  \n",
      "2722          2       0      2      1    2.0  2100.0  \n",
      "2723          2       0      2      1    2.0   150.0  \n",
      "2724          2       0      2      1    1.0   420.0  \n",
      "\n",
      "[2725 rows x 13 columns]\n"
     ]
    }
   ],
   "source": [
    "merged_df = pd.merge(Phieu_New_14_clean, Q7A_New_14_grouped, on=['tinh_2014', 'quan_2014', 'xa_2014', 'ma_h0_2014'], how='left')\n",
    "print(merged_df)"
   ]
  },
  {
   "cell_type": "code",
   "execution_count": null,
   "metadata": {},
   "outputs": [
    {
     "name": "stdout",
     "output_type": "stream",
     "text": [
      "      tinh_2014  quan_2014  xa_2014  ma_h0_2014 p12ma_  p12q1_  p12q2a_  \\\n",
      "0           105          3       21          17    a15     2.0     98.0   \n",
      "1           105          3       21          17    a18     2.0     98.0   \n",
      "2           105          3       21          17     a9     2.0     98.0   \n",
      "3           105          3       21          17    a16     2.0     98.0   \n",
      "4           105          3       21          17    a14     2.0     98.0   \n",
      "...         ...        ...      ...         ...    ...     ...      ...   \n",
      "1860        801         25       25           9     b1     2.0     98.0   \n",
      "1861        801         25       25           9     b2     2.0     98.0   \n",
      "1863        801         25       25           9     a2     2.0     98.0   \n",
      "1864        801         25       25          16     a2     2.0     98.0   \n",
      "1865        801         25       25          16     a1     2.0     98.0   \n",
      "\n",
      "      p12q2b_  p12q5_ p13ma_  p13q8_ p13ma1_  p13q11_  panel0816  \\\n",
      "0        98.0     2.0    a15     2.0     a15      2.0        1.0   \n",
      "1        98.0     2.0    a18     2.0     a18      2.0        1.0   \n",
      "2        98.0     2.0     a9     2.0      a9      2.0        1.0   \n",
      "3        98.0     2.0    a16     2.0     a16      2.0        1.0   \n",
      "4        98.0     2.0    a14     2.0     a14      2.0        1.0   \n",
      "...       ...     ...    ...     ...     ...      ...        ...   \n",
      "1860     98.0     2.0     b1     2.0      b1      2.0        1.0   \n",
      "1861     98.0     2.0     b2     2.0      b2      2.0        1.0   \n",
      "1863     98.0     2.0     a2     2.0      a2      1.0        1.0   \n",
      "1864     98.0     2.0     a2     2.0      a2      2.0        1.0   \n",
      "1865     98.0     1.0     a1     2.0      a1      2.0        1.0   \n",
      "\n",
      "      p12q1_grouped  \n",
      "0               2.0  \n",
      "1               2.0  \n",
      "2               2.0  \n",
      "3               2.0  \n",
      "4               2.0  \n",
      "...             ...  \n",
      "1860            2.0  \n",
      "1861            2.0  \n",
      "1863            2.0  \n",
      "1864            2.0  \n",
      "1865            2.0  \n",
      "\n",
      "[1103 rows x 15 columns]\n"
     ]
    }
   ],
   "source": [
    "#Drop NA values\n",
    "Q2E_New_14 = Q2E_New_14.dropna()\n",
    "# Group by the specified columns and apply the custom function\n",
    "Q2E_New_14['p12q1_grouped'] = Q2E_New_14.groupby(['tinh_2014', 'quan_2014', 'xa_2014', 'ma_h0_2014'])['p12q1_'].transform(\n",
    "    lambda x: x.iloc[0] if x.nunique() == 1 else 1\n",
    ")\n",
    "print(Q2E_New_14)\n",
    "#Remove duplicates\n",
    "Q2E_New_14 = Q2E_New_14.drop_duplicates(subset=['tinh_2014', 'quan_2014', 'xa_2014', 'ma_h0_2014'])\n"
   ]
  },
  {
   "cell_type": "code",
   "execution_count": null,
   "metadata": {},
   "outputs": [
    {
     "name": "stdout",
     "output_type": "stream",
     "text": [
      "      tinh_2014  quan_2014  xa_2014  ma_h0_2014  p12q1_grouped\n",
      "0           105          3       21          17            2.0\n",
      "11          105          5       15           1            2.0\n",
      "19          105          5       31           2            2.0\n",
      "25          105          5       53          12            2.0\n",
      "36          105          5       53          14            2.0\n",
      "...         ...        ...      ...         ...            ...\n",
      "1852        801         23       11           2            2.0\n",
      "1856        801         23       21           4            2.0\n",
      "1859        801         25       25           7            2.0\n",
      "1860        801         25       25           9            2.0\n",
      "1864        801         25       25          16            2.0\n",
      "\n",
      "[274 rows x 5 columns]\n"
     ]
    }
   ],
   "source": [
    "Q2E_New_14_clean = Q2E_New_14[['tinh_2014', 'quan_2014', 'xa_2014', 'ma_h0_2014', 'p12q1_grouped']]\n",
    "print(Q2E_New_14_clean)"
   ]
  },
  {
   "cell_type": "code",
   "execution_count": null,
   "metadata": {},
   "outputs": [
    {
     "data": {
      "text/plain": [
       "p12q1_grouped\n",
       "2.0    218\n",
       "1.0     56\n",
       "Name: count, dtype: int64"
      ]
     },
     "execution_count": 179,
     "metadata": {},
     "output_type": "execute_result"
    }
   ],
   "source": [
    "# Merge the datasets using a left join\n",
    "merged_df_full = pd.merge(merged_df, Q2E_New_14_clean, on=['tinh_2014', 'quan_2014', 'xa_2014', 'ma_h0_2014'], how='left')\n",
    "#count the unique values of the column p12q1_grouped\n",
    "merged_df_full['p12q1_grouped'].value_counts()\n"
   ]
  },
  {
   "cell_type": "code",
   "execution_count": null,
   "metadata": {},
   "outputs": [
    {
     "name": "stdout",
     "output_type": "stream",
     "text": [
      "      tinh_2014  quan_2014  xa_2014  ma_h0_2014  p34q2_\n",
      "0           105          1       17           1   36098\n",
      "1           105          1       17           2     196\n",
      "2           105          1       17           3    1098\n",
      "3           105          1       17          91     196\n",
      "4           105          1       23           1     196\n",
      "...         ...        ...      ...         ...     ...\n",
      "2720        801         27       23           1   11138\n",
      "2721        801         27       23           2    6320\n",
      "2722        801         27       23           3     196\n",
      "2723        801         27       29           1   16560\n",
      "2724        801         27       29           2     196\n",
      "\n",
      "[2725 rows x 5 columns]\n"
     ]
    }
   ],
   "source": [
    "Q5F_New_14_grouped = Q5F_New_14.groupby(['tinh_2014', 'quan_2014', 'xa_2014', 'ma_h0_2014'])['p34q2_'].sum().reset_index()\n",
    "print(Q5F_New_14_grouped)"
   ]
  },
  {
   "cell_type": "code",
   "execution_count": null,
   "metadata": {},
   "outputs": [
    {
     "name": "stdout",
     "output_type": "stream",
     "text": [
      "      tinh_2014  quan_2014  xa_2014  ma_h0_2014  p35q10  p43q1  p43q6  \\\n",
      "0           105          1       17           1  124500      1     98   \n",
      "1           105          1       17           2  120500      1     98   \n",
      "2           105          1       17           3   46000      1     98   \n",
      "3           105          1       17          91  100640      1     98   \n",
      "4           105          1       23           1   72000      1     98   \n",
      "...         ...        ...      ...         ...     ...    ...    ...   \n",
      "2720        801         27       23           1  279040      2     98   \n",
      "2721        801         27       23           2  100320      1     98   \n",
      "2722        801         27       23           3  159000      2     98   \n",
      "2723        801         27       29           1   16560      2     98   \n",
      "2724        801         27       29           2   85350      1    724   \n",
      "\n",
      "      thien_tai  p42q21  p54q1  p55q2  p36q1  p37q4_  p12q1_grouped  p34q2_  \n",
      "0             2       0      2      1    2.0   945.0            NaN   36098  \n",
      "1             2       0      2      4    2.0   820.0            NaN     196  \n",
      "2             2       0      2      2    2.0  1230.0            NaN    1098  \n",
      "3             2       0      1      1    2.0     NaN            NaN     196  \n",
      "4             2       0      2      1    2.0   485.0            NaN     196  \n",
      "...         ...     ...    ...    ...    ...     ...            ...     ...  \n",
      "2720          2       0      2      2    2.0  3420.0            NaN   11138  \n",
      "2721          2       0      2      1    1.0   490.0            NaN    6320  \n",
      "2722          2       0      2      1    2.0  2100.0            NaN     196  \n",
      "2723          2       0      2      1    2.0   150.0            NaN   16560  \n",
      "2724          2       0      2      1    1.0   420.0            NaN     196  \n",
      "\n",
      "[2725 rows x 15 columns]\n"
     ]
    }
   ],
   "source": [
    "merged_df_full = pd.merge(merged_df_full, Q5F_New_14_grouped, on=['tinh_2014', 'quan_2014', 'xa_2014', 'ma_h0_2014'], how='left')\n",
    "print(merged_df_full)"
   ]
  },
  {
   "cell_type": "code",
   "execution_count": null,
   "metadata": {},
   "outputs": [
    {
     "name": "stdout",
     "output_type": "stream",
     "text": [
      "      tinh_2014  quan_2014  xa_2014  ma_h0_2014  p35q10  p43q1  p43q6  \\\n",
      "0           105          1       17           1  124500      1     98   \n",
      "1           105          1       17           2  120500      1     98   \n",
      "2           105          1       17           3   46000      1     98   \n",
      "3           105          1       17          91  100640      1     98   \n",
      "4           105          1       23           1   72000      1     98   \n",
      "...         ...        ...      ...         ...     ...    ...    ...   \n",
      "2720        801         27       23           1  279040      2     98   \n",
      "2721        801         27       23           2  100320      1     98   \n",
      "2722        801         27       23           3  159000      2     98   \n",
      "2723        801         27       29           1   16560      2     98   \n",
      "2724        801         27       29           2   85350      1    724   \n",
      "\n",
      "      thien_tai  p42q21  p54q1  p55q2  p36q1  p37q4_  p12q1_grouped  p34q2_  \\\n",
      "0             2       0      2      1    2.0   945.0            NaN   36098   \n",
      "1             2       0      2      4    2.0   820.0            NaN     196   \n",
      "2             2       0      2      2    2.0  1230.0            NaN    1098   \n",
      "3             2       0      1      1    2.0     NaN            NaN     196   \n",
      "4             2       0      2      1    2.0   485.0            NaN     196   \n",
      "...         ...     ...    ...    ...    ...     ...            ...     ...   \n",
      "2720          2       0      2      2    2.0  3420.0            NaN   11138   \n",
      "2721          2       0      2      1    1.0   490.0            NaN    6320   \n",
      "2722          2       0      2      1    2.0  2100.0            NaN     196   \n",
      "2723          2       0      2      1    2.0   150.0            NaN   16560   \n",
      "2724          2       0      2      1    1.0   420.0            NaN     196   \n",
      "\n",
      "      family_size  \n",
      "0               7  \n",
      "1               6  \n",
      "2               5  \n",
      "3               4  \n",
      "4               2  \n",
      "...           ...  \n",
      "2720            5  \n",
      "2721            6  \n",
      "2722            4  \n",
      "2723            1  \n",
      "2724            6  \n",
      "\n",
      "[2725 rows x 16 columns]\n"
     ]
    }
   ],
   "source": [
    "# Calculate family size for each household\n",
    "family_size = Q1_New_14.groupby(['tinh_2014', 'quan_2014', 'xa_2014', 'ma_h0_2014']).size().reset_index(name='family_size')\n",
    "\n",
    "# Merge the family size back into the original dataframe\n",
    "merged_df_2014 = pd.merge(merged_df_full, family_size, on=['tinh_2014', 'quan_2014', 'xa_2014', 'ma_h0_2014'], how='left')\n",
    "print(merged_df_2014)\n",
    "\n"
   ]
  },
  {
   "cell_type": "code",
   "execution_count": null,
   "metadata": {
    "vscode": {
     "languageId": "javascript"
    }
   },
   "outputs": [
    {
     "name": "stdout",
     "output_type": "stream",
     "text": [
      "   Province  District  Commune  Household_ID  Annual_Income_2014  \\\n",
      "0       105         1       17             1              124500   \n",
      "1       105         1       17             2              120500   \n",
      "2       105         1       17             3               46000   \n",
      "3       105         1       17            91              100640   \n",
      "4       105         1       23             1               72000   \n",
      "\n",
      "   Have_Insurance_2014  Interest_Purchasing_2014  Disaster_2014  \\\n",
      "0                    1                        98              2   \n",
      "1                    1                        98              2   \n",
      "2                    1                        98              2   \n",
      "3                    1                        98              2   \n",
      "4                    1                        98              2   \n",
      "\n",
      "   Loan_Rejected_2014  COCC_2014  Access_Internet_2014  Access_Service_2014  \\\n",
      "0                   0          2                     1                  2.0   \n",
      "1                   0          2                     4                  2.0   \n",
      "2                   0          2                     2                  2.0   \n",
      "3                   0          1                     1                  2.0   \n",
      "4                   0          2                     1                  2.0   \n",
      "\n",
      "   Food_Consumption_2014  Plot_Investment_Dummy_2014  Transfer_Received_2014  \\\n",
      "0                  945.0                         NaN                   36098   \n",
      "1                  820.0                         NaN                     196   \n",
      "2                 1230.0                         NaN                    1098   \n",
      "3                    NaN                         NaN                     196   \n",
      "4                  485.0                         NaN                     196   \n",
      "\n",
      "   Family_Size_2014  \n",
      "0                 7  \n",
      "1                 6  \n",
      "2                 5  \n",
      "3                 4  \n",
      "4                 2  \n"
     ]
    }
   ],
   "source": [
    "merged_df_2014 = merged_df_2014.rename(columns={\n",
    "    'tinh_2014': 'Province',\n",
    "    'quan_2014': 'District',\n",
    "    'xa_2014': 'Commune',\n",
    "    'ma_h0_2014': 'Household_ID',\n",
    "    'p35q10': 'Annual_Income_2014',\n",
    "    'p43q1': 'Have_Insurance_2014',\n",
    "    'p43q6': 'Interest_Purchasing_2014',\n",
    "    'thien_tai': 'Disaster_2014',\n",
    "    'p42q21': 'Loan_Rejected_2014',\n",
    "    'p54q1': 'COCC_2014',\n",
    "    'p55q2': 'Access_Internet_2014',\n",
    "    'p36q1': 'Access_Service_2014',\n",
    "    'p37q4_': 'Food_Consumption_2014',\n",
    "    'p12q1_grouped': 'Plot_Investment_Dummy_2014',\n",
    "    'p34q2_': 'Transfer_Received_2014',\n",
    "    'family_size': 'Family_Size_2014'\n",
    "})\n",
    "print(merged_df_2014.head())"
   ]
  },
  {
   "cell_type": "code",
   "execution_count": null,
   "metadata": {
    "vscode": {
     "languageId": "javascript"
    }
   },
   "outputs": [
    {
     "name": "stdout",
     "output_type": "stream",
     "text": [
      "Index(['Province', 'District', 'Commune', 'Household_ID', 'Annual_Income_2014',\n",
      "       'Have_Insurance_2014', 'Interest_Purchasing_2014', 'Disaster_2014',\n",
      "       'Loan_Rejected_2014', 'COCC_2014', 'Access_Internet_2014',\n",
      "       'Access_Service_2014', 'Food_Consumption_2014',\n",
      "       'Plot_Investment_Dummy_2014', 'Transfer_Received_2014',\n",
      "       'Family_Size_2014'],\n",
      "      dtype='object')\n"
     ]
    }
   ],
   "source": [
    "print(merged_df_2014.columns)"
   ]
  },
  {
   "cell_type": "markdown",
   "metadata": {},
   "source": [
    "**Preparing Data for 2016**"
   ]
  },
  {
   "cell_type": "code",
   "execution_count": null,
   "metadata": {},
   "outputs": [],
   "source": [
    "Phieu_New_16 = pd.read_excel(\"/Users/khangphamgia/Downloads/2008-16Clean/2016_new_excel/Phieu_New_16.xlsx\")\n",
    "Q7A_New_16 = pd.read_excel(\"/Users/khangphamgia/Downloads/2008-16Clean/2016_new_excel/Q7A_New_16.xlsx\")\n",
    "Q2E_New_16 = pd.read_excel(\"/Users/khangphamgia/Downloads/2008-16Clean/2016_new_excel/Q2E_New_16.xlsx\")\n",
    "Q1_New_16 = pd.read_excel(\"/Users/khangphamgia/Downloads/2008-16Clean/2016_new_excel/Q1_New_16.xlsx\")\n",
    "Q5E_New_16 = pd.read_excel(\"/Users/khangphamgia/Downloads/2008-16Clean/2016_new_excel/Q5E_New_16.xlsx\")\n"
   ]
  },
  {
   "cell_type": "markdown",
   "metadata": {},
   "source": [
    "Variable used: \n",
    "- Household food consumption last month (total monetary value of each food item): Q7A_New_16 - \"p36q4_\"\n",
    "- Household monthly income (total/12): Phieu_New_16 - \"p34q10\"\n",
    "- Insurance: \n",
    "    Have any kind of insurance: Phieu_New_16 - \"p42q1\"\n",
    "    Interest in purchasing: Phieu_New_16 - \"p42q6\"\n",
    "- Disaster: Phieu_New_16 - \"thien_tai\"\n",
    "- Liquidity: \n",
    "    How many time since 2014 got loan rejected: Phieu_New_16 - \"p41q21\"\n",
    "- Economic: \n",
    "    Plot investment: Q2E_New_16 - \"p12q1_\"\n",
    "    Receive transfer: Q5E_New_16 - \"p33q2\"\n",
    "- Behavioral: \n",
    "    Have households members work in commune/ higher government: Phieu_New_16 - \"p57q1\"\n",
    "    Disaster: Phieu_New_16 - \"thien_tai\"\n",
    "    Access to internet: Phieu_New_16 - \"p58q2\"\n",
    "    Access to services: Phieu_New_16 - \"p35q1\"\n",
    "- Demographic: \n",
    "    Family size (calculated from education level) - Q1_New_16 - \"p2q10_\""
   ]
  },
  {
   "cell_type": "code",
   "execution_count": null,
   "metadata": {},
   "outputs": [
    {
     "name": "stdout",
     "output_type": "stream",
     "text": [
      "0       2.0\n",
      "1       2.0\n",
      "2       2.0\n",
      "3       2.0\n",
      "4       2.0\n",
      "       ... \n",
      "2078    2.0\n",
      "2079    NaN\n",
      "2080    2.0\n",
      "2081    NaN\n",
      "2082    2.0\n",
      "Name: p12q1_, Length: 2083, dtype: float64\n"
     ]
    }
   ],
   "source": [
    "print(Q2E_New_16[\"p12q1_\"])"
   ]
  },
  {
   "cell_type": "code",
   "execution_count": null,
   "metadata": {},
   "outputs": [
    {
     "name": "stdout",
     "output_type": "stream",
     "text": [
      "   tinh_2016  quan_2016  xa_2016  ma_h0_2016  tinh_2014  quan_2014  xa_2014  \\\n",
      "0        105          1       17           1      105.0        1.0     17.0   \n",
      "1        105          1       17           1      105.0        1.0     17.0   \n",
      "2        105          1       17           1      105.0        1.0     17.0   \n",
      "3        105          1       17           1      105.0        1.0     17.0   \n",
      "4        105          1       17           1      105.0        1.0     17.0   \n",
      "\n",
      "   ma_h0_2014  p36ma_  p36q1_  p36q2_  p36q3_  p36q4_  panel0816  \n",
      "0         1.0       3       1     4.0   100.0   400.0        1.0  \n",
      "1         1.0      11       1    15.0    20.0   300.0        1.0  \n",
      "2         1.0      14       1     NaN     NaN  1000.0        1.0  \n",
      "3         1.0       4       1     5.0    50.0   250.0        1.0  \n",
      "4         1.0       2       1     2.0   220.0   440.0        1.0  \n"
     ]
    }
   ],
   "source": [
    "print(Q7A_New_16.head())"
   ]
  },
  {
   "cell_type": "code",
   "execution_count": null,
   "metadata": {},
   "outputs": [
    {
     "name": "stdout",
     "output_type": "stream",
     "text": [
      "      tinh_2016  quan_2016  xa_2016  ma_h0_2016  p36q4_\n",
      "0           105          1       17           1  2790.0\n",
      "1           105          1       17           2  1080.0\n",
      "2           105          1       17           3  2870.0\n",
      "3           105          1       23           1  1120.0\n",
      "4           105          1       23           2  1600.0\n",
      "...         ...        ...      ...         ...     ...\n",
      "2122        801         27       23           1   772.0\n",
      "2123        801         27       23           2   777.0\n",
      "2124        801         27       23           3   611.0\n",
      "2125        801         27       29           1   140.0\n",
      "2126        801         27       29           2   744.0\n",
      "\n",
      "[2127 rows x 5 columns]\n"
     ]
    }
   ],
   "source": [
    "#Clear any rows with values in the column p36q4_ that has the value 98 \n",
    "Q7A_New_16 = Q7A_New_16[Q7A_New_16.p36q4_ != 98]\n",
    "#Drop rows with missing values\n",
    "Q7A_New_16 = Q7A_New_16.dropna()\n",
    "#Sum up the values of p36q4_ \n",
    "Q7A_New_16_grouped = Q7A_New_16.groupby(['tinh_2016', 'quan_2016', 'xa_2016', 'ma_h0_2016'])['p36q4_'].sum().reset_index()\n",
    "print(Q7A_New_16_grouped)\n"
   ]
  },
  {
   "cell_type": "code",
   "execution_count": null,
   "metadata": {},
   "outputs": [
    {
     "data": {
      "text/html": [
       "<div>\n",
       "<style scoped>\n",
       "    .dataframe tbody tr th:only-of-type {\n",
       "        vertical-align: middle;\n",
       "    }\n",
       "\n",
       "    .dataframe tbody tr th {\n",
       "        vertical-align: top;\n",
       "    }\n",
       "\n",
       "    .dataframe thead th {\n",
       "        text-align: right;\n",
       "    }\n",
       "</style>\n",
       "<table border=\"1\" class=\"dataframe\">\n",
       "  <thead>\n",
       "    <tr style=\"text-align: right;\">\n",
       "      <th></th>\n",
       "      <th>tinh_2016</th>\n",
       "      <th>quan_2016</th>\n",
       "      <th>xa_2016</th>\n",
       "      <th>ma_h0_2016</th>\n",
       "      <th>tinh_2014</th>\n",
       "      <th>quan_2014</th>\n",
       "      <th>xa_2014</th>\n",
       "      <th>ma_h0_2014</th>\n",
       "      <th>thay_cho_o</th>\n",
       "      <th>thay_doi_chu_ho</th>\n",
       "      <th>...</th>\n",
       "      <th>p58q3b_08</th>\n",
       "      <th>p58q3b_09</th>\n",
       "      <th>p58q3b_10</th>\n",
       "      <th>p58q3b_11</th>\n",
       "      <th>p59q8</th>\n",
       "      <th>p59q9a</th>\n",
       "      <th>p59q9b</th>\n",
       "      <th>p59q9c</th>\n",
       "      <th>p59q9d</th>\n",
       "      <th>panel0816</th>\n",
       "    </tr>\n",
       "  </thead>\n",
       "  <tbody>\n",
       "    <tr>\n",
       "      <th>0</th>\n",
       "      <td>105</td>\n",
       "      <td>1</td>\n",
       "      <td>17</td>\n",
       "      <td>1</td>\n",
       "      <td>105.0</td>\n",
       "      <td>1.0</td>\n",
       "      <td>17.0</td>\n",
       "      <td>1.0</td>\n",
       "      <td>2</td>\n",
       "      <td>2</td>\n",
       "      <td>...</td>\n",
       "      <td>9.0</td>\n",
       "      <td>9.0</td>\n",
       "      <td>9.0</td>\n",
       "      <td>9.0</td>\n",
       "      <td>10000.0</td>\n",
       "      <td>2.0</td>\n",
       "      <td>NaN</td>\n",
       "      <td>1</td>\n",
       "      <td>100.0</td>\n",
       "      <td>1.0</td>\n",
       "    </tr>\n",
       "    <tr>\n",
       "      <th>1</th>\n",
       "      <td>105</td>\n",
       "      <td>1</td>\n",
       "      <td>17</td>\n",
       "      <td>2</td>\n",
       "      <td>105.0</td>\n",
       "      <td>1.0</td>\n",
       "      <td>17.0</td>\n",
       "      <td>2.0</td>\n",
       "      <td>2</td>\n",
       "      <td>2</td>\n",
       "      <td>...</td>\n",
       "      <td>2.0</td>\n",
       "      <td>9.0</td>\n",
       "      <td>9.0</td>\n",
       "      <td>9.0</td>\n",
       "      <td>5000.0</td>\n",
       "      <td>2.0</td>\n",
       "      <td>NaN</td>\n",
       "      <td>1</td>\n",
       "      <td>100.0</td>\n",
       "      <td>1.0</td>\n",
       "    </tr>\n",
       "    <tr>\n",
       "      <th>2</th>\n",
       "      <td>105</td>\n",
       "      <td>1</td>\n",
       "      <td>17</td>\n",
       "      <td>3</td>\n",
       "      <td>105.0</td>\n",
       "      <td>1.0</td>\n",
       "      <td>17.0</td>\n",
       "      <td>3.0</td>\n",
       "      <td>2</td>\n",
       "      <td>2</td>\n",
       "      <td>...</td>\n",
       "      <td>9.0</td>\n",
       "      <td>9.0</td>\n",
       "      <td>9.0</td>\n",
       "      <td>9.0</td>\n",
       "      <td>15000.0</td>\n",
       "      <td>2.0</td>\n",
       "      <td>NaN</td>\n",
       "      <td>1</td>\n",
       "      <td>200.0</td>\n",
       "      <td>1.0</td>\n",
       "    </tr>\n",
       "    <tr>\n",
       "      <th>3</th>\n",
       "      <td>105</td>\n",
       "      <td>1</td>\n",
       "      <td>17</td>\n",
       "      <td>91</td>\n",
       "      <td>105.0</td>\n",
       "      <td>1.0</td>\n",
       "      <td>17.0</td>\n",
       "      <td>91.0</td>\n",
       "      <td>2</td>\n",
       "      <td>2</td>\n",
       "      <td>...</td>\n",
       "      <td>2.0</td>\n",
       "      <td>2.0</td>\n",
       "      <td>9.0</td>\n",
       "      <td>2.0</td>\n",
       "      <td>10000.0</td>\n",
       "      <td>2.0</td>\n",
       "      <td>NaN</td>\n",
       "      <td>1</td>\n",
       "      <td>100.0</td>\n",
       "      <td>NaN</td>\n",
       "    </tr>\n",
       "    <tr>\n",
       "      <th>4</th>\n",
       "      <td>105</td>\n",
       "      <td>1</td>\n",
       "      <td>23</td>\n",
       "      <td>1</td>\n",
       "      <td>105.0</td>\n",
       "      <td>1.0</td>\n",
       "      <td>23.0</td>\n",
       "      <td>1.0</td>\n",
       "      <td>2</td>\n",
       "      <td>2</td>\n",
       "      <td>...</td>\n",
       "      <td>9.0</td>\n",
       "      <td>9.0</td>\n",
       "      <td>9.0</td>\n",
       "      <td>9.0</td>\n",
       "      <td>3500.0</td>\n",
       "      <td>2.0</td>\n",
       "      <td>NaN</td>\n",
       "      <td>1</td>\n",
       "      <td>100.0</td>\n",
       "      <td>1.0</td>\n",
       "    </tr>\n",
       "    <tr>\n",
       "      <th>...</th>\n",
       "      <td>...</td>\n",
       "      <td>...</td>\n",
       "      <td>...</td>\n",
       "      <td>...</td>\n",
       "      <td>...</td>\n",
       "      <td>...</td>\n",
       "      <td>...</td>\n",
       "      <td>...</td>\n",
       "      <td>...</td>\n",
       "      <td>...</td>\n",
       "      <td>...</td>\n",
       "      <td>...</td>\n",
       "      <td>...</td>\n",
       "      <td>...</td>\n",
       "      <td>...</td>\n",
       "      <td>...</td>\n",
       "      <td>...</td>\n",
       "      <td>...</td>\n",
       "      <td>...</td>\n",
       "      <td>...</td>\n",
       "      <td>...</td>\n",
       "    </tr>\n",
       "    <tr>\n",
       "      <th>2664</th>\n",
       "      <td>801</td>\n",
       "      <td>27</td>\n",
       "      <td>23</td>\n",
       "      <td>1</td>\n",
       "      <td>801.0</td>\n",
       "      <td>27.0</td>\n",
       "      <td>23.0</td>\n",
       "      <td>1.0</td>\n",
       "      <td>2</td>\n",
       "      <td>2</td>\n",
       "      <td>...</td>\n",
       "      <td>2.0</td>\n",
       "      <td>2.0</td>\n",
       "      <td>9.0</td>\n",
       "      <td>9.0</td>\n",
       "      <td>6000.0</td>\n",
       "      <td>2.0</td>\n",
       "      <td>NaN</td>\n",
       "      <td>1</td>\n",
       "      <td>300.0</td>\n",
       "      <td>1.0</td>\n",
       "    </tr>\n",
       "    <tr>\n",
       "      <th>2665</th>\n",
       "      <td>801</td>\n",
       "      <td>27</td>\n",
       "      <td>23</td>\n",
       "      <td>2</td>\n",
       "      <td>801.0</td>\n",
       "      <td>27.0</td>\n",
       "      <td>23.0</td>\n",
       "      <td>2.0</td>\n",
       "      <td>2</td>\n",
       "      <td>2</td>\n",
       "      <td>...</td>\n",
       "      <td>3.0</td>\n",
       "      <td>2.0</td>\n",
       "      <td>2.0</td>\n",
       "      <td>3.0</td>\n",
       "      <td>2000.0</td>\n",
       "      <td>2.0</td>\n",
       "      <td>NaN</td>\n",
       "      <td>1</td>\n",
       "      <td>100.0</td>\n",
       "      <td>1.0</td>\n",
       "    </tr>\n",
       "    <tr>\n",
       "      <th>2666</th>\n",
       "      <td>801</td>\n",
       "      <td>27</td>\n",
       "      <td>23</td>\n",
       "      <td>3</td>\n",
       "      <td>801.0</td>\n",
       "      <td>27.0</td>\n",
       "      <td>23.0</td>\n",
       "      <td>3.0</td>\n",
       "      <td>2</td>\n",
       "      <td>2</td>\n",
       "      <td>...</td>\n",
       "      <td>2.0</td>\n",
       "      <td>2.0</td>\n",
       "      <td>9.0</td>\n",
       "      <td>3.0</td>\n",
       "      <td>3000.0</td>\n",
       "      <td>2.0</td>\n",
       "      <td>NaN</td>\n",
       "      <td>1</td>\n",
       "      <td>100.0</td>\n",
       "      <td>1.0</td>\n",
       "    </tr>\n",
       "    <tr>\n",
       "      <th>2667</th>\n",
       "      <td>801</td>\n",
       "      <td>27</td>\n",
       "      <td>29</td>\n",
       "      <td>1</td>\n",
       "      <td>801.0</td>\n",
       "      <td>27.0</td>\n",
       "      <td>29.0</td>\n",
       "      <td>1.0</td>\n",
       "      <td>2</td>\n",
       "      <td>2</td>\n",
       "      <td>...</td>\n",
       "      <td>2.0</td>\n",
       "      <td>2.0</td>\n",
       "      <td>9.0</td>\n",
       "      <td>9.0</td>\n",
       "      <td>500.0</td>\n",
       "      <td>2.0</td>\n",
       "      <td>NaN</td>\n",
       "      <td>1</td>\n",
       "      <td>0.0</td>\n",
       "      <td>1.0</td>\n",
       "    </tr>\n",
       "    <tr>\n",
       "      <th>2668</th>\n",
       "      <td>801</td>\n",
       "      <td>27</td>\n",
       "      <td>29</td>\n",
       "      <td>2</td>\n",
       "      <td>801.0</td>\n",
       "      <td>27.0</td>\n",
       "      <td>29.0</td>\n",
       "      <td>2.0</td>\n",
       "      <td>2</td>\n",
       "      <td>2</td>\n",
       "      <td>...</td>\n",
       "      <td>1.0</td>\n",
       "      <td>2.0</td>\n",
       "      <td>9.0</td>\n",
       "      <td>3.0</td>\n",
       "      <td>4500.0</td>\n",
       "      <td>2.0</td>\n",
       "      <td>NaN</td>\n",
       "      <td>1</td>\n",
       "      <td>0.0</td>\n",
       "      <td>1.0</td>\n",
       "    </tr>\n",
       "  </tbody>\n",
       "</table>\n",
       "<p>2669 rows × 209 columns</p>\n",
       "</div>"
      ],
      "text/plain": [
       "      tinh_2016  quan_2016  xa_2016  ma_h0_2016  tinh_2014  quan_2014  \\\n",
       "0           105          1       17           1      105.0        1.0   \n",
       "1           105          1       17           2      105.0        1.0   \n",
       "2           105          1       17           3      105.0        1.0   \n",
       "3           105          1       17          91      105.0        1.0   \n",
       "4           105          1       23           1      105.0        1.0   \n",
       "...         ...        ...      ...         ...        ...        ...   \n",
       "2664        801         27       23           1      801.0       27.0   \n",
       "2665        801         27       23           2      801.0       27.0   \n",
       "2666        801         27       23           3      801.0       27.0   \n",
       "2667        801         27       29           1      801.0       27.0   \n",
       "2668        801         27       29           2      801.0       27.0   \n",
       "\n",
       "      xa_2014  ma_h0_2014  thay_cho_o  thay_doi_chu_ho  ...  p58q3b_08  \\\n",
       "0        17.0         1.0           2                2  ...        9.0   \n",
       "1        17.0         2.0           2                2  ...        2.0   \n",
       "2        17.0         3.0           2                2  ...        9.0   \n",
       "3        17.0        91.0           2                2  ...        2.0   \n",
       "4        23.0         1.0           2                2  ...        9.0   \n",
       "...       ...         ...         ...              ...  ...        ...   \n",
       "2664     23.0         1.0           2                2  ...        2.0   \n",
       "2665     23.0         2.0           2                2  ...        3.0   \n",
       "2666     23.0         3.0           2                2  ...        2.0   \n",
       "2667     29.0         1.0           2                2  ...        2.0   \n",
       "2668     29.0         2.0           2                2  ...        1.0   \n",
       "\n",
       "      p58q3b_09  p58q3b_10  p58q3b_11    p59q8  p59q9a  p59q9b  p59q9c  \\\n",
       "0           9.0        9.0        9.0  10000.0     2.0     NaN       1   \n",
       "1           9.0        9.0        9.0   5000.0     2.0     NaN       1   \n",
       "2           9.0        9.0        9.0  15000.0     2.0     NaN       1   \n",
       "3           2.0        9.0        2.0  10000.0     2.0     NaN       1   \n",
       "4           9.0        9.0        9.0   3500.0     2.0     NaN       1   \n",
       "...         ...        ...        ...      ...     ...     ...     ...   \n",
       "2664        2.0        9.0        9.0   6000.0     2.0     NaN       1   \n",
       "2665        2.0        2.0        3.0   2000.0     2.0     NaN       1   \n",
       "2666        2.0        9.0        3.0   3000.0     2.0     NaN       1   \n",
       "2667        2.0        9.0        9.0    500.0     2.0     NaN       1   \n",
       "2668        2.0        9.0        3.0   4500.0     2.0     NaN       1   \n",
       "\n",
       "      p59q9d  panel0816  \n",
       "0      100.0        1.0  \n",
       "1      100.0        1.0  \n",
       "2      200.0        1.0  \n",
       "3      100.0        NaN  \n",
       "4      100.0        1.0  \n",
       "...      ...        ...  \n",
       "2664   300.0        1.0  \n",
       "2665   100.0        1.0  \n",
       "2666   100.0        1.0  \n",
       "2667     0.0        1.0  \n",
       "2668     0.0        1.0  \n",
       "\n",
       "[2669 rows x 209 columns]"
      ]
     },
     "execution_count": 189,
     "metadata": {},
     "output_type": "execute_result"
    }
   ],
   "source": [
    "Phieu_New_16"
   ]
  },
  {
   "cell_type": "code",
   "execution_count": null,
   "metadata": {},
   "outputs": [
    {
     "name": "stdout",
     "output_type": "stream",
     "text": [
      "      tinh_2016  quan_2016  xa_2016  ma_h0_2016   p33q2_\n",
      "0           105          1       17           1  75600.0\n",
      "1           105          1       17           2    621.0\n",
      "2           105          1       17           3      0.0\n",
      "3           105          1       17          91      0.0\n",
      "4           105          1       23           1   3000.0\n",
      "...         ...        ...      ...         ...      ...\n",
      "2664        801         27       23           1  15336.0\n",
      "2665        801         27       23           2  10620.0\n",
      "2666        801         27       23           3  13480.0\n",
      "2667        801         27       29           1   7460.0\n",
      "2668        801         27       29           2   2890.0\n",
      "\n",
      "[2669 rows x 5 columns]\n"
     ]
    }
   ],
   "source": [
    "Q5E_New_16_grouped = Q5E_New_16.groupby(['tinh_2016', 'quan_2016', 'xa_2016', 'ma_h0_2016'])['p33q2_'].sum().reset_index()\n",
    "print(Q5E_New_16_grouped)"
   ]
  },
  {
   "cell_type": "code",
   "execution_count": null,
   "metadata": {},
   "outputs": [
    {
     "name": "stdout",
     "output_type": "stream",
     "text": [
      "       tinh_2016  quan_2016  xa_2016  ma_h0_2016  tinh_2014  quan_2014  \\\n",
      "0            105          1       17           1      105.0        1.0   \n",
      "1            105          1       17           1      105.0        1.0   \n",
      "2            105          1       17           1      105.0        1.0   \n",
      "3            105          1       17           1      105.0        1.0   \n",
      "4            105          1       17           1      105.0        1.0   \n",
      "...          ...        ...      ...         ...        ...        ...   \n",
      "10921        801         27       29           2      801.0       27.0   \n",
      "10922        801         27       29           2      801.0       27.0   \n",
      "10923        801         27       29           2      801.0       27.0   \n",
      "10924        801         27       29           2      801.0       27.0   \n",
      "10925        801         27       29           2      801.0       27.0   \n",
      "\n",
      "       xa_2014  ma_h0_2014  p1stt_  p1q2_  ...  p2q11_  p2q12_  p2q13_  \\\n",
      "0         17.0         1.0       6      5  ...     NaN     1.0     2.0   \n",
      "1         17.0         1.0       2      2  ...     NaN     4.0     1.0   \n",
      "2         17.0         1.0       7      7  ...     NaN     NaN     NaN   \n",
      "3         17.0         1.0       5      7  ...     1.0     1.0     NaN   \n",
      "4         17.0         1.0       1      1  ...     NaN     1.0     1.0   \n",
      "...        ...         ...     ...    ...  ...     ...     ...     ...   \n",
      "10921     29.0         2.0       4      3  ...     NaN     5.0     2.0   \n",
      "10922     29.0         2.0       3      3  ...     NaN     1.0     2.0   \n",
      "10923     29.0         2.0       1      1  ...     1.0     1.0     2.0   \n",
      "10924     29.0         2.0       5      3  ...     NaN     1.0     2.0   \n",
      "10925     29.0         2.0       2      3  ...     NaN     1.0     2.0   \n",
      "\n",
      "       p2q14_  p2q15_  p2q16_  p2q16b_  p2q16c_  p2q17_  panel0816  \n",
      "0         0.0     NaN     NaN      NaN      NaN     NaN        1.0  \n",
      "1         0.0     NaN     NaN      NaN      NaN     NaN        1.0  \n",
      "2         NaN     NaN     NaN      NaN      NaN     NaN        1.0  \n",
      "3         NaN     NaN     NaN      NaN      NaN     NaN        1.0  \n",
      "4         0.0     NaN     NaN      NaN      NaN     NaN        1.0  \n",
      "...       ...     ...     ...      ...      ...     ...        ...  \n",
      "10921     0.0     NaN     NaN      NaN      NaN     NaN        1.0  \n",
      "10922     0.0     NaN     NaN      NaN      NaN     NaN        1.0  \n",
      "10923     0.0     NaN     NaN      NaN      NaN     NaN        1.0  \n",
      "10924     0.0     NaN     NaN      NaN      NaN     NaN        1.0  \n",
      "10925     0.0     NaN     NaN      NaN      NaN     NaN        1.0  \n",
      "\n",
      "[10926 rows x 30 columns]\n"
     ]
    }
   ],
   "source": [
    "print(Q1_New_16)"
   ]
  },
  {
   "cell_type": "code",
   "execution_count": null,
   "metadata": {},
   "outputs": [
    {
     "name": "stdout",
     "output_type": "stream",
     "text": [
      "      tinh_2016  quan_2016  xa_2016  ma_h0_2016  family_size\n",
      "0           105          1       17           1            7\n",
      "1           105          1       17           2            6\n",
      "2           105          1       17           3            5\n",
      "3           105          1       17          91            4\n",
      "4           105          1       23           1            3\n",
      "...         ...        ...      ...         ...          ...\n",
      "2664        801         27       23           1            6\n",
      "2665        801         27       23           2            6\n",
      "2666        801         27       23           3            4\n",
      "2667        801         27       29           1            1\n",
      "2668        801         27       29           2            5\n",
      "\n",
      "[2669 rows x 5 columns]\n"
     ]
    }
   ],
   "source": [
    "# Calculate family size for each household using record on education level of each member \n",
    "family_size_2016 = Q1_New_16.groupby(['tinh_2016', 'quan_2016', 'xa_2016', 'ma_h0_2016']).size().reset_index(name='family_size')\n",
    "print(family_size_2016)"
   ]
  },
  {
   "cell_type": "markdown",
   "metadata": {},
   "source": [
    "Variable used: \n",
    "- Household food consumption last month (total monetary value of each food item): Q7A_New_16 - \"p36q4_\"\n",
    "- Household monthly income (total/12): Phieu_New_16 - \"p34q10\"\n",
    "- Insurance: \n",
    "    Have any kind of insurance: Phieu_New_16 - \"p42q1\"\n",
    "    Interest in purchasing: Phieu_New_16 - \"p42q6\"\n",
    "- Disaster: Phieu_New_16 - \"thien_tai\"\n",
    "- Liquidity: \n",
    "    How many time since 2014 got loan rejected: Phieu_New_16 - \"p41q21\"\n",
    "- Economic: \n",
    "    Plot investment: Q2E_New_16 - \"p12q1_\"\n",
    "    Receive transfer: Q5E_New_16 - \"p33q2\"\n",
    "- Behavioral: \n",
    "    Have households members work in commune/ higher government: Phieu_New_16 - \"p57q1\"\n",
    "    Disaster: Phieu_New_16 - \"thien_tai\"\n",
    "    Access to internet: Phieu_New_16 - \"p58q2\"\n",
    "    Access to services: Phieu_New_16 - \"p35q1\"\n",
    "- Demographic: \n",
    "    Family size (calculated from education level) - Q1_New_16 - \"p2q10_\""
   ]
  },
  {
   "cell_type": "code",
   "execution_count": null,
   "metadata": {},
   "outputs": [
    {
     "name": "stdout",
     "output_type": "stream",
     "text": [
      "      tinh_2016  quan_2016  xa_2016  ma_h0_2016  p34q10  p42q1  p42q6  \\\n",
      "0           105          1       17           1  234700      1     98   \n",
      "1           105          1       17           2  124236      1     98   \n",
      "2           105          1       17           3  302000      1     98   \n",
      "3           105          1       17          91  102950      1    200   \n",
      "4           105          1       23           1   46000      1     98   \n",
      "...         ...        ...      ...         ...     ...    ...    ...   \n",
      "2664        801         27       23           1  252456      1     98   \n",
      "2665        801         27       23           2  108060      1     98   \n",
      "2666        801         27       23           3  313980      1     98   \n",
      "2667        801         27       29           1    7460      1     98   \n",
      "2668        801         27       29           2  280305      1     98   \n",
      "\n",
      "      thien_tai  p41q21  p57q1  p58q2  p35q1  \n",
      "0             1       0      2    1.0      1  \n",
      "1             1       0      2    2.0      1  \n",
      "2             1       0      2    1.0      1  \n",
      "3             1       0      2    1.0      2  \n",
      "4             1       0      2    5.0      2  \n",
      "...         ...     ...    ...    ...    ...  \n",
      "2664          1       0      2    1.0      2  \n",
      "2665          1       0      2    1.0      2  \n",
      "2666          1       0      2    1.0      1  \n",
      "2667          1       0      2    5.0      2  \n",
      "2668          1       0      2    3.0      1  \n",
      "\n",
      "[2669 rows x 12 columns]\n"
     ]
    }
   ],
   "source": [
    "#Keep only the following columns \n",
    "Phieu_New_16_clean = Phieu_New_16[['tinh_2016', 'quan_2016', 'xa_2016', 'ma_h0_2016', 'p34q10', 'p42q1', 'p42q6', 'thien_tai', 'p41q21', 'p57q1' ,'p58q2', 'p35q1']]\n",
    "print(Phieu_New_16_clean)"
   ]
  },
  {
   "cell_type": "code",
   "execution_count": null,
   "metadata": {},
   "outputs": [
    {
     "name": "stdout",
     "output_type": "stream",
     "text": [
      "      tinh_2016  quan_2016  xa_2016  ma_h0_2016  tinh_2014  quan_2014  \\\n",
      "12          105          5       53           1        105          5   \n",
      "13          105          5       53           1        105          5   \n",
      "19          105          5       53           6        105          5   \n",
      "52          105         11        7          18        105         11   \n",
      "59          105         13       17           3        105         13   \n",
      "...         ...        ...      ...         ...        ...        ...   \n",
      "2045        801         21       15           5        801         21   \n",
      "2048        801         21       15           8        801         21   \n",
      "2064        801         23       21           9        801         23   \n",
      "2065        801         23       21           9        801         23   \n",
      "2068        801         23       21           9        801         23   \n",
      "\n",
      "      xa_2014  ma_h0_2014 p12ma_  p12q1_  p12q2a_  p12q2b_  p12q5_ p13ma_  \\\n",
      "12         53           1     a2     1.0      6.0      0.0     2.0     a2   \n",
      "13         53           1     a6     1.0      6.0      0.0     2.0     a6   \n",
      "19         53           6     a4     1.0      5.0      0.0     2.0     a4   \n",
      "52          7          18    a12     1.0      1.0      4.0     2.0    a12   \n",
      "59         17           3     a9     1.0      4.0      5.0     2.0     a9   \n",
      "...       ...         ...    ...     ...      ...      ...     ...    ...   \n",
      "2045       15           5     a3     1.0      6.0      0.0     2.0     a3   \n",
      "2048       15           8     a2     1.0      5.0      6.0     2.0     a2   \n",
      "2064       21           9     a5     1.0      2.0      5.0     1.0     a5   \n",
      "2065       21           9     a3     1.0      2.0      5.0     1.0     a3   \n",
      "2068       21           9     a6     1.0      2.0      5.0     1.0     a6   \n",
      "\n",
      "      p13q8_ p13ma1_  p13q11_  panel0816  p12q1_grouped  \n",
      "12       2.0      a2      1.0        1.0            1.0  \n",
      "13       2.0      a6      1.0        1.0            1.0  \n",
      "19       2.0      a4      1.0        1.0            1.0  \n",
      "52       1.0     a12      1.0        1.0            1.0  \n",
      "59       2.0      a9      2.0        1.0            1.0  \n",
      "...      ...     ...      ...        ...            ...  \n",
      "2045     2.0      a3      1.0        1.0            1.0  \n",
      "2048     2.0      a2      1.0        1.0            1.0  \n",
      "2064     2.0      a5      2.0        1.0            1.0  \n",
      "2065     2.0      a3      2.0        1.0            1.0  \n",
      "2068     2.0      a6      2.0        1.0            1.0  \n",
      "\n",
      "[440 rows x 19 columns]\n",
      "      tinh_2016  quan_2016  xa_2016  ma_h0_2016  tinh_2014  quan_2014  \\\n",
      "12          105          5       53           1        105          5   \n",
      "19          105          5       53           6        105          5   \n",
      "52          105         11        7          18        105         11   \n",
      "59          105         13       17           3        105         13   \n",
      "61          105         15       13           7        105         15   \n",
      "...         ...        ...      ...         ...        ...        ...   \n",
      "1998        801         17        7           2        801         17   \n",
      "2006        801         17       19           1        801         17   \n",
      "2045        801         21       15           5        801         21   \n",
      "2048        801         21       15           8        801         21   \n",
      "2064        801         23       21           9        801         23   \n",
      "\n",
      "      xa_2014  ma_h0_2014 p12ma_  p12q1_  p12q2a_  p12q2b_  p12q5_ p13ma_  \\\n",
      "12         53           1     a2     1.0      6.0      0.0     2.0     a2   \n",
      "19         53           6     a4     1.0      5.0      0.0     2.0     a4   \n",
      "52          7          18    a12     1.0      1.0      4.0     2.0    a12   \n",
      "59         17           3     a9     1.0      4.0      5.0     2.0     a9   \n",
      "61         13           7    a16     1.0      2.0      0.0     2.0    a16   \n",
      "...       ...         ...    ...     ...      ...      ...     ...    ...   \n",
      "1998        7           2     a5     1.0      2.0      0.0     2.0     a5   \n",
      "2006       19           1     a3     1.0      2.0      5.0     2.0     a3   \n",
      "2045       15           5     a3     1.0      6.0      0.0     2.0     a3   \n",
      "2048       15           8     a2     1.0      5.0      6.0     2.0     a2   \n",
      "2064       21           9     a5     1.0      2.0      5.0     1.0     a5   \n",
      "\n",
      "      p13q8_ p13ma1_  p13q11_  panel0816  p12q1_grouped  \n",
      "12       2.0      a2      1.0        1.0            1.0  \n",
      "19       2.0      a4      1.0        1.0            1.0  \n",
      "52       1.0     a12      1.0        1.0            1.0  \n",
      "59       2.0      a9      2.0        1.0            1.0  \n",
      "61       2.0     a16      2.0        1.0            1.0  \n",
      "...      ...     ...      ...        ...            ...  \n",
      "1998     2.0      a5      2.0        1.0            1.0  \n",
      "2006     2.0      a3      2.0        1.0            1.0  \n",
      "2045     2.0      a3      1.0        1.0            1.0  \n",
      "2048     2.0      a2      1.0        1.0            1.0  \n",
      "2064     2.0      a5      2.0        1.0            1.0  \n",
      "\n",
      "[127 rows x 19 columns]\n"
     ]
    }
   ],
   "source": [
    "#Drop NA values\n",
    "Q2E_New_16 = Q2E_New_16.dropna()\n",
    "# Group by the specified columns and apply the custom function\n",
    "Q2E_New_16['p12q1_grouped'] = Q2E_New_16.groupby(['tinh_2016', 'quan_2016', 'xa_2016', 'ma_h0_2016'])['p12q1_'].transform(\n",
    "    lambda x: x.iloc[0] if x.nunique() == 1 else 1\n",
    ")\n",
    "print(Q2E_New_16)\n",
    "#Remove duplicates\n",
    "Q2E_New_16 = Q2E_New_16.drop_duplicates(subset=['tinh_2016', 'quan_2016', 'xa_2016', 'ma_h0_2016'])\n",
    "print(Q2E_New_16)"
   ]
  },
  {
   "cell_type": "code",
   "execution_count": null,
   "metadata": {},
   "outputs": [
    {
     "name": "stdout",
     "output_type": "stream",
     "text": [
      "      tinh_2016  quan_2016  xa_2016  ma_h0_2016  p12q1_grouped\n",
      "12          105          5       53           1            1.0\n",
      "19          105          5       53           6            1.0\n",
      "52          105         11        7          18            1.0\n",
      "59          105         13       17           3            1.0\n",
      "61          105         15       13           7            1.0\n",
      "...         ...        ...      ...         ...            ...\n",
      "1998        801         17        7           2            1.0\n",
      "2006        801         17       19           1            1.0\n",
      "2045        801         21       15           5            1.0\n",
      "2048        801         21       15           8            1.0\n",
      "2064        801         23       21           9            1.0\n",
      "\n",
      "[127 rows x 5 columns]\n"
     ]
    }
   ],
   "source": [
    "Q2E_New_16_clean = Q2E_New_16[['tinh_2016', 'quan_2016', 'xa_2016', 'ma_h0_2016', 'p12q1_grouped']]\n",
    "print(Q2E_New_16_clean)"
   ]
  },
  {
   "cell_type": "code",
   "execution_count": null,
   "metadata": {},
   "outputs": [
    {
     "name": "stdout",
     "output_type": "stream",
     "text": [
      "      tinh_2016  quan_2016  xa_2016  ma_h0_2016  p34q10  p42q1  p42q6  \\\n",
      "0           105          1       17           1  234700      1     98   \n",
      "1           105          1       17           2  124236      1     98   \n",
      "2           105          1       17           3  302000      1     98   \n",
      "3           105          1       17          91  102950      1    200   \n",
      "4           105          1       23           1   46000      1     98   \n",
      "...         ...        ...      ...         ...     ...    ...    ...   \n",
      "2664        801         27       23           1  252456      1     98   \n",
      "2665        801         27       23           2  108060      1     98   \n",
      "2666        801         27       23           3  313980      1     98   \n",
      "2667        801         27       29           1    7460      1     98   \n",
      "2668        801         27       29           2  280305      1     98   \n",
      "\n",
      "      thien_tai  p41q21  p57q1  p58q2  p35q1  p36q4_  p12q1_grouped   p33q2_  \\\n",
      "0             1       0      2    1.0      1  2790.0            NaN  75600.0   \n",
      "1             1       0      2    2.0      1  1080.0            NaN    621.0   \n",
      "2             1       0      2    1.0      1  2870.0            NaN      0.0   \n",
      "3             1       0      2    1.0      2     NaN            NaN      0.0   \n",
      "4             1       0      2    5.0      2  1120.0            NaN   3000.0   \n",
      "...         ...     ...    ...    ...    ...     ...            ...      ...   \n",
      "2664          1       0      2    1.0      2   772.0            NaN  15336.0   \n",
      "2665          1       0      2    1.0      2   777.0            NaN  10620.0   \n",
      "2666          1       0      2    1.0      1   611.0            NaN  13480.0   \n",
      "2667          1       0      2    5.0      2   140.0            NaN   7460.0   \n",
      "2668          1       0      2    3.0      1   744.0            NaN   2890.0   \n",
      "\n",
      "      family_size  \n",
      "0               7  \n",
      "1               6  \n",
      "2               5  \n",
      "3               4  \n",
      "4               3  \n",
      "...           ...  \n",
      "2664            6  \n",
      "2665            6  \n",
      "2666            4  \n",
      "2667            1  \n",
      "2668            5  \n",
      "\n",
      "[2669 rows x 16 columns]\n"
     ]
    }
   ],
   "source": [
    "# Merge the datasets using a left join\n",
    "merged_df_2016 = pd.merge(Phieu_New_16_clean, Q7A_New_16_grouped, on=['tinh_2016', 'quan_2016', 'xa_2016', 'ma_h0_2016'], how='left')\n",
    "merged_df_2016 = pd.merge(merged_df_2016, Q2E_New_16_clean, on=['tinh_2016', 'quan_2016', 'xa_2016', 'ma_h0_2016'], how='left')\n",
    "merged_df_2016 = pd.merge(merged_df_2016, Q5E_New_16_grouped, on=['tinh_2016', 'quan_2016', 'xa_2016', 'ma_h0_2016'], how='left')\n",
    "merged_df_2016 = pd.merge(merged_df_2016, family_size_2016, on=['tinh_2016', 'quan_2016', 'xa_2016', 'ma_h0_2016'], how='left')\n",
    "print(merged_df_2016)\n"
   ]
  },
  {
   "cell_type": "code",
   "execution_count": null,
   "metadata": {},
   "outputs": [
    {
     "name": "stdout",
     "output_type": "stream",
     "text": [
      "      tinh_2016  quan_2016  xa_2016  ma_h0_2016  p34q10  p42q1  p42q6  \\\n",
      "0           105          1       17           1  234700      1     98   \n",
      "1           105          1       17           2  124236      1     98   \n",
      "2           105          1       17           3  302000      1     98   \n",
      "3           105          1       17          91  102950      1    200   \n",
      "4           105          1       23           1   46000      1     98   \n",
      "...         ...        ...      ...         ...     ...    ...    ...   \n",
      "2664        801         27       23           1  252456      1     98   \n",
      "2665        801         27       23           2  108060      1     98   \n",
      "2666        801         27       23           3  313980      1     98   \n",
      "2667        801         27       29           1    7460      1     98   \n",
      "2668        801         27       29           2  280305      1     98   \n",
      "\n",
      "      thien_tai  p41q21  p57q1  p58q2  p35q1  p36q4_  p12q1_grouped   p33q2_  \\\n",
      "0             1       0      2    1.0      1  2790.0            NaN  75600.0   \n",
      "1             1       0      2    2.0      1  1080.0            NaN    621.0   \n",
      "2             1       0      2    1.0      1  2870.0            NaN      0.0   \n",
      "3             1       0      2    1.0      2     NaN            NaN      0.0   \n",
      "4             1       0      2    5.0      2  1120.0            NaN   3000.0   \n",
      "...         ...     ...    ...    ...    ...     ...            ...      ...   \n",
      "2664          1       0      2    1.0      2   772.0            NaN  15336.0   \n",
      "2665          1       0      2    1.0      2   777.0            NaN  10620.0   \n",
      "2666          1       0      2    1.0      1   611.0            NaN  13480.0   \n",
      "2667          1       0      2    5.0      2   140.0            NaN   7460.0   \n",
      "2668          1       0      2    3.0      1   744.0            NaN   2890.0   \n",
      "\n",
      "      family_size  \n",
      "0               7  \n",
      "1               6  \n",
      "2               5  \n",
      "3               4  \n",
      "4               3  \n",
      "...           ...  \n",
      "2664            6  \n",
      "2665            6  \n",
      "2666            4  \n",
      "2667            1  \n",
      "2668            5  \n",
      "\n",
      "[2669 rows x 16 columns]\n"
     ]
    }
   ],
   "source": [
    "# List of dataframes to merge\n",
    "dataframes = [Q7A_New_16_grouped, Q2E_New_16_clean, Q5E_New_16_grouped, family_size_2016]\n",
    "\n",
    "# Initial dataframe\n",
    "merged_df_2016 = Phieu_New_16_clean\n",
    "\n",
    "# Merge each dataframe in the list\n",
    "for df in dataframes:\n",
    "    merged_df_2016 = pd.merge(merged_df_2016, df, on=['tinh_2016', 'quan_2016', 'xa_2016', 'ma_h0_2016'], how='left')\n",
    "\n",
    "print(merged_df_2016)"
   ]
  },
  {
   "cell_type": "markdown",
   "metadata": {},
   "source": [
    "Index(['Province', 'District', 'Commune', 'Household_ID', 'Annual_Income',\n",
    "       'Have_Insurance', 'Interest_Purchasing', 'Disaster', 'Loan_Rejected',\n",
    "       'COCC', 'Access_Internet', 'Access_Service',\n",
    "       'Food_Consumption', 'Plot_Investment_Dummy', 'Transfer_Received',\n",
    "       'Family_Size'],\n",
    "      dtype='object')"
   ]
  },
  {
   "cell_type": "markdown",
   "metadata": {},
   "source": [
    "Variable used: \n",
    "- Household food consumption last month (total monetary value of each food item): Q7A_New_16 - \"p36q4_\"\n",
    "- Household monthly income (total/12): Phieu_New_16 - \"p34q10\"\n",
    "- Insurance: \n",
    "    Have any kind of insurance: Phieu_New_16 - \"p42q1\"\n",
    "    Interest in purchasing: Phieu_New_16 - \"p42q6\"\n",
    "- Disaster: Phieu_New_16 - \"thien_tai\"\n",
    "- Liquidity: \n",
    "    How many time since 2014 got loan rejected: Phieu_New_16 - \"p41q21\"\n",
    "- Economic: \n",
    "    Plot investment: Q2E_New_16 - \"p12q1_\"\n",
    "    Receive transfer: Q5E_New_16 - \"p33q2\"\n",
    "- Behavioral: \n",
    "    Have households members work in commune/ higher government: Phieu_New_16 - \"p57q1\"\n",
    "    Disaster: Phieu_New_16 - \"thien_tai\"\n",
    "    Access to internet: Phieu_New_16 - \"p58q2\"\n",
    "    Access to services: Phieu_New_16 - \"p35q1\"\n",
    "- Demographic: \n",
    "    Family size (calculated from education level) - Q1_New_16 - \"p2q10_\""
   ]
  },
  {
   "cell_type": "code",
   "execution_count": null,
   "metadata": {},
   "outputs": [
    {
     "name": "stdout",
     "output_type": "stream",
     "text": [
      "   Province  District  Commune  Household_ID  Annual_Income_2016  \\\n",
      "0       105         1       17             1              234700   \n",
      "1       105         1       17             2              124236   \n",
      "2       105         1       17             3              302000   \n",
      "3       105         1       17            91              102950   \n",
      "4       105         1       23             1               46000   \n",
      "\n",
      "   Have_Insurance_2016  Interest_Purchasing_2016  Disaster_2016  \\\n",
      "0                    1                        98              1   \n",
      "1                    1                        98              1   \n",
      "2                    1                        98              1   \n",
      "3                    1                       200              1   \n",
      "4                    1                        98              1   \n",
      "\n",
      "   Loan_Rejected_2016  COCC_2016  Access_Internet_2016  Access_Service_2016  \\\n",
      "0                   0          2                   1.0                    1   \n",
      "1                   0          2                   2.0                    1   \n",
      "2                   0          2                   1.0                    1   \n",
      "3                   0          2                   1.0                    2   \n",
      "4                   0          2                   5.0                    2   \n",
      "\n",
      "   Food_Consumption_2016  Plot_Investment_Dummy_2016  Transfer_Received_2016  \\\n",
      "0                 2790.0                         NaN                 75600.0   \n",
      "1                 1080.0                         NaN                   621.0   \n",
      "2                 2870.0                         NaN                     0.0   \n",
      "3                    NaN                         NaN                     0.0   \n",
      "4                 1120.0                         NaN                  3000.0   \n",
      "\n",
      "   Family_Size_2016  \n",
      "0                 7  \n",
      "1                 6  \n",
      "2                 5  \n",
      "3                 4  \n",
      "4                 3  \n"
     ]
    }
   ],
   "source": [
    "#Relable the columns\n",
    "merged_df_2016 = merged_df_2016.rename(columns={\n",
    "    'tinh_2016': 'Province',\n",
    "    'quan_2016': 'District',\n",
    "    'xa_2016': 'Commune',\n",
    "    'ma_h0_2016': 'Household_ID',\n",
    "    'p34q10': 'Annual_Income_2016',\n",
    "    'p42q1': 'Have_Insurance_2016',\n",
    "    'p42q6': 'Interest_Purchasing_2016',\n",
    "    'thien_tai': 'Disaster_2016',\n",
    "    'p41q21': 'Loan_Rejected_2016',\n",
    "    'p57q1': 'COCC_2016',\n",
    "    'p58q2': 'Access_Internet_2016',\n",
    "    'p35q1': 'Access_Service_2016',\n",
    "    'p36q4_': 'Food_Consumption_2016',\n",
    "    'p12q1_grouped': 'Plot_Investment_Dummy_2016',\n",
    "    'p33q2_': 'Transfer_Received_2016',\n",
    "    'family_size': 'Family_Size_2016'\n",
    "})\n",
    "print(merged_df_2016.head())"
   ]
  },
  {
   "cell_type": "markdown",
   "metadata": {},
   "source": [
    "**Preparing Data for 2012**"
   ]
  },
  {
   "cell_type": "code",
   "execution_count": null,
   "metadata": {},
   "outputs": [],
   "source": [
    "Phieu_New_12 = pd.read_excel(\"/Users/khangphamgia/Downloads/2008-16Clean/2012_new_excel/Phieu_New_12.xlsx\")\n",
    "Q7A_New_12 = pd.read_excel(\"/Users/khangphamgia/Downloads/2008-16Clean/2012_new_excel/Q7A_New_12.xlsx\")\n",
    "Q2E_New_12 = pd.read_excel(\"/Users/khangphamgia/Downloads/2008-16Clean/2012_new_excel/Q2E_New_12.xlsx\")\n",
    "Q1_New_12 = pd.read_excel(\"/Users/khangphamgia/Downloads/2008-16Clean/2012_new_excel/Q1_New_12.xlsx\")\n",
    "Q5F_New_12 = pd.read_excel(\"/Users/khangphamgia/Downloads/2008-16Clean/2012_new_excel/Q5F_New_12.xlsx\")"
   ]
  },
  {
   "cell_type": "markdown",
   "metadata": {},
   "source": [
    "Variable used: \n",
    "- Household food consumption last month (total monetary value of each food item): Q7A_New_12 - \"p35q4_\"\n",
    "- Household monthly income: Phieu_New_12 - \"p33q10\"\n",
    "- Insurance: \n",
    "    Have any kind of insurance: Phieu_New_12 - \"p40q1\"\n",
    "    Interest in purchasing: Phieu_New_12 - \"p40q6\"\n",
    "- Disaster: Phieu_New_12 - \"thien_tai\"\n",
    "- Liquidity: \n",
    "    How many time since 2010 got loan rejected: Phieu_New_12 - \"p39q21\"\n",
    "- Economic: \n",
    "    Plot investment: Q2E_New_12 - \"p12q1_\"\n",
    "    Receive transfer: Q5F_New_12 - \"p32q2\"\n",
    "- Behavioral: \n",
    "    Have households members work in commune/ higher government: Phieu_New_12 - \"p51q1\"\n",
    "    Disaster: Phieu_New_12 - \"thien_tai\"\n",
    "    Access to internet: Phieu_New_12 - \"p52q2\"\n",
    "    Access to services: Phieu_New_12 - \"p34q1\"\n",
    "- Demographic: \n",
    "    Family size (calculated from education level) - Q1_New_12 - \"p2q10_\""
   ]
  },
  {
   "cell_type": "code",
   "execution_count": null,
   "metadata": {},
   "outputs": [
    {
     "name": "stdout",
     "output_type": "stream",
     "text": [
      "      tinh_2012  quan_2012  xa_2012  ma_h0_2012  p33q10  p40q1  p40q6  \\\n",
      "0           105          1       17           1  329520      1   98.0   \n",
      "1           105          1       17           2  180440      1   98.0   \n",
      "2           105          1       17           3  248866      1   98.0   \n",
      "3           105          1       17          91  104928      1   98.0   \n",
      "4           105          1       23           1  160000      2   98.0   \n",
      "...         ...        ...      ...         ...     ...    ...    ...   \n",
      "2755        801         27       23           1   63900      1   98.0   \n",
      "2756        801         27       23           2   73580      1   98.0   \n",
      "2757        801         27       23           3   80120      1   98.0   \n",
      "2758        801         27       29           1   14260      1   98.0   \n",
      "2759        801         27       29           2   76990      1   98.0   \n",
      "\n",
      "      thien_tai  p39q21  p51q1  p52q2  p34q1  \n",
      "0             2     NaN      2      1      2  \n",
      "1             2     0.0      2      1      2  \n",
      "2             2     2.0      2      1      2  \n",
      "3             2     0.0      2      3      1  \n",
      "4             2     0.0      2      1      2  \n",
      "...         ...     ...    ...    ...    ...  \n",
      "2755          2     0.0      2      1     98  \n",
      "2756          2     NaN      2      1      1  \n",
      "2757          2     NaN      2      1      1  \n",
      "2758          2     NaN      2      1      2  \n",
      "2759          2     0.0      2      1      2  \n",
      "\n",
      "[2760 rows x 12 columns]\n"
     ]
    }
   ],
   "source": [
    "Phieu_New_12_clean = Phieu_New_12[['tinh_2012', 'quan_2012', 'xa_2012', 'ma_h0_2012', 'p33q10', 'p40q1', 'p40q6', 'thien_tai', 'p39q21', 'p51q1', 'p52q2','p34q1']]\n",
    "print(Phieu_New_12_clean)"
   ]
  },
  {
   "cell_type": "code",
   "execution_count": null,
   "metadata": {},
   "outputs": [
    {
     "name": "stdout",
     "output_type": "stream",
     "text": [
      "      tinh_2012  quan_2012  xa_2012  ma_h0_2012     p35q4_\n",
      "0           105          1       17           1  7000843.0\n",
      "1           105          1       17           2  5000875.0\n",
      "2           105          1       17           3  6000764.0\n",
      "3           105          1       23           1  9000881.0\n",
      "4           105          1       23           2  4001324.0\n",
      "...         ...        ...      ...         ...        ...\n",
      "2123        801         27       23           1  5001035.0\n",
      "2124        801         27       23           2  3001597.0\n",
      "2125        801         27       23           3  8000682.0\n",
      "2126        801         27       29           1  9000131.0\n",
      "2127        801         27       29           2  8000712.0\n",
      "\n",
      "[2128 rows x 5 columns]\n"
     ]
    }
   ],
   "source": [
    "#Clear any rows with values in the column p36q4_ that has the value 98 \n",
    "Q7A_New_12 = Q7A_New_12[Q7A_New_12.p35q4_ != 98]\n",
    "#Drop rows with missing values\n",
    "Q7A_New_12 = Q7A_New_12.dropna()\n",
    "#Sum up the values of p36q4_ \n",
    "Q7A_New_12_grouped = Q7A_New_12.groupby(['tinh_2012', 'quan_2012', 'xa_2012', 'ma_h0_2012'])['p35q4_'].sum().reset_index()\n",
    "print(Q7A_New_12_grouped)"
   ]
  },
  {
   "cell_type": "code",
   "execution_count": null,
   "metadata": {},
   "outputs": [
    {
     "name": "stdout",
     "output_type": "stream",
     "text": [
      "      tinh_2012  quan_2012  xa_2012  ma_h0_2012   p32q2_\n",
      "0           105          1       17           1  54000.0\n",
      "1           105          1       17           2   8440.0\n",
      "2           105          1       17           3   6098.0\n",
      "3           105          1       17          91    196.0\n",
      "4           105          1       23           1   9098.0\n",
      "...         ...        ...      ...         ...      ...\n",
      "2752        801         27       23           1   2258.0\n",
      "2753        801         27       23           2   2258.0\n",
      "2754        801         27       23           3   2738.0\n",
      "2755        801         27       29           1  14160.0\n",
      "2756        801         27       29           2    196.0\n",
      "\n",
      "[2757 rows x 5 columns]\n"
     ]
    }
   ],
   "source": [
    "Q5F_New_12_grouped = Q5F_New_12.groupby(['tinh_2012', 'quan_2012', 'xa_2012', 'ma_h0_2012'])['p32q2_'].sum().reset_index()\n",
    "print(Q5F_New_12_grouped)"
   ]
  },
  {
   "cell_type": "code",
   "execution_count": null,
   "metadata": {},
   "outputs": [
    {
     "name": "stdout",
     "output_type": "stream",
     "text": [
      "      tinh_2012  quan_2012  xa_2012  ma_h0_2012 p12ma_  p12q1_  p12q2a_  \\\n",
      "3           105          3       13           2     b1       2       98   \n",
      "5           105          3       13           2     b6       2       98   \n",
      "6           105          3       13           2     b2       2       98   \n",
      "7           105          3       13           2     b5       2       98   \n",
      "8           105          3       13           2     b3       2       98   \n",
      "...         ...        ...      ...         ...    ...     ...      ...   \n",
      "4276        801         25       31           3    a10       2       98   \n",
      "4278        801         27       23           2     c1       2       98   \n",
      "4279        801         27       23           2     a3       2       98   \n",
      "4280        801         27       23           3     b1       2       98   \n",
      "4282        801         27       29           1     a1       2       98   \n",
      "\n",
      "      p12q2b_  p12q5_ p13ma_  p13q8_ p13ma1_  p13q11_  panel0816  \\\n",
      "3        98.0     2.0     b1       1      b1        2        1.0   \n",
      "5        98.0     2.0     b6       2      b6        2        1.0   \n",
      "6        98.0     2.0     b2       2      b2        2        1.0   \n",
      "7        98.0     2.0     b5       2      b5        2        1.0   \n",
      "8        98.0     2.0     b3       2      b3        2        1.0   \n",
      "...       ...     ...    ...     ...     ...      ...        ...   \n",
      "4276     98.0     2.0    a10       2     a10        2        1.0   \n",
      "4278     98.0     2.0     c1       2      c1        2        1.0   \n",
      "4279     98.0     2.0     a3       2      a3        2        1.0   \n",
      "4280     98.0     1.0     b1       2      b1        2        1.0   \n",
      "4282     98.0     2.0     a1       2      a1        2        1.0   \n",
      "\n",
      "      p12q1_grouped  \n",
      "3                 2  \n",
      "5                 2  \n",
      "6                 2  \n",
      "7                 2  \n",
      "8                 2  \n",
      "...             ...  \n",
      "4276              2  \n",
      "4278              2  \n",
      "4279              2  \n",
      "4280              2  \n",
      "4282              2  \n",
      "\n",
      "[2793 rows x 15 columns]\n",
      "      tinh_2012  quan_2012  xa_2012  ma_h0_2012 p12ma_  p12q1_  p12q2a_  \\\n",
      "3           105          3       13           2     b1       2       98   \n",
      "22          105          3       21           2     a3       2       98   \n",
      "25          105          3       21           4     a4       2       98   \n",
      "27          105          3       21           5     a9       2       98   \n",
      "35          105          3       21           9     a6       2       98   \n",
      "...         ...        ...      ...         ...    ...     ...      ...   \n",
      "4267        801         25       31           2     a2       2       98   \n",
      "4269        801         25       31           3    a11       2       98   \n",
      "4278        801         27       23           2     c1       2       98   \n",
      "4280        801         27       23           3     b1       2       98   \n",
      "4282        801         27       29           1     a1       2       98   \n",
      "\n",
      "      p12q2b_  p12q5_ p13ma_  p13q8_ p13ma1_  p13q11_  panel0816  \\\n",
      "3        98.0     2.0     b1       1      b1        2        1.0   \n",
      "22       98.0     2.0     a3       2      a3        2        1.0   \n",
      "25       98.0     2.0     a4       1      a4        2        1.0   \n",
      "27       98.0     2.0     a9       2      a9        1        1.0   \n",
      "35       98.0     2.0     a6       2      a6        2        1.0   \n",
      "...       ...     ...    ...     ...     ...      ...        ...   \n",
      "4267     98.0     2.0     a2       2      a2        2        1.0   \n",
      "4269     98.0     2.0    a11       2     a11        2        1.0   \n",
      "4278     98.0     2.0     c1       2      c1        2        1.0   \n",
      "4280     98.0     1.0     b1       2      b1        2        1.0   \n",
      "4282     98.0     2.0     a1       2      a1        2        1.0   \n",
      "\n",
      "      p12q1_grouped  \n",
      "3                 2  \n",
      "22                2  \n",
      "25                2  \n",
      "27                2  \n",
      "35                2  \n",
      "...             ...  \n",
      "4267              2  \n",
      "4269              2  \n",
      "4278              2  \n",
      "4280              2  \n",
      "4282              2  \n",
      "\n",
      "[623 rows x 15 columns]\n"
     ]
    }
   ],
   "source": [
    "#Drop NA values\n",
    "Q2E_New_12 = Q2E_New_12.dropna()\n",
    "# Group by the specified columns and apply the custom function\n",
    "Q2E_New_12['p12q1_grouped'] = Q2E_New_12.groupby(['tinh_2012', 'quan_2012', 'xa_2012', 'ma_h0_2012'])['p12q1_'].transform(\n",
    "    lambda x: x.iloc[0] if x.nunique() == 1 else 1\n",
    ")\n",
    "print(Q2E_New_12)\n",
    "#Remove duplicates\n",
    "Q2E_New_12 = Q2E_New_12.drop_duplicates(subset=['tinh_2012', 'quan_2012', 'xa_2012', 'ma_h0_2012'])\n",
    "print(Q2E_New_12)"
   ]
  },
  {
   "cell_type": "code",
   "execution_count": null,
   "metadata": {},
   "outputs": [],
   "source": [
    "Q2E_New_12_clean = Q2E_New_12[['tinh_2012', 'quan_2012', 'xa_2012', 'ma_h0_2012', 'p12q1_grouped']]"
   ]
  },
  {
   "cell_type": "code",
   "execution_count": null,
   "metadata": {},
   "outputs": [
    {
     "name": "stdout",
     "output_type": "stream",
     "text": [
      "      tinh_2012  quan_2012  xa_2012  ma_h0_2012  family_size\n",
      "0           105          1       17           1            7\n",
      "1           105          1       17           2            6\n",
      "2           105          1       17           3            5\n",
      "3           105          1       17          91            4\n",
      "4           105          1       23           1            2\n",
      "...         ...        ...      ...         ...          ...\n",
      "2752        801         27       23           1            2\n",
      "2753        801         27       23           2            6\n",
      "2754        801         27       23           3            4\n",
      "2755        801         27       29           1            1\n",
      "2756        801         27       29           2            6\n",
      "\n",
      "[2757 rows x 5 columns]\n"
     ]
    }
   ],
   "source": [
    "# Calculate family size for each household using record on education level of each member \n",
    "family_size_2012 = Q1_New_12.groupby(['tinh_2012', 'quan_2012', 'xa_2012', 'ma_h0_2012']).size().reset_index(name='family_size')\n",
    "print(family_size_2012)"
   ]
  },
  {
   "cell_type": "code",
   "execution_count": null,
   "metadata": {},
   "outputs": [
    {
     "name": "stdout",
     "output_type": "stream",
     "text": [
      "      tinh_2012  quan_2012  xa_2012  ma_h0_2012  p33q10  p40q1  p40q6  \\\n",
      "0           105          1       17           1  329520      1   98.0   \n",
      "1           105          1       17           2  180440      1   98.0   \n",
      "2           105          1       17           3  248866      1   98.0   \n",
      "3           105          1       17          91  104928      1   98.0   \n",
      "4           105          1       23           1  160000      2   98.0   \n",
      "...         ...        ...      ...         ...     ...    ...    ...   \n",
      "2755        801         27       23           1   63900      1   98.0   \n",
      "2756        801         27       23           2   73580      1   98.0   \n",
      "2757        801         27       23           3   80120      1   98.0   \n",
      "2758        801         27       29           1   14260      1   98.0   \n",
      "2759        801         27       29           2   76990      1   98.0   \n",
      "\n",
      "      thien_tai  p39q21  p51q1  p52q2  p34q1     p35q4_  p12q1_grouped  \\\n",
      "0             2     NaN      2      1      2  7000843.0            NaN   \n",
      "1             2     0.0      2      1      2  5000875.0            NaN   \n",
      "2             2     2.0      2      1      2  6000764.0            NaN   \n",
      "3             2     0.0      2      3      1        NaN            NaN   \n",
      "4             2     0.0      2      1      2  9000881.0            NaN   \n",
      "...         ...     ...    ...    ...    ...        ...            ...   \n",
      "2755          2     0.0      2      1     98  5001035.0            NaN   \n",
      "2756          2     NaN      2      1      1  3001597.0            2.0   \n",
      "2757          2     NaN      2      1      1  8000682.0            2.0   \n",
      "2758          2     NaN      2      1      2  9000131.0            2.0   \n",
      "2759          2     0.0      2      1      2  8000712.0            NaN   \n",
      "\n",
      "       p32q2_  family_size  \n",
      "0     54000.0          7.0  \n",
      "1      8440.0          6.0  \n",
      "2      6098.0          5.0  \n",
      "3       196.0          4.0  \n",
      "4      9098.0          2.0  \n",
      "...       ...          ...  \n",
      "2755   2258.0          2.0  \n",
      "2756   2258.0          6.0  \n",
      "2757   2738.0          4.0  \n",
      "2758  14160.0          1.0  \n",
      "2759    196.0          6.0  \n",
      "\n",
      "[2760 rows x 16 columns]\n"
     ]
    }
   ],
   "source": [
    "#Merge the datasets using a left join\n",
    "# List of dataframes to merge\n",
    "dataframes = [Q7A_New_12_grouped, Q2E_New_12_clean, Q5F_New_12_grouped, family_size_2012]\n",
    "\n",
    "# Initial dataframe\n",
    "merged_df_2012 = Phieu_New_12_clean\n",
    "\n",
    "# Merge each dataframe in the list\n",
    "for df in dataframes:\n",
    "    merged_df_2012 = pd.merge(merged_df_2012, df, on=['tinh_2012', 'quan_2012', 'xa_2012', 'ma_h0_2012'], how='left')\n",
    "\n",
    "print(merged_df_2012)"
   ]
  },
  {
   "cell_type": "markdown",
   "metadata": {},
   "source": [
    "Variable used: \n",
    "- Household food consumption last month (total monetary value of each food item): Q7A_New_12 - \"p35q4_\"\n",
    "- Household monthly income: Phieu_New_12 - \"p33q10\"\n",
    "- Insurance: \n",
    "    Have any kind of insurance: Phieu_New_12 - \"p40q1\"\n",
    "    Interest in purchasing: Phieu_New_12 - \"p40q6\"\n",
    "- Disaster: Phieu_New_12 - \"thien_tai\"\n",
    "- Liquidity: \n",
    "    How many time since 2010 got loan rejected: Phieu_New_12 - \"p39q21\"\n",
    "- Economic: \n",
    "    Plot investment: Q2E_New_12 - \"p12q1_\"\n",
    "    Receive transfer: Q5F_New_12 - \"p32q2\"\n",
    "- Behavioral: \n",
    "    Have households members work in commune/ higher government: Phieu_New_12 - \"p51q1\"\n",
    "    Disaster: Phieu_New_12 - \"thien_tai\"\n",
    "    Access to internet: Phieu_New_12 - \"p52q2\"\n",
    "    Access to services: Phieu_New_12 - \"p34q1\"\n",
    "- Demographic: \n",
    "    Family size (calculated from education level) - Q1_New_12 - \"p2q10_\""
   ]
  },
  {
   "cell_type": "code",
   "execution_count": null,
   "metadata": {},
   "outputs": [
    {
     "name": "stdout",
     "output_type": "stream",
     "text": [
      "   Province  District  Commune  Household_ID  Annual_Income_2012  \\\n",
      "0       105         1       17             1              329520   \n",
      "1       105         1       17             2              180440   \n",
      "2       105         1       17             3              248866   \n",
      "3       105         1       17            91              104928   \n",
      "4       105         1       23             1              160000   \n",
      "\n",
      "   Have_Insurance_2012  Interest_Purchasing_2012  Disaster_2012  \\\n",
      "0                    1                      98.0              2   \n",
      "1                    1                      98.0              2   \n",
      "2                    1                      98.0              2   \n",
      "3                    1                      98.0              2   \n",
      "4                    2                      98.0              2   \n",
      "\n",
      "   Loan_Rejected_2012  COCC_2012  Access_Internet_2012  Access_Service_2012  \\\n",
      "0                 NaN          2                     1                    2   \n",
      "1                 0.0          2                     1                    2   \n",
      "2                 2.0          2                     1                    2   \n",
      "3                 0.0          2                     3                    1   \n",
      "4                 0.0          2                     1                    2   \n",
      "\n",
      "   Food_Consumption_2012  Plot_Investment_Dummy_2012  Transfer_Received_2012  \\\n",
      "0              7000843.0                         NaN                 54000.0   \n",
      "1              5000875.0                         NaN                  8440.0   \n",
      "2              6000764.0                         NaN                  6098.0   \n",
      "3                    NaN                         NaN                   196.0   \n",
      "4              9000881.0                         NaN                  9098.0   \n",
      "\n",
      "   Family_Size_2012  \n",
      "0               7.0  \n",
      "1               6.0  \n",
      "2               5.0  \n",
      "3               4.0  \n",
      "4               2.0  \n"
     ]
    }
   ],
   "source": [
    "#Relable the columns\n",
    "merged_df_2012 = merged_df_2012.rename(columns={\n",
    "    'tinh_2012': 'Province',\n",
    "    'quan_2012': 'District',\n",
    "    'xa_2012': 'Commune',\n",
    "    'ma_h0_2012': 'Household_ID',\n",
    "    'p33q10': 'Annual_Income_2012',\n",
    "    'p40q1': 'Have_Insurance_2012',\n",
    "    'p40q6': 'Interest_Purchasing_2012',\n",
    "    'thien_tai': 'Disaster_2012',\n",
    "    'p39q21': 'Loan_Rejected_2012',\n",
    "    'p51q1': 'COCC_2012',\n",
    "    'p52q2': 'Access_Internet_2012',\n",
    "    'p34q1': 'Access_Service_2012',\n",
    "    'p35q4_': 'Food_Consumption_2012',\n",
    "    'p12q1_grouped': 'Plot_Investment_Dummy_2012',\n",
    "    'p32q2_': 'Transfer_Received_2012',\n",
    "    'family_size': 'Family_Size_2012'\n",
    "})\n",
    "print(merged_df_2012.head())"
   ]
  },
  {
   "cell_type": "markdown",
   "metadata": {},
   "source": [
    "**Preparing Data for 2010**"
   ]
  },
  {
   "cell_type": "code",
   "execution_count": null,
   "metadata": {},
   "outputs": [],
   "source": [
    "Phieu_10_Agg = pd.read_excel(\"/Users/khangphamgia/Downloads/2008-16Clean/2010_new_excel/Phieu_10_Agg.xlsx\")\n",
    "Q7A_New_10 = pd.read_excel(\"/Users/khangphamgia/Downloads/2008-16Clean/2010_new_excel/Q7A_New_10.xlsx\")\n",
    "Q2E_New_10 = pd.read_excel(\"/Users/khangphamgia/Downloads/2008-16Clean/2010_new_excel/Q2E_New_10.xlsx\")\n",
    "Q1_New_10 = pd.read_excel(\"/Users/khangphamgia/Downloads/2008-16Clean/2010_new_excel/Q1_New_10.xlsx\")\n",
    "Q5F_New_10 = pd.read_excel(\"/Users/khangphamgia/Downloads/2008-16Clean/2010_new_excel/Q5F_New_10.xlsx\")"
   ]
  },
  {
   "cell_type": "markdown",
   "metadata": {},
   "source": [
    "**Variable used:**\n",
    "- Household food consumption last month (total monetary value of each food item): Q7A_New_10 - \"p36q4_\" - done\n",
    "- Household monthly income: Phieu_10_Agg - \"p34q10\" - done\n",
    "- Insurance: \n",
    "    Have any kind of insurance: Phieu_10_Agg - \"p42q1\" - done\n",
    "    Interest in purchasing: Phieu_10_Agg - \"p42q6\" - done\n",
    "- Disaster: Phieu_10_Agg - \"thien_tai\" - done\n",
    "- Liquidity: \n",
    "    How many time since 2008 got loan rejected: Phieu_10_Agg - \"p41q22\"-done\n",
    "- Economic: \n",
    "    Plot investment: Q2E_New_10 - \"p12q1_\" - done \n",
    "    Receive transfer: Q5F_New_10 - \"p33q2_\" - done\n",
    "- Behavioral: \n",
    "    Have households members work in commune/ higher government: Phieu_10_Agg - \"p49q1\" - done \n",
    "    Disaster: Phieu_10_Agg - \"thien_tai\" - done \n",
    "    Access to internet: Phieu_10_Agg - \"p50q5\" - done\n",
    "    Access to services: Phieu_10_Agg - \"p35q1\" - done\n",
    "- Demographic: \n",
    "    Family size (calculated from education level) - Q1_New_10 - \"p2q14_\" - done"
   ]
  },
  {
   "cell_type": "code",
   "execution_count": null,
   "metadata": {},
   "outputs": [],
   "source": [
    "Phieu_10_Agg_clean = Phieu_10_Agg[['tinh_2010', 'quan_2010', 'xa_2010', 'ma_h0_2010', 'p34q10', 'p42q1', 'p42q6', 'thien_tai', 'p41q22', 'p49q1' ,'p50q5', 'p35q1']]"
   ]
  },
  {
   "cell_type": "code",
   "execution_count": null,
   "metadata": {},
   "outputs": [
    {
     "name": "stdout",
     "output_type": "stream",
     "text": [
      "      tinh_2010  quan_2010  xa_2010  ma_h0_2010      p36q4_\n",
      "0           105          1       17           1   7001923.0\n",
      "1           105          1       17           2   5002370.0\n",
      "2           105          1       17           3   1002174.0\n",
      "3           105          1       23           1   8000790.0\n",
      "4           105          1       23           2   1001618.0\n",
      "...         ...        ...      ...         ...         ...\n",
      "2126        801         27       23           1   6001163.0\n",
      "2127        801         27       23           2   1000934.0\n",
      "2128        801         27       23           3   4000601.0\n",
      "2129        801         27       29           1  10000315.0\n",
      "2130        801         27       29           2   8000582.0\n",
      "\n",
      "[2131 rows x 5 columns]\n"
     ]
    }
   ],
   "source": [
    "#Clear any rows with values in the column p36q4_ that has the value 98 \n",
    "Q7A_New_10 = Q7A_New_10[Q7A_New_10.p36q4_ != 98]\n",
    "#Drop rows with missing values\n",
    "Q7A_New_10 = Q7A_New_10.dropna()\n",
    "#Sum up the values of p36q4_ \n",
    "Q7A_New_10_grouped = Q7A_New_10.groupby(['tinh_2010', 'quan_2010', 'xa_2010', 'ma_h0_2010'])['p36q4_'].sum().reset_index()\n",
    "print(Q7A_New_10_grouped)"
   ]
  },
  {
   "cell_type": "code",
   "execution_count": null,
   "metadata": {},
   "outputs": [
    {
     "name": "stdout",
     "output_type": "stream",
     "text": [
      "      tinh_2010  quan_2010  xa_2010  ma_h0_2010    p33q2_\n",
      "0           105          1       17           1  189000.0\n",
      "1           105          1       17           2   47840.0\n",
      "2           105          1       17           3    6000.0\n",
      "3           105          1       23           1  100000.0\n",
      "4           105          1       23           2  117000.0\n",
      "...         ...        ...      ...         ...       ...\n",
      "2240        801         27       23           1    6240.0\n",
      "2241        801         27       23           2    1200.0\n",
      "2242        801         27       23           3    1000.0\n",
      "2243        801         27       29           1   13200.0\n",
      "2244        801         27       29           2     200.0\n",
      "\n",
      "[2245 rows x 5 columns]\n"
     ]
    }
   ],
   "source": [
    "Q5F_New_10_grouped = Q5F_New_10.groupby(['tinh_2010', 'quan_2010', 'xa_2010', 'ma_h0_2010'])['p33q2_'].sum().reset_index()\n",
    "print(Q5F_New_10_grouped)"
   ]
  },
  {
   "cell_type": "code",
   "execution_count": null,
   "metadata": {},
   "outputs": [
    {
     "name": "stdout",
     "output_type": "stream",
     "text": [
      "      tinh_2010  quan_2010  xa_2010  ma_h0_2010 p12ma_  p12q1_  p12q2a_  \\\n",
      "21          105          5        3           3     a9     1.0      2.0   \n",
      "22          105          5        3           3     a5     1.0      2.0   \n",
      "23          105          5        3           3     a6     1.0      2.0   \n",
      "24          105          5        3           3    a13     1.0      2.0   \n",
      "25          105          5        3           3     a8     1.0      2.0   \n",
      "...         ...        ...      ...         ...    ...     ...      ...   \n",
      "6169        801         15       37          22     a3     2.0     98.0   \n",
      "6189        801         21       15          12     a1     2.0     98.0   \n",
      "6190        801         21       15          12     b1     2.0     98.0   \n",
      "6191        801         21       15          12     a2     2.0     98.0   \n",
      "6192        801         21       15          12     a3     2.0     98.0   \n",
      "\n",
      "      p12q2b_  p12q5_ p13ma_  p13q8_  p13q9_ p13ma1_  p13q12_  panel0816  \\\n",
      "21        0.0     2.0     a9     2.0    98.0      a9      0.0        1.0   \n",
      "22        0.0     2.0     a5     2.0    98.0      a5      0.0        1.0   \n",
      "23        0.0     2.0     a6     2.0    98.0      a6      0.0        1.0   \n",
      "24        0.0     2.0    a13     2.0    98.0     a13      0.0        1.0   \n",
      "25        0.0     2.0     a8     2.0    98.0      a8      0.0        1.0   \n",
      "...       ...     ...    ...     ...     ...     ...      ...        ...   \n",
      "6169     98.0     2.0     a3     2.0    98.0      a3      0.0        1.0   \n",
      "6189     98.0     2.0     a1     2.0    98.0      a1      0.0        1.0   \n",
      "6190     98.0     2.0     b1     2.0    98.0      b1      0.0        1.0   \n",
      "6191     98.0     2.0     a2     1.0  2000.0      a2      0.0        1.0   \n",
      "6192     98.0     2.0     a3     2.0    98.0      a3      0.0        1.0   \n",
      "\n",
      "      p12q1_grouped  \n",
      "21              1.0  \n",
      "22              1.0  \n",
      "23              1.0  \n",
      "24              1.0  \n",
      "25              1.0  \n",
      "...             ...  \n",
      "6169            2.0  \n",
      "6189            2.0  \n",
      "6190            2.0  \n",
      "6191            2.0  \n",
      "6192            2.0  \n",
      "\n",
      "[967 rows x 16 columns]\n",
      "      tinh_2010  quan_2010  xa_2010  ma_h0_2010 p12ma_  p12q1_  p12q2a_  \\\n",
      "21          105          5        3           3     a9     1.0      2.0   \n",
      "125         105          5       53          11    a16     1.0      2.0   \n",
      "147         105          5       53          14     a9     1.0      2.0   \n",
      "158         105          5       53          15     a6     1.0      2.0   \n",
      "170         105          5       53          17     a1     2.0     98.0   \n",
      "...         ...        ...      ...         ...    ...     ...      ...   \n",
      "6091        801          7       11          19     a3     2.0     98.0   \n",
      "6137        801         15        9          16     a4     2.0     98.0   \n",
      "6151        801         15       37          11     a4     2.0     98.0   \n",
      "6165        801         15       37          22     a5     2.0     98.0   \n",
      "6189        801         21       15          12     a1     2.0     98.0   \n",
      "\n",
      "      p12q2b_  p12q5_ p13ma_  p13q8_  p13q9_ p13ma1_  p13q12_  panel0816  \\\n",
      "21        0.0     2.0     a9     2.0    98.0      a9      0.0        1.0   \n",
      "125       0.0     2.0    a16     2.0    98.0     a16      0.0        1.0   \n",
      "147       0.0     2.0     a9     2.0    98.0      a9      0.0        1.0   \n",
      "158       0.0     2.0     a6     2.0    98.0      a6      0.0        1.0   \n",
      "170      98.0     2.0     a1     2.0    98.0      a1      0.0        1.0   \n",
      "...       ...     ...    ...     ...     ...     ...      ...        ...   \n",
      "6091     98.0     2.0     a3     2.0    98.0      a3      0.0        1.0   \n",
      "6137     98.0     2.0     a4     2.0    98.0      a4   5000.0        1.0   \n",
      "6151     98.0     2.0     a4     2.0    98.0      a4      0.0        1.0   \n",
      "6165     98.0     2.0     a5     2.0    98.0      a5     50.0        1.0   \n",
      "6189     98.0     2.0     a1     2.0    98.0      a1      0.0        1.0   \n",
      "\n",
      "      p12q1_grouped  \n",
      "21              1.0  \n",
      "125             1.0  \n",
      "147             1.0  \n",
      "158             1.0  \n",
      "170             1.0  \n",
      "...             ...  \n",
      "6091            1.0  \n",
      "6137            2.0  \n",
      "6151            2.0  \n",
      "6165            2.0  \n",
      "6189            2.0  \n",
      "\n",
      "[217 rows x 16 columns]\n"
     ]
    }
   ],
   "source": [
    "#Drop NA values\n",
    "Q2E_New_10 = Q2E_New_10.dropna()\n",
    "# Group by the specified columns and apply the custom function\n",
    "Q2E_New_10['p12q1_grouped'] = Q2E_New_10.groupby(['tinh_2010', 'quan_2010', 'xa_2010', 'ma_h0_2010'])['p12q1_'].transform(\n",
    "    lambda x: x.iloc[0] if x.nunique() == 1 else 1\n",
    ")\n",
    "print(Q2E_New_10)\n",
    "#Remove duplicates\n",
    "Q2E_New_10 = Q2E_New_10.drop_duplicates(subset=['tinh_2010', 'quan_2010', 'xa_2010', 'ma_h0_2010'])\n",
    "print(Q2E_New_10)"
   ]
  },
  {
   "cell_type": "code",
   "execution_count": null,
   "metadata": {},
   "outputs": [],
   "source": [
    "Q2E_New_10_clean = Q2E_New_10[['tinh_2010', 'quan_2010', 'xa_2010', 'ma_h0_2010', 'p12q1_grouped']]"
   ]
  },
  {
   "cell_type": "code",
   "execution_count": null,
   "metadata": {},
   "outputs": [
    {
     "name": "stdout",
     "output_type": "stream",
     "text": [
      "      tinh_2010  quan_2010  xa_2010  ma_h0_2010  family_size\n",
      "0           105          1       17           1            6\n",
      "1           105          1       17           2            7\n",
      "2           105          1       17           3            5\n",
      "3           105          1       23           1            2\n",
      "4           105          1       23           2            5\n",
      "...         ...        ...      ...         ...          ...\n",
      "2240        801         27       23           1            2\n",
      "2241        801         27       23           2            6\n",
      "2242        801         27       23           3            4\n",
      "2243        801         27       29           1            1\n",
      "2244        801         27       29           2            6\n",
      "\n",
      "[2245 rows x 5 columns]\n"
     ]
    }
   ],
   "source": [
    "# Calculate family size for each household using record on education level of each member \n",
    "family_size_2010 = Q1_New_10.groupby(['tinh_2010', 'quan_2010', 'xa_2010', 'ma_h0_2010']).size().reset_index(name='family_size')\n",
    "print(family_size_2010)"
   ]
  },
  {
   "cell_type": "code",
   "execution_count": null,
   "metadata": {},
   "outputs": [
    {
     "name": "stdout",
     "output_type": "stream",
     "text": [
      "      tinh_2010  quan_2010  xa_2010  ma_h0_2010  p34q10  p42q1  p42q6  \\\n",
      "0           105          1       17           1  245800      1   98.0   \n",
      "1           105          1       17           2   82732      1  200.0   \n",
      "2           105          1       17           3  133400      1  200.0   \n",
      "3           105          1       23           1  128060      2    NaN   \n",
      "4           105          1       23           2  168000      1   98.0   \n",
      "...         ...        ...      ...         ...     ...    ...    ...   \n",
      "2240        801         27       23           1   33740      1   98.0   \n",
      "2241        801         27       23           2   87040      1   98.0   \n",
      "2242        801         27       23           3   23200      1    0.0   \n",
      "2243        801         27       29           1   13200      2    NaN   \n",
      "2244        801         27       29           2   36240      1   98.0   \n",
      "\n",
      "      thien_tai  p41q22  p49q1  p50q5  p35q1      p36q4_  p12q1_grouped  \\\n",
      "0             2     0.0      2      3      2   7001923.0            NaN   \n",
      "1             2     0.0      2      2      2   5002370.0            NaN   \n",
      "2             2     0.0      2      5      2   1002174.0            NaN   \n",
      "3             1     0.0      2      5      2   8000790.0            NaN   \n",
      "4             2     0.0      2      2      2   1001618.0            NaN   \n",
      "...         ...     ...    ...    ...    ...         ...            ...   \n",
      "2240          2     0.0      2      5      2   6001163.0            NaN   \n",
      "2241          2     0.0      2      5      2   1000934.0            NaN   \n",
      "2242          2     0.0      2      5      2   4000601.0            NaN   \n",
      "2243          2     0.0      2      5      2  10000315.0            NaN   \n",
      "2244          2     0.0      2      4      1   8000582.0            NaN   \n",
      "\n",
      "        p33q2_  family_size  \n",
      "0     189000.0            6  \n",
      "1      47840.0            7  \n",
      "2       6000.0            5  \n",
      "3     100000.0            2  \n",
      "4     117000.0            5  \n",
      "...        ...          ...  \n",
      "2240    6240.0            2  \n",
      "2241    1200.0            6  \n",
      "2242    1000.0            4  \n",
      "2243   13200.0            1  \n",
      "2244     200.0            6  \n",
      "\n",
      "[2245 rows x 16 columns]\n"
     ]
    }
   ],
   "source": [
    "#Merge the datasets using a left join\n",
    "# List of dataframes to merge\n",
    "dataframes = [Q7A_New_10_grouped, Q2E_New_10_clean, Q5F_New_10_grouped, family_size_2010]\n",
    "\n",
    "# Initial dataframe\n",
    "merged_df_2010 = Phieu_10_Agg_clean\n",
    "\n",
    "# Merge each dataframe in the list\n",
    "for df in dataframes:\n",
    "    merged_df_2010 = pd.merge(merged_df_2010, df, on=['tinh_2010', 'quan_2010', 'xa_2010', 'ma_h0_2010'], how='left')\n",
    "\n",
    "print(merged_df_2010)"
   ]
  },
  {
   "cell_type": "code",
   "execution_count": null,
   "metadata": {},
   "outputs": [
    {
     "data": {
      "text/plain": [
       "p12q1_grouped\n",
       "2.0    124\n",
       "1.0     93\n",
       "Name: count, dtype: int64"
      ]
     },
     "execution_count": 216,
     "metadata": {},
     "output_type": "execute_result"
    }
   ],
   "source": [
    "merged_df_2010[\"p12q1_grouped\"].value_counts()"
   ]
  },
  {
   "cell_type": "markdown",
   "metadata": {},
   "source": [
    "**Variable used:**\n",
    "- Household food consumption last month (total monetary value of each food item): Q7A_New_10 - \"p36q4_\" - done\n",
    "- Household monthly income: Phieu_10_Agg - \"p34q10\" - done\n",
    "- Insurance: \n",
    "    Have any kind of insurance: Phieu_10_Agg - \"p42q1\" - done\n",
    "    Interest in purchasing: Phieu_10_Agg - \"p42q6\" - done\n",
    "- Disaster: Phieu_10_Agg - \"thien_tai\" - done\n",
    "- Liquidity: \n",
    "    How many time since 2008 got loan rejected: Phieu_10_Agg - \"p41q22\"-done\n",
    "- Economic: \n",
    "    Plot investment: Q2E_New_10 - \"p12q1_\" - done \n",
    "    Receive transfer: Q5F_New_10 - \"p33q2_\" - done\n",
    "- Behavioral: \n",
    "    Have households members work in commune/ higher government: Phieu_10_Agg - \"p49q1\" - done \n",
    "    Disaster: Phieu_10_Agg - \"thien_tai\" - done \n",
    "    Access to internet: Phieu_10_Agg - \"p50q5\" - done\n",
    "    Access to services: Phieu_10_Agg - \"p35q1\" - done\n",
    "- Demographic: \n",
    "    Family size (calculated from education level) - Q1_New_10 - \"p2q14_\" - done"
   ]
  },
  {
   "cell_type": "code",
   "execution_count": null,
   "metadata": {},
   "outputs": [
    {
     "name": "stdout",
     "output_type": "stream",
     "text": [
      "   Province  District  Commune  Household_ID  Annual_Income_2010  \\\n",
      "0       105         1       17             1              245800   \n",
      "1       105         1       17             2               82732   \n",
      "2       105         1       17             3              133400   \n",
      "3       105         1       23             1              128060   \n",
      "4       105         1       23             2              168000   \n",
      "\n",
      "   Have_Insurance_2010  Interest_Purchasing_2010  Disaster_2010  \\\n",
      "0                    1                      98.0              2   \n",
      "1                    1                     200.0              2   \n",
      "2                    1                     200.0              2   \n",
      "3                    2                       NaN              1   \n",
      "4                    1                      98.0              2   \n",
      "\n",
      "   Loan_Rejected_2010  COCC_2010  Access_Internet_2010  Access_Service_2010  \\\n",
      "0                 0.0          2                     3                    2   \n",
      "1                 0.0          2                     2                    2   \n",
      "2                 0.0          2                     5                    2   \n",
      "3                 0.0          2                     5                    2   \n",
      "4                 0.0          2                     2                    2   \n",
      "\n",
      "   Food_Consumption_2010  Plot_Investment_Dummy_2010  Transfer_Received_2010  \\\n",
      "0              7001923.0                         NaN                189000.0   \n",
      "1              5002370.0                         NaN                 47840.0   \n",
      "2              1002174.0                         NaN                  6000.0   \n",
      "3              8000790.0                         NaN                100000.0   \n",
      "4              1001618.0                         NaN                117000.0   \n",
      "\n",
      "   Family_Size_2010  \n",
      "0                 6  \n",
      "1                 7  \n",
      "2                 5  \n",
      "3                 2  \n",
      "4                 5  \n"
     ]
    }
   ],
   "source": [
    "#Relable the columns\n",
    "merged_df_2010 = merged_df_2010.rename(columns={\n",
    "    'tinh_2010': 'Province',\n",
    "    'quan_2010': 'District',\n",
    "    'xa_2010': 'Commune',\n",
    "    'ma_h0_2010': 'Household_ID',\n",
    "    'p34q10': 'Annual_Income_2010',\n",
    "    'p42q1': 'Have_Insurance_2010',\n",
    "    'p42q6': 'Interest_Purchasing_2010',\n",
    "    'thien_tai': 'Disaster_2010',\n",
    "    'p41q22': 'Loan_Rejected_2010',\n",
    "    'p49q1': 'COCC_2010',\n",
    "    'p50q5': 'Access_Internet_2010',\n",
    "    'p35q1': 'Access_Service_2010',\n",
    "    'p36q4_': 'Food_Consumption_2010',\n",
    "    'p12q1_grouped': 'Plot_Investment_Dummy_2010',\n",
    "    'p33q2_': 'Transfer_Received_2010',\n",
    "    'family_size': 'Family_Size_2010'\n",
    "})\n",
    "print(merged_df_2010.head())"
   ]
  },
  {
   "cell_type": "code",
   "execution_count": null,
   "metadata": {},
   "outputs": [
    {
     "name": "stdout",
     "output_type": "stream",
     "text": [
      "Index(['Province', 'District', 'Commune', 'Household_ID', 'Annual_Income_2010',\n",
      "       'Have_Insurance_2010', 'Interest_Purchasing_2010', 'Disaster_2010',\n",
      "       'Loan_Rejected_2010', 'COCC_2010', 'Access_Internet_2010',\n",
      "       'Access_Service_2010', 'Food_Consumption_2010',\n",
      "       'Plot_Investment_Dummy_2010', 'Transfer_Received_2010',\n",
      "       'Family_Size_2010'],\n",
      "      dtype='object')\n"
     ]
    }
   ],
   "source": [
    "print(merged_df_2010.columns)"
   ]
  },
  {
   "cell_type": "code",
   "execution_count": null,
   "metadata": {},
   "outputs": [
    {
     "name": "stdout",
     "output_type": "stream",
     "text": [
      "variable  Province  District  Commune  Household_ID timeid  Access_Internet  \\\n",
      "0              105         1       17             1   2010              3.0   \n",
      "1              105         1       17             1   2012              1.0   \n",
      "2              105         1       17             1   2014              1.0   \n",
      "3              105         1       17             1   2016              1.0   \n",
      "4              105         1       17             2   2010              2.0   \n",
      "...            ...       ...      ...           ...    ...              ...   \n",
      "8331           801        27       29             1   2016              5.0   \n",
      "8332           801        27       29             2   2010              4.0   \n",
      "8333           801        27       29             2   2012              1.0   \n",
      "8334           801        27       29             2   2014              1.0   \n",
      "8335           801        27       29             2   2016              3.0   \n",
      "\n",
      "variable  Access_Service  Annual_Income  COCC  Disaster  Family_Size  \\\n",
      "0                    2.0       245800.0   2.0       2.0          6.0   \n",
      "1                    2.0       329520.0   2.0       2.0          7.0   \n",
      "2                    2.0       124500.0   2.0       2.0          7.0   \n",
      "3                    1.0       234700.0   2.0       1.0          7.0   \n",
      "4                    2.0        82732.0   2.0       2.0          7.0   \n",
      "...                  ...            ...   ...       ...          ...   \n",
      "8331                 2.0         7460.0   2.0       1.0          1.0   \n",
      "8332                 1.0        36240.0   2.0       2.0          6.0   \n",
      "8333                 2.0        76990.0   2.0       2.0          6.0   \n",
      "8334                 1.0        85350.0   2.0       2.0          6.0   \n",
      "8335                 1.0       280305.0   2.0       1.0          5.0   \n",
      "\n",
      "variable  Food_Consumption  Have_Insurance  Interest_Purchasing  \\\n",
      "0                7001923.0             1.0                 98.0   \n",
      "1                7000843.0             1.0                 98.0   \n",
      "2                    945.0             1.0                 98.0   \n",
      "3                   2790.0             1.0                 98.0   \n",
      "4                5002370.0             1.0                200.0   \n",
      "...                    ...             ...                  ...   \n",
      "8331                 140.0             1.0                 98.0   \n",
      "8332             8000582.0             1.0                 98.0   \n",
      "8333             8000712.0             1.0                 98.0   \n",
      "8334                 420.0             1.0                724.0   \n",
      "8335                 744.0             1.0                 98.0   \n",
      "\n",
      "variable  Loan_Rejected  Plot_Investment_Dummy  Transfer_Received  \n",
      "0                   0.0                    NaN           189000.0  \n",
      "1                   NaN                    NaN            54000.0  \n",
      "2                   0.0                    NaN            36098.0  \n",
      "3                   0.0                    NaN            75600.0  \n",
      "4                   0.0                    NaN            47840.0  \n",
      "...                 ...                    ...                ...  \n",
      "8331                0.0                    NaN             7460.0  \n",
      "8332                0.0                    NaN              200.0  \n",
      "8333                0.0                    NaN              196.0  \n",
      "8334                0.0                    NaN              196.0  \n",
      "8335                0.0                    NaN             2890.0  \n",
      "\n",
      "[8336 rows x 17 columns]\n"
     ]
    }
   ],
   "source": [
    "#Add a year column to each dataframe\n",
    "merged_df_2010['timeid'] = 2010\n",
    "merged_df_2012['timeid'] = 2012\n",
    "merged_df_2014['timeid'] = 2014\n",
    "merged_df_2016['timeid'] = 2016\n",
    "# Merge all the datasets together using an inner join\n",
    "columns = ['Province', 'District', 'Commune', 'Household_ID', 'Annual_Income',\n",
    "       'Have_Insurance', 'Interest_Purchasing', 'Disaster', 'Loan_Rejected',\n",
    "       'COCC','Access_Internet', 'Access_Service', 'Food_Consumption',\n",
    "       'Plot_Investment_Dummy', 'Transfer_Received', 'Family_Size']\n",
    "# Merge all the datasets together using the specified columns\n",
    "df = pd.merge(merged_df_2010, merged_df_2012, on=['Province', 'District', 'Commune', 'Household_ID'], \n",
    "              how='inner', suffixes=('_2010', '_2012'))\n",
    "\n",
    "# Merge with the 2014 dataset (note the suffix for 2014 is '_2014')\n",
    "df = pd.merge(df, merged_df_2014, on=['Province', 'District', 'Commune', 'Household_ID'], \n",
    "              how='inner', suffixes=('', '_2014'))\n",
    "\n",
    "# Merge with the 2016 dataset (suffix for 2016 is '_2016')\n",
    "df = pd.merge(df, merged_df_2016, on=['Province', 'District', 'Commune', 'Household_ID'], \n",
    "              how='inner', suffixes=('', '_2016'))\n",
    "\n",
    "# Columns to exclude from melting (these are the id variables and 'timeid')\n",
    "id_columns = ['Province', 'District', 'Commune', 'Household_ID', 'timeid']\n",
    "\n",
    "# Get all other columns dynamically\n",
    "value_columns_sets = [\n",
    "    ['Annual_Income_2010', 'Annual_Income_2012', 'Annual_Income_2014', 'Annual_Income_2016'],  # Income columns\n",
    "    ['Have_Insurance_2010', 'Have_Insurance_2012', 'Have_Insurance_2014', 'Have_Insurance_2016'],  # Insurance columns\n",
    "    ['Interest_Purchasing_2010', 'Interest_Purchasing_2012', 'Interest_Purchasing_2014', 'Interest_Purchasing_2016'],  # Interest columns\n",
    "    ['Disaster_2010', 'Disaster_2012', 'Disaster_2014', 'Disaster_2016'],  # Disaster columns\n",
    "    ['Loan_Rejected_2010', 'Loan_Rejected_2012', 'Loan_Rejected_2014', 'Loan_Rejected_2016'],  # Loan columns\n",
    "    ['COCC_2010', 'COCC_2012', 'COCC_2014', 'COCC_2016'],  # COCC columns\n",
    "    ['Access_Internet_2010', 'Access_Internet_2012', 'Access_Internet_2014', 'Access_Internet_2016'],  # Internet columns\n",
    "    ['Access_Service_2010', 'Access_Service_2012', 'Access_Service_2014', 'Access_Service_2016'],  # Service columns\n",
    "    ['Food_Consumption_2010', 'Food_Consumption_2012', 'Food_Consumption_2014', 'Food_Consumption_2016'],  # Food columns\n",
    "    ['Plot_Investment_Dummy_2010', 'Plot_Investment_Dummy_2012', 'Plot_Investment_Dummy_2014', 'Plot_Investment_Dummy_2016'],  # Plot columns\n",
    "    ['Transfer_Received_2010', 'Transfer_Received_2012', 'Transfer_Received_2014', 'Transfer_Received_2016'],  # Transfer columns\n",
    "    ['Family_Size_2010', 'Family_Size_2012', 'Family_Size_2014', 'Family_Size_2016']  # Family size columns\n",
    "]\n",
    "\n",
    "melted_dfs = []\n",
    "\n",
    "# Loop over the variable sets and melt each set of variables\n",
    "for value_columns in value_columns_sets:\n",
    "    # Melt the dataframe for the current set of value columns\n",
    "    df_melted = df.melt(id_vars=id_columns, value_vars=value_columns,\n",
    "                        var_name='variable', value_name='value')\n",
    "    \n",
    "    # Extract the year from the column names (the year is at the end of the column name)\n",
    "    df_melted['timeid'] = df_melted['variable'].str.extract('(\\d{4})')\n",
    "    \n",
    "    # Remove the year part from the 'variable' column (e.g., 'having_insurance')\n",
    "    df_melted['variable'] = df_melted['variable'].str.replace(r'_\\d{4}', '', regex=True)\n",
    "    \n",
    "    # Append the melted dataframe to the list\n",
    "    melted_dfs.append(df_melted)\n",
    "\n",
    "# Concatenate all melted dataframes into one final dataframe\n",
    "final_df = pd.concat(melted_dfs, axis=0, ignore_index=True)\n",
    "\n",
    "# Pivot the dataframe to turn the 'variable' column values into separate columns\n",
    "pivot_df = final_df.pivot_table(index=['Province', 'District', 'Commune', 'Household_ID', 'timeid'],\n",
    "                                columns='variable', values='value', aggfunc='first')\n",
    "\n",
    "# Reset index to make the columns flat and turn it into a regular dataframe\n",
    "pivot_df = pivot_df.reset_index()\n",
    "\n",
    "# Display the final reshaped dataframe\n",
    "print(pivot_df)\n",
    "\n",
    "#Save as excel\n",
    "pivot_df.to_excel('pivot_df.xlsx', index=False)"
   ]
  },
  {
   "cell_type": "markdown",
   "metadata": {},
   "source": [
    "**Analysis**"
   ]
  },
  {
   "cell_type": "markdown",
   "metadata": {},
   "source": [
    "**Hypothesis 1: Insurance helps consumers better smooth their consumption during disaster periods**\n",
    "\n",
    "$$\n",
    "\\Delta \\ln c_{ijt} = \\beta \\Delta \\ln \\tilde{c}_{jt} + \\delta \\Delta \\ln y_{ijt} + \\beta_1 \\text{Insurance}_{ijt} + \\beta_2 \\left( \\Delta \\ln y_{ijt} \\times \\text{Insurance}_{ijt} \\right) + \\beta_3 \\left( \\Delta \\ln \\tilde{c}_{jt} \\times \\text{Insurance}_{ijt} \\right) + \\beta_4 \\text{Disaster}_{jt} + \\beta_5 \\left( \\text{Disaster}_{jt} \\times \\text{Insurance}_{ijt} \\right) + \\epsilon_{ijt}\n",
    "$$\n",
    "\n"
   ]
  },
  {
   "cell_type": "code",
   "execution_count": null,
   "metadata": {},
   "outputs": [],
   "source": [
    "#Divide annual income by 12\n",
    "pivot_df['Annual_Income'] = pivot_df['Annual_Income'] / 12\n",
    "#In the 'Disaster' column, relace the value 2 with 0\n",
    "pivot_df['Disaster'] = pivot_df['Disaster'].replace(2, 0)\n",
    "#In the 'Have_Insurance' column, relace the value 2 with 0\n",
    "pivot_df['Have_Insurance'] = pivot_df['Have_Insurance'].replace(2, 0)\n"
   ]
  },
  {
   "cell_type": "code",
   "execution_count": null,
   "metadata": {},
   "outputs": [
    {
     "name": "stdout",
     "output_type": "stream",
     "text": [
      "variable  Province  District  Commune  Household_ID timeid  Access_Internet  \\\n",
      "0              105         1       17             1   2010              3.0   \n",
      "1              105         1       17             1   2012              1.0   \n",
      "2              105         1       17             1   2014              1.0   \n",
      "3              105         1       17             1   2016              1.0   \n",
      "4              105         1       17             2   2010              2.0   \n",
      "...            ...       ...      ...           ...    ...              ...   \n",
      "8331           801        27       29             1   2016              5.0   \n",
      "8332           801        27       29             2   2010              4.0   \n",
      "8333           801        27       29             2   2012              1.0   \n",
      "8334           801        27       29             2   2014              1.0   \n",
      "8335           801        27       29             2   2016              3.0   \n",
      "\n",
      "variable  Access_Service  Annual_Income  COCC  Disaster  Family_Size  \\\n",
      "0                    2.0   20483.333333   2.0       0.0          6.0   \n",
      "1                    2.0   27460.000000   2.0       0.0          7.0   \n",
      "2                    2.0   10375.000000   2.0       0.0          7.0   \n",
      "3                    1.0   19558.333333   2.0       1.0          7.0   \n",
      "4                    2.0    6894.333333   2.0       0.0          7.0   \n",
      "...                  ...            ...   ...       ...          ...   \n",
      "8331                 2.0     621.666667   2.0       1.0          1.0   \n",
      "8332                 1.0    3020.000000   2.0       0.0          6.0   \n",
      "8333                 2.0    6415.833333   2.0       0.0          6.0   \n",
      "8334                 1.0    7112.500000   2.0       0.0          6.0   \n",
      "8335                 1.0   23358.750000   2.0       1.0          5.0   \n",
      "\n",
      "variable  Food_Consumption  Have_Insurance  Interest_Purchasing  \\\n",
      "0                7001923.0             1.0                 98.0   \n",
      "1                7000843.0             1.0                 98.0   \n",
      "2                    945.0             1.0                 98.0   \n",
      "3                   2790.0             1.0                 98.0   \n",
      "4                5002370.0             1.0                200.0   \n",
      "...                    ...             ...                  ...   \n",
      "8331                 140.0             1.0                 98.0   \n",
      "8332             8000582.0             1.0                 98.0   \n",
      "8333             8000712.0             1.0                 98.0   \n",
      "8334                 420.0             1.0                724.0   \n",
      "8335                 744.0             1.0                 98.0   \n",
      "\n",
      "variable  Loan_Rejected  Plot_Investment_Dummy  Transfer_Received  \n",
      "0                   0.0                    NaN           189000.0  \n",
      "1                   NaN                    NaN            54000.0  \n",
      "2                   0.0                    NaN            36098.0  \n",
      "3                   0.0                    NaN            75600.0  \n",
      "4                   0.0                    NaN            47840.0  \n",
      "...                 ...                    ...                ...  \n",
      "8331                0.0                    NaN             7460.0  \n",
      "8332                0.0                    NaN              200.0  \n",
      "8333                0.0                    NaN              196.0  \n",
      "8334                0.0                    NaN              196.0  \n",
      "8335                0.0                    NaN             2890.0  \n",
      "\n",
      "[8336 rows x 17 columns]\n"
     ]
    }
   ],
   "source": [
    "print(pivot_df)"
   ]
  },
  {
   "cell_type": "code",
   "execution_count": null,
   "metadata": {},
   "outputs": [],
   "source": [
    "#Average food consumption across provinces in each year\n",
    "#pivot_df['c_bar_t'] = pivot_df.groupby(['timeid'])['Food_Consumption'].transform('mean')\n",
    "#Detrend average food consumption\n",
    "#pivot_df['c_tilde'] = pivot_df['c_bar'] - pivot_df['c_bar_t']\n",
    "#Log detrended food consumption\n",
    "#pivot_df['logc_tilde'] = np.log(pivot_df['c_tilde'])"
   ]
  },
  {
   "cell_type": "code",
   "execution_count": null,
   "metadata": {},
   "outputs": [
    {
     "name": "stderr",
     "output_type": "stream",
     "text": [
      "/Users/khangphamgia/Library/Python/3.9/lib/python/site-packages/pandas/core/arraylike.py:396: RuntimeWarning: divide by zero encountered in log\n",
      "  result = getattr(ufunc, method)(*inputs, **kwargs)\n",
      "/Users/khangphamgia/Library/Python/3.9/lib/python/site-packages/pandas/core/arraylike.py:396: RuntimeWarning: invalid value encountered in log\n",
      "  result = getattr(ufunc, method)(*inputs, **kwargs)\n"
     ]
    }
   ],
   "source": [
    "#Ask whether we need to group by province\n",
    "#Log food consumption\n",
    "import numpy as np\n",
    "pivot_df['logc'] = np.log(pivot_df['Food_Consumption'])\n",
    "#Average food consumption across households in each year\n",
    "pivot_df['c_bar'] = pivot_df.groupby(['timeid'])['Food_Consumption'].transform('mean')\n",
    "#Aggregate food consumption by province in each year\n",
    "pivot_df['c_bar_agg'] = pivot_df.groupby(['Province', 'timeid'])['Food_Consumption'].transform('mean')\n",
    "# log aggregate food consumption\n",
    "pivot_df['logc_bar_agg'] = np.log(pivot_df['c_bar_agg'])\n",
    "# log aggregate food consumption growth\n",
    "pivot_df['dlogc_bar_agg'] = pivot_df['logc_bar_agg'].diff()\n",
    "#Log average food consumption\n",
    "pivot_df['logc_bar'] = np.log(pivot_df['c_bar'])\n",
    "#Consumption growth of each household using diff()\n",
    "pivot_df['dlogc'] = pivot_df['logc'].diff()\n",
    "pivot_df['dlogc_bar'] = pivot_df['logc_bar'].diff()\n",
    "#Log income and income shock \n",
    "pivot_df['logy'] = np.log(pivot_df['Annual_Income'])\n",
    "pivot_df['dlogy'] = pivot_df['logy'].diff()"
   ]
  },
  {
   "cell_type": "code",
   "execution_count": null,
   "metadata": {},
   "outputs": [
    {
     "data": {
      "text/html": [
       "<div>\n",
       "<style scoped>\n",
       "    .dataframe tbody tr th:only-of-type {\n",
       "        vertical-align: middle;\n",
       "    }\n",
       "\n",
       "    .dataframe tbody tr th {\n",
       "        vertical-align: top;\n",
       "    }\n",
       "\n",
       "    .dataframe thead th {\n",
       "        text-align: right;\n",
       "    }\n",
       "</style>\n",
       "<table border=\"1\" class=\"dataframe\">\n",
       "  <thead>\n",
       "    <tr style=\"text-align: right;\">\n",
       "      <th>variable</th>\n",
       "      <th>dlogc_bar_agg</th>\n",
       "      <th>dlogc</th>\n",
       "      <th>dlogy</th>\n",
       "    </tr>\n",
       "  </thead>\n",
       "  <tbody>\n",
       "    <tr>\n",
       "      <th>0</th>\n",
       "      <td>NaN</td>\n",
       "      <td>NaN</td>\n",
       "      <td>NaN</td>\n",
       "    </tr>\n",
       "    <tr>\n",
       "      <th>1</th>\n",
       "      <td>-0.094320</td>\n",
       "      <td>-0.000154</td>\n",
       "      <td>0.293119</td>\n",
       "    </tr>\n",
       "    <tr>\n",
       "      <th>2</th>\n",
       "      <td>-8.746448</td>\n",
       "      <td>-8.910356</td>\n",
       "      <td>-0.973331</td>\n",
       "    </tr>\n",
       "    <tr>\n",
       "      <th>3</th>\n",
       "      <td>0.009032</td>\n",
       "      <td>1.082612</td>\n",
       "      <td>0.634002</td>\n",
       "    </tr>\n",
       "    <tr>\n",
       "      <th>4</th>\n",
       "      <td>8.831736</td>\n",
       "      <td>7.491625</td>\n",
       "      <td>-1.042702</td>\n",
       "    </tr>\n",
       "    <tr>\n",
       "      <th>...</th>\n",
       "      <td>...</td>\n",
       "      <td>...</td>\n",
       "      <td>...</td>\n",
       "    </tr>\n",
       "    <tr>\n",
       "      <th>8331</th>\n",
       "      <td>-0.201703</td>\n",
       "      <td>-0.068993</td>\n",
       "      <td>-0.797435</td>\n",
       "    </tr>\n",
       "    <tr>\n",
       "      <th>8332</th>\n",
       "      <td>8.976688</td>\n",
       "      <td>10.953382</td>\n",
       "      <td>1.580608</td>\n",
       "    </tr>\n",
       "    <tr>\n",
       "      <th>8333</th>\n",
       "      <td>-0.158179</td>\n",
       "      <td>0.000016</td>\n",
       "      <td>0.753512</td>\n",
       "    </tr>\n",
       "    <tr>\n",
       "      <th>8334</th>\n",
       "      <td>-8.616806</td>\n",
       "      <td>-9.854786</td>\n",
       "      <td>0.103085</td>\n",
       "    </tr>\n",
       "    <tr>\n",
       "      <th>8335</th>\n",
       "      <td>-0.201703</td>\n",
       "      <td>0.571786</td>\n",
       "      <td>1.189118</td>\n",
       "    </tr>\n",
       "  </tbody>\n",
       "</table>\n",
       "<p>8336 rows × 3 columns</p>\n",
       "</div>"
      ],
      "text/plain": [
       "variable  dlogc_bar_agg      dlogc     dlogy\n",
       "0                   NaN        NaN       NaN\n",
       "1             -0.094320  -0.000154  0.293119\n",
       "2             -8.746448  -8.910356 -0.973331\n",
       "3              0.009032   1.082612  0.634002\n",
       "4              8.831736   7.491625 -1.042702\n",
       "...                 ...        ...       ...\n",
       "8331          -0.201703  -0.068993 -0.797435\n",
       "8332           8.976688  10.953382  1.580608\n",
       "8333          -0.158179   0.000016  0.753512\n",
       "8334          -8.616806  -9.854786  0.103085\n",
       "8335          -0.201703   0.571786  1.189118\n",
       "\n",
       "[8336 rows x 3 columns]"
      ]
     },
     "execution_count": 224,
     "metadata": {},
     "output_type": "execute_result"
    }
   ],
   "source": [
    "pivot_df[['dlogc_bar_agg', 'dlogc', 'dlogy']]"
   ]
  },
  {
   "cell_type": "code",
   "execution_count": null,
   "metadata": {},
   "outputs": [
    {
     "name": "stdout",
     "output_type": "stream",
     "text": [
      "                                 OLS Regression Results                                \n",
      "=======================================================================================\n",
      "Dep. Variable:                  dlogc   R-squared (uncentered):                   0.976\n",
      "Model:                            OLS   Adj. R-squared (uncentered):              0.976\n",
      "Method:                 Least Squares   F-statistic:                          1.664e+05\n",
      "Date:                Fri, 06 Dec 2024   Prob (F-statistic):                        0.00\n",
      "Time:                        13:35:11   Log-Likelihood:                         -11677.\n",
      "No. Observations:                8252   AIC:                                  2.336e+04\n",
      "Df Residuals:                    8250   BIC:                                  2.337e+04\n",
      "Df Model:                           2                                                  \n",
      "Covariance Type:            nonrobust                                                  \n",
      "=================================================================================\n",
      "                    coef    std err          t      P>|t|      [0.025      0.975]\n",
      "---------------------------------------------------------------------------------\n",
      "dlogc_bar_agg     1.0072      0.002    563.342      0.000       1.004       1.011\n",
      "dlogy             0.0683      0.012      5.611      0.000       0.044       0.092\n",
      "==============================================================================\n",
      "Omnibus:                     2432.870   Durbin-Watson:                   2.841\n",
      "Prob(Omnibus):                  0.000   Jarque-Bera (JB):           318081.498\n",
      "Skew:                           0.228   Prob(JB):                         0.00\n",
      "Kurtosis:                      33.412   Cond. No.                         6.99\n",
      "==============================================================================\n",
      "\n",
      "Notes:\n",
      "[1] R² is computed without centering (uncentered) since the model does not contain a constant.\n",
      "[2] Standard Errors assume that the covariance matrix of the errors is correctly specified.\n"
     ]
    }
   ],
   "source": [
    "#Test of perfect risk sharing \n",
    "import statsmodels.formula.api as smf\n",
    "\n",
    "# Specify the independent and dependent variables\n",
    "# Drop NA values of the variables\n",
    "pivot_df = pivot_df.dropna(subset=['dlogc', 'dlogc_bar_agg', 'dlogy'])\n",
    "# Replace infinite values with NaN, then drop those rows\n",
    "pivot_df = pivot_df.replace([np.inf, -np.inf], np.nan).dropna(subset=['dlogc', 'dlogc_bar_agg', 'dlogy'])\n",
    "result = smf.ols(formula=\"dlogc ~ dlogc_bar_agg + dlogy - 1\",\n",
    "                   data=pivot_df).fit()\n",
    "\n",
    "print(result.summary())"
   ]
  },
  {
   "cell_type": "code",
   "execution_count": null,
   "metadata": {},
   "outputs": [],
   "source": [
    "#Estimate a regression of log c on log y with time fixed effects (Demean the dependent and independent variables by time-specific means)\n",
    "#In each year, calculate the mean of logy and logc\n",
    "pivot_df['logc_bar_t'] = pivot_df.groupby(['timeid'])['logc'].transform('mean') #Average log food consumption across households in each year\n",
    "pivot_df[\"c_tfe\"] = pivot_df[\"logc\"] - pivot_df[\"logc_bar_t\"] \n",
    "#Do the previous step for logy and its average\n",
    "pivot_df['logy_bar_t'] = pivot_df.groupby(['timeid'])['logy'].transform('mean') #Average log income across households in each year\n",
    "pivot_df[\"y_tfe\"] = pivot_df[\"logy\"] - pivot_df[\"logy_bar_t\"]\n",
    "\n"
   ]
  },
  {
   "cell_type": "code",
   "execution_count": null,
   "metadata": {},
   "outputs": [
    {
     "name": "stdout",
     "output_type": "stream",
     "text": [
      "0\n",
      "0\n"
     ]
    }
   ],
   "source": [
    "#Check for missing values in columns disaster and insurance \n",
    "print(pivot_df['Disaster'].isnull().sum())\n",
    "print(pivot_df['Have_Insurance'].isnull().sum())"
   ]
  },
  {
   "cell_type": "code",
   "execution_count": null,
   "metadata": {},
   "outputs": [],
   "source": [
    "#Compute the average of disaster and insurance across provinces in each year\n",
    "pivot_df['disaster_bar'] = pivot_df.groupby(['timeid'])['Disaster'].transform('mean')\n",
    "pivot_df['insurance_bar'] = pivot_df.groupby(['timeid'])['Have_Insurance'].transform('mean')\n",
    "#Demean disaster and insurance\n",
    "pivot_df['disaster_tfe'] = pivot_df['Disaster'] - pivot_df['disaster_bar']\n",
    "pivot_df['insurance_tfe'] = pivot_df['Have_Insurance'] - pivot_df['insurance_bar']"
   ]
  },
  {
   "cell_type": "code",
   "execution_count": null,
   "metadata": {},
   "outputs": [],
   "source": [
    "#Add interaction term insurance and disaster\n",
    "pivot_df['insurance_tfe*disaster_tfe'] = pivot_df['insurance_tfe'] * pivot_df['disaster_tfe']\n",
    "#Add interaction term income_tfe and insurance\n",
    "pivot_df['y_tfe*insurance_tfe'] = pivot_df['y_tfe'] * pivot_df['insurance_tfe']\n",
    "#Add interaction term logc_bar_agg and disaster\n",
    "pivot_df['dlogc_bar_agg*disaster_tfe'] = pivot_df['dlogc_bar_agg'] * pivot_df['disaster_tfe']"
   ]
  },
  {
   "cell_type": "code",
   "execution_count": null,
   "metadata": {},
   "outputs": [
    {
     "name": "stdout",
     "output_type": "stream",
     "text": [
      "                                 OLS Regression Results                                \n",
      "=======================================================================================\n",
      "Dep. Variable:                  c_tfe   R-squared (uncentered):                   0.008\n",
      "Model:                            OLS   Adj. R-squared (uncentered):              0.007\n",
      "Method:                 Least Squares   F-statistic:                              9.036\n",
      "Date:                Fri, 06 Dec 2024   Prob (F-statistic):                    3.74e-11\n",
      "Time:                        13:35:12   Log-Likelihood:                         -9239.9\n",
      "No. Observations:                8252   AIC:                                  1.849e+04\n",
      "Df Residuals:                    8245   BIC:                                  1.854e+04\n",
      "Df Model:                           7                                                  \n",
      "Covariance Type:            nonrobust                                                  \n",
      "==============================================================================================\n",
      "                                 coef    std err          t      P>|t|      [0.025      0.975]\n",
      "----------------------------------------------------------------------------------------------\n",
      "y_tfe                          0.0697      0.010      7.327      0.000       0.051       0.088\n",
      "dlogc_bar_agg                  0.0004      0.001      0.290      0.772      -0.002       0.003\n",
      "disaster_tfe                  -0.0188      0.021     -0.887      0.375      -0.060       0.023\n",
      "insurance_tfe                 -0.0266      0.029     -0.916      0.360      -0.084       0.030\n",
      "insurance_tfe:disaster_tfe     0.1167      0.075      1.555      0.120      -0.030       0.264\n",
      "y_tfe:insurance_tfe           -0.0547      0.033     -1.663      0.096      -0.119       0.010\n",
      "dlogc_bar_agg:disaster_tfe     0.0052      0.003      1.794      0.073      -0.000       0.011\n",
      "==============================================================================\n",
      "Omnibus:                     8601.863   Durbin-Watson:                   1.874\n",
      "Prob(Omnibus):                  0.000   Jarque-Bera (JB):           904561.663\n",
      "Skew:                          -5.045   Prob(JB):                         0.00\n",
      "Kurtosis:                      53.289   Cond. No.                         57.9\n",
      "==============================================================================\n",
      "\n",
      "Notes:\n",
      "[1] R² is computed without centering (uncentered) since the model does not contain a constant.\n",
      "[2] Standard Errors assume that the covariance matrix of the errors is correctly specified.\n"
     ]
    }
   ],
   "source": [
    "#Regression of log c on log y with time fixed effects\n",
    "import statsmodels.formula.api as smf\n",
    "\n",
    "# Specify the independent and dependent variables\n",
    "result_1 = smf.ols(formula=\"c_tfe ~ y_tfe + dlogc_bar_agg + disaster_tfe + insurance_tfe + insurance_tfe*disaster_tfe + y_tfe*insurance_tfe + dlogc_bar_agg*disaster_tfe - 1\",\n",
    "                   data=pivot_df).fit()\n",
    "\n",
    "print(result_1.summary())\n"
   ]
  },
  {
   "cell_type": "code",
   "execution_count": null,
   "metadata": {},
   "outputs": [
    {
     "name": "stdout",
     "output_type": "stream",
     "text": [
      "                                 OLS Regression Results                                \n",
      "=======================================================================================\n",
      "Dep. Variable:                  c_pfe   R-squared (uncentered):                   0.104\n",
      "Model:                            OLS   Adj. R-squared (uncentered):              0.103\n",
      "Method:                 Least Squares   F-statistic:                              191.4\n",
      "Date:                Fri, 06 Dec 2024   Prob (F-statistic):                   1.80e-193\n",
      "Time:                        13:35:12   Log-Likelihood:                         -23730.\n",
      "No. Observations:                8252   AIC:                                  4.747e+04\n",
      "Df Residuals:                    8247   BIC:                                  4.750e+04\n",
      "Df Model:                           5                                                  \n",
      "Covariance Type:            nonrobust                                                  \n",
      "==============================================================================================\n",
      "                                 coef    std err          t      P>|t|      [0.025      0.975]\n",
      "----------------------------------------------------------------------------------------------\n",
      "y_pfe                         -0.7220      0.056    -12.800      0.000      -0.833      -0.611\n",
      "disaster_pfe                  -2.5085      0.096    -26.008      0.000      -2.698      -2.319\n",
      "insurance_pfe                 -0.5885      0.171     -3.449      0.001      -0.923      -0.254\n",
      "insurance_pfe:disaster_pfe     1.8472      0.329      5.615      0.000       1.202       2.492\n",
      "y_pfe:insurance_pfe           -0.4904      0.191     -2.564      0.010      -0.865      -0.115\n",
      "==============================================================================\n",
      "Omnibus:                    55080.650   Durbin-Watson:                   1.997\n",
      "Prob(Omnibus):                  0.000   Jarque-Bera (JB):              752.122\n",
      "Skew:                          -0.072   Prob(JB):                    4.77e-164\n",
      "Kurtosis:                       1.528   Cond. No.                         5.93\n",
      "==============================================================================\n",
      "\n",
      "Notes:\n",
      "[1] R² is computed without centering (uncentered) since the model does not contain a constant.\n",
      "[2] Standard Errors assume that the covariance matrix of the errors is correctly specified.\n"
     ]
    }
   ],
   "source": [
    "#Estimate a regression of log c on log y with province fixed effects (Demean the dependent and independent variables by province-specific means)\n",
    "#Do the same as above but take the average over time for each province\n",
    "pivot_df[\"logc_bar_p\"] = pivot_df.groupby(['Province'])['logc'].transform('mean')\n",
    "pivot_df[\"c_pfe\"] = pivot_df[\"logc\"] - pivot_df[\"logc_bar_p\"]\n",
    "pivot_df['logy_bar_p'] = pivot_df.groupby(['Province'])['logy'].transform('mean')\n",
    "pivot_df[\"y_pfe\"] = pivot_df[\"logy\"] - pivot_df[\"logy_bar_p\"]\n",
    "pivot_df['disaster_bar_p'] = pivot_df.groupby(['Province'])['Disaster'].transform('mean')\n",
    "pivot_df['insurance_bar_p'] = pivot_df.groupby(['Province'])['Have_Insurance'].transform('mean')\n",
    "pivot_df['disaster_pfe'] = pivot_df['Disaster'] - pivot_df['disaster_bar_p']\n",
    "pivot_df['insurance_pfe'] = pivot_df['Have_Insurance'] - pivot_df['insurance_bar_p']\n",
    "pivot_df['insurance_pfe*disaster_pfe'] = pivot_df['insurance_pfe'] * pivot_df['disaster_pfe']\n",
    "pivot_df['y_pfe*insurance_pfe'] = pivot_df['y_pfe'] * pivot_df['insurance_pfe']\n",
    "\n",
    "result_2 = smf.ols(formula=\"c_pfe ~ y_pfe + disaster_pfe + insurance_pfe + insurance_pfe*disaster_pfe + y_pfe*insurance_pfe- 1\",\n",
    "                     data=pivot_df).fit()\n",
    "print(result_2.summary())"
   ]
  },
  {
   "cell_type": "markdown",
   "metadata": {},
   "source": [
    "**Check for liquidity constraints**"
   ]
  },
  {
   "cell_type": "code",
   "execution_count": null,
   "metadata": {},
   "outputs": [
    {
     "name": "stdout",
     "output_type": "stream",
     "text": [
      "timeid  Loan_Rejected\n",
      "2010    0.0              0.983051\n",
      "        1.0              0.006481\n",
      "        2.0              0.004985\n",
      "        3.0              0.002493\n",
      "        4.0              0.000997\n",
      "        10.0             0.000997\n",
      "        5.0              0.000997\n",
      "2012    0.0              0.987258\n",
      "        2.0              0.006626\n",
      "        1.0              0.004077\n",
      "        3.0              0.001019\n",
      "        5.0              0.000510\n",
      "        4.0              0.000510\n",
      "2014    0.0              0.988321\n",
      "        1.0              0.003406\n",
      "        3.0              0.002433\n",
      "        5.0              0.002433\n",
      "        7.0              0.000973\n",
      "        2.0              0.000973\n",
      "        4.0              0.000973\n",
      "        10.0             0.000487\n",
      "2016    0.0              0.993207\n",
      "        1.0              0.002911\n",
      "        2.0              0.002426\n",
      "        3.0              0.000970\n",
      "        4.0              0.000485\n",
      "Name: proportion, dtype: float64\n"
     ]
    }
   ],
   "source": [
    "#Value counts and frequency of the column Loan_Rejected by each year\n",
    "pivot_df = pivot_df[pivot_df['Loan_Rejected'] != 98]\n",
    "print(pivot_df.groupby('timeid')['Loan_Rejected'].value_counts(normalize=True))\n"
   ]
  },
  {
   "cell_type": "code",
   "execution_count": null,
   "metadata": {},
   "outputs": [
    {
     "ename": "NameError",
     "evalue": "name 'pivot_df' is not defined",
     "output_type": "error",
     "traceback": [
      "\u001b[0;31m---------------------------------------------------------------------------\u001b[0m",
      "\u001b[0;31mNameError\u001b[0m                                 Traceback (most recent call last)",
      "Cell \u001b[0;32mIn[1], line 3\u001b[0m\n\u001b[1;32m      1\u001b[0m \u001b[38;5;66;03m#pivot_df.groupby('timeid')['Loan_Rejected'].value_counts()\u001b[39;00m\n\u001b[1;32m      2\u001b[0m \u001b[38;5;66;03m#Present results in a table\u001b[39;00m\n\u001b[0;32m----> 3\u001b[0m \u001b[43mpivot_df\u001b[49m\u001b[38;5;241m.\u001b[39mgroupby(\u001b[38;5;124m'\u001b[39m\u001b[38;5;124mtimeid\u001b[39m\u001b[38;5;124m'\u001b[39m)[\u001b[38;5;124m'\u001b[39m\u001b[38;5;124mLoan_Rejected\u001b[39m\u001b[38;5;124m'\u001b[39m]\u001b[38;5;241m.\u001b[39mvalue_counts(normalize\u001b[38;5;241m=\u001b[39m\u001b[38;5;28;01mTrue\u001b[39;00m)\u001b[38;5;241m.\u001b[39munstack()\n",
      "\u001b[0;31mNameError\u001b[0m: name 'pivot_df' is not defined"
     ]
    }
   ],
   "source": [
    "pivot_df.groupby('timeid')['Loan_Rejected'].value_counts()\n",
    "#Present results in a table\n"
   ]
  },
  {
   "cell_type": "code",
   "execution_count": null,
   "metadata": {},
   "outputs": [
    {
     "data": {
      "text/plain": [
       "<Axes: title={'center': 'Loan_Rejected'}, xlabel='timeid'>"
      ]
     },
     "execution_count": 234,
     "metadata": {},
     "output_type": "execute_result"
    },
    {
     "data": {
      "image/png": "[encoded data removed]",
      "text/plain": [
       "<Figure size 640x480 with 1 Axes>"
      ]
     },
     "metadata": {},
     "output_type": "display_data"
    }
   ],
   "source": [
    "#Make a boxplot of loan rejection by year\n",
    "#Leave out the value greater than 98 in the column Loan_Rejected\n",
    "pivot_df = pivot_df[pivot_df['Loan_Rejected'] != 98]\n",
    "pivot_df.boxplot(column='Loan_Rejected', by='timeid')"
   ]
  },
  {
   "cell_type": "code",
   "execution_count": null,
   "metadata": {},
   "outputs": [
    {
     "data": {
      "text/plain": [
       "([<matplotlib.axis.XTick at 0x287189d60>,\n",
       "  <matplotlib.axis.XTick at 0x287189d30>,\n",
       "  <matplotlib.axis.XTick at 0x2872eedf0>,\n",
       "  <matplotlib.axis.XTick at 0x2872f38e0>,\n",
       "  <matplotlib.axis.XTick at 0x2872e84f0>],\n",
       " [Text(0, 0, '0'),\n",
       "  Text(2, 0, '2'),\n",
       "  Text(4, 0, '4'),\n",
       "  Text(6, 0, '6'),\n",
       "  Text(8, 0, '8')])"
      ]
     },
     "execution_count": 235,
     "metadata": {},
     "output_type": "execute_result"
    },
    {
     "data": {
      "image/png": "[encoded data removed]",
      "text/plain": [
       "<Figure size 640x480 with 4 Axes>"
      ]
     },
     "metadata": {},
     "output_type": "display_data"
    }
   ],
   "source": [
    "#Make histogram of loan rejection by year\n",
    "import matplotlib.pyplot as plt\n",
    "pivot_df.hist(column='Loan_Rejected', by='timeid', bins=30)\n",
    "plt.xticks(np.arange(0, 10, step=2))\n"
   ]
  },
  {
   "cell_type": "markdown",
   "metadata": {},
   "source": [
    "**Determinants of insurance uptake**"
   ]
  },
  {
   "cell_type": "markdown",
   "metadata": {},
   "source": [
    "$$\n",
    "\\text{Uptake} = \\beta_1 X_{ijt}^{\\text{econ}} + \\beta_2 X_{ijt}^{\\text{behav}} + \\beta_3 X_{ijt}^{\\text{demo}} + \\beta_4 \\text{Liquidity\\_Constrained} + \\epsilon_{ijt} \\tag{2}\n",
    "$$\n"
   ]
  },
  {
   "cell_type": "code",
   "execution_count": null,
   "metadata": {},
   "outputs": [],
   "source": [
    "pivot_df['Interest_Purchasing'].value_counts()\n",
    "#replace the value 98 with 0 in the column Interest_Purchasing\n",
    "pivot_df['Interest_Purchasing'] = pivot_df['Interest_Purchasing'].replace(98, 0)"
   ]
  },
  {
   "cell_type": "code",
   "execution_count": null,
   "metadata": {},
   "outputs": [],
   "source": [
    "pivot_df['Plot_Investment_Dummy'].value_counts()\n",
    "pivot_df['Plot_Investment_Dummy'] = pivot_df['Plot_Investment_Dummy'].replace(2, 0)"
   ]
  },
  {
   "cell_type": "code",
   "execution_count": null,
   "metadata": {},
   "outputs": [
    {
     "data": {
      "text/plain": [
       "Transfer_Received\n",
       "196.0      1106\n",
       "0.0         935\n",
       "2000.0      160\n",
       "1000.0      148\n",
       "5000.0      136\n",
       "           ... \n",
       "3488.0        1\n",
       "13726.0       1\n",
       "17018.0       1\n",
       "19324.0       1\n",
       "16560.0       1\n",
       "Name: count, Length: 2027, dtype: int64"
      ]
     },
     "execution_count": 238,
     "metadata": {},
     "output_type": "execute_result"
    }
   ],
   "source": [
    "pivot_df['Transfer_Received'].value_counts()"
   ]
  },
  {
   "cell_type": "code",
   "execution_count": null,
   "metadata": {},
   "outputs": [],
   "source": [
    "#Economic variable (plot investment, transfer received, food consumption, annual income) and demean by year\n",
    "pivot_df['Plot_Investment_Dummy_bar'] = pivot_df.groupby(['timeid'])['Plot_Investment_Dummy'].transform('mean')\n",
    "pivot_df['Transfer_Received_bar'] = pivot_df.groupby(['timeid'])['Transfer_Received'].transform('mean')\n",
    "pivot_df['Food_Consumption_bar'] = pivot_df.groupby(['timeid'])['Food_Consumption'].transform('mean')\n",
    "pivot_df['Annual_Income_bar'] = pivot_df.groupby(['timeid'])['Annual_Income'].transform('mean')\n",
    "pivot_df['Plot_Investment_Dummy_tfe'] = pivot_df['Plot_Investment_Dummy'] - pivot_df['Plot_Investment_Dummy_bar']\n",
    "pivot_df['Transfer_Received_tfe'] = pivot_df['Transfer_Received'] - pivot_df['Transfer_Received_bar']\n",
    "pivot_df['Food_Consumption_tfe'] = pivot_df['Food_Consumption'] - pivot_df['Food_Consumption_bar']\n",
    "pivot_df['Annual_Income_tfe'] = pivot_df['Annual_Income'] - pivot_df['Annual_Income_bar']\n"
   ]
  },
  {
   "cell_type": "code",
   "execution_count": null,
   "metadata": {},
   "outputs": [],
   "source": [
    "pivot_df['COCC'].value_counts()\n",
    "pivot_df['COCC'] = pivot_df['COCC'].replace(2, 0)\n",
    "pivot_df['Access_Internet'].value_counts() #Number of household members with internet access\n",
    "pivot_df['Access_Service'].value_counts() #Has households seek advice from the service\n",
    "pivot_df = pivot_df[pivot_df['Access_Service'] != 98] #drop 98 in the column Access_Service\n",
    "pivot_df['Access_Service'] = pivot_df['Access_Service'].replace(2, 0)\n"
   ]
  },
  {
   "cell_type": "code",
   "execution_count": null,
   "metadata": {},
   "outputs": [],
   "source": [
    "#Behavioral variable(COCC, access internet, access service, disaster) and demean by year\n"
   ]
  },
  {
   "cell_type": "code",
   "execution_count": null,
   "metadata": {},
   "outputs": [],
   "source": [
    "#Demographic variable(family size) "
   ]
  }
 ],
 "metadata": {
  "kernelspec": {
   "display_name": "Python 3",
   "language": "python",
   "name": "python3"
  },
  "language_info": {
   "codemirror_mode": {
    "name": "ipython",
    "version": 3
   },
   "file_extension": ".py",
   "mimetype": "text/x-python",
   "name": "python",
   "nbconvert_exporter": "python",
   "pygments_lexer": "ipython3",
   "version": "3.9.6"
  }
 },
 "nbformat": 4,
 "nbformat_minor": 2
}
